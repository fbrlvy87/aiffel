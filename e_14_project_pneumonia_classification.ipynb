{
 "cells": [
  {
   "cell_type": "markdown",
   "id": "hearing-porcelain",
   "metadata": {},
   "source": [
    "# 프로젝트 폐렴 진단기 성능 개선"
   ]
  },
  {
   "cell_type": "markdown",
   "id": "subjective-input",
   "metadata": {},
   "source": [
    "좀전까지 우리는 대략 80% 정도의 정확도를 가진 X-RAY 사진 판독 폐렴 진단기를 만들어 보았습니다.\n",
    "\n",
    "하지만 숙련된 의사분들은 90% 이상에 도달한다고 하니, 좀더 분발해야겠죠?\n",
    "\n",
    "그렇다면 우리는 좀전까지의 실습 과정을 되짚어보면서, 어떤 점을 좀더 개선해볼 수 있을지 따져 보고 스스로 개선해 가면서 좀더 성능을 향상시켜 보려고 합니다."
   ]
  },
  {
   "cell_type": "code",
   "execution_count": 1,
   "id": "modular-engineer",
   "metadata": {
    "ExecuteTime": {
     "end_time": "2021-03-05T07:44:31.812881Z",
     "start_time": "2021-03-05T07:44:30.101661Z"
    }
   },
   "outputs": [],
   "source": [
    "import re    # 정규표현식 관련된 작업에 필요한 패키지\n",
    "import os    # I/O 관련된 작업에 필요한 패키지 \n",
    "import pandas as pd     # 데이터 전처리 관련된 작업에 필요한 패키지\n",
    "import numpy as np      # 데이터 array 작업에 필요한 패키지\n",
    "import tensorflow as tf  # 딥러닝 관련된 작업에 필요한 패키지\n",
    "import matplotlib.pyplot as plt    # 데이터 시각화에 관련된 작업에 필요한 패키지\n",
    "from sklearn.model_selection import train_test_split  # 데이터 전처리에 필요한 패키지"
   ]
  },
  {
   "cell_type": "markdown",
   "id": "oriental-click",
   "metadata": {},
   "source": [
    "---"
   ]
  },
  {
   "cell_type": "markdown",
   "id": "cardiac-deployment",
   "metadata": {},
   "source": [
    "# Step 1. 실험환경 Set-up"
   ]
  },
  {
   "cell_type": "markdown",
   "id": "royal-notice",
   "metadata": {},
   "source": [
    "거의 바꿔볼 수 있을게 없을 것 같지만, Batch size, Epoch 등을 변경해볼 수 있을 것입니다."
   ]
  },
  {
   "cell_type": "code",
   "execution_count": 2,
   "id": "overall-instrumentation",
   "metadata": {
    "ExecuteTime": {
     "end_time": "2021-03-05T07:44:31.817474Z",
     "start_time": "2021-03-05T07:44:31.814365Z"
    }
   },
   "outputs": [
    {
     "name": "stdout",
     "output_type": "stream",
     "text": [
      "/home/aiffel-dj24/aiffel\n"
     ]
    }
   ],
   "source": [
    "# 데이터 로드할 때 빠르게 로드할 수 있도록하는 설정 변수\n",
    "AUTOTUNE = tf.data.experimental.AUTOTUNE\n",
    "\n",
    "# 데이터 ROOT 경로 변수\n",
    "ROOT_PATH = os.path.join(os.getenv('HOME'), 'aiffel')\n",
    "\n",
    "# BATCH_SIZE 변수\n",
    "BATCH_SIZE = 16\n",
    "\n",
    "# X-RAY 이미지 사이즈 변수\n",
    "IMAGE_SIZE = [300, 300]\n",
    "\n",
    "# EPOCH 크기 변수\n",
    "EPOCHS = 25\n",
    "\n",
    "print(ROOT_PATH)"
   ]
  },
  {
   "cell_type": "markdown",
   "id": "former-jones",
   "metadata": {},
   "source": [
    "___"
   ]
  },
  {
   "cell_type": "markdown",
   "id": "martial-entertainment",
   "metadata": {},
   "source": [
    "# Step 2. 데이터 준비하기"
   ]
  },
  {
   "cell_type": "markdown",
   "id": "delayed-extraction",
   "metadata": {},
   "source": [
    "원본 데이터를 가져와서 전처리 및 배치 구성을 진행합니다.\n",
    "의료영상 이미지의 특성상 데이터는 언제나 충분하지 않습니다. 이를 극복할 수 있는 방법을 고민해 봅시다.\n",
    "\n",
    "이전 실습에서 고려하지 않았던 augmentation 기법을 고려해 볼 수 있을 것입니다. 그러나 의료영상인 경우, 일반적인 이미지처리에서 사용하는 augmentation들이 항상 도움이 된다고 말할 수 없습니다. 특히 X-RAY 같은 의료영상의 특성상, 육안으로도 구분하기 어려운 미묘한 차이에 더해진 노이즈 등 부수효과가 오히려 방해를 줄 수도 있기 때문입니다.\n",
    "그래서 augmentation 도입은 신중해야 합니다.\n",
    "\n",
    "만약 예를 들어 좌우반전 정도의 augmentation만 도입한다고 한다면 다음과 같이 진행될 것입니다."
   ]
  },
  {
   "cell_type": "markdown",
   "id": "divided-inflation",
   "metadata": {},
   "source": [
    "## 데이터 가져오기"
   ]
  },
  {
   "cell_type": "code",
   "execution_count": 3,
   "id": "trained-target",
   "metadata": {
    "ExecuteTime": {
     "end_time": "2021-03-05T07:44:31.841001Z",
     "start_time": "2021-03-05T07:44:31.818836Z"
    }
   },
   "outputs": [
    {
     "name": "stdout",
     "output_type": "stream",
     "text": [
      "5216\n",
      "624\n",
      "16\n"
     ]
    }
   ],
   "source": [
    "train_filenames = tf.io.gfile.glob(str(ROOT_PATH + '/chest_xray/train/*/*'))\n",
    "test_filenames = tf.io.gfile.glob(str(ROOT_PATH + '/chest_xray/test/*/*'))\n",
    "val_filenames = tf.io.gfile.glob(str(ROOT_PATH + '/chest_xray/val/*/*'))\n",
    "\n",
    "print(len(train_filenames))\n",
    "print(len(test_filenames))\n",
    "print(len(val_filenames))"
   ]
  },
  {
   "cell_type": "markdown",
   "id": "first-sydney",
   "metadata": {},
   "source": [
    "## 데이터 비율 조정"
   ]
  },
  {
   "cell_type": "markdown",
   "id": "floating-guitar",
   "metadata": {},
   "source": [
    "- train 5216개(89%), test 624개(10.7%), val 16개(0.3%)\n",
    "- val 데이터가 너무 없기 때문에 train에서 val에 쓰일 데이터를 보충\n",
    "- train과 val에 있는 데이터를 모은 다음에 train : val를 80:20으로 분할"
   ]
  },
  {
   "cell_type": "code",
   "execution_count": 4,
   "id": "noticed-membership",
   "metadata": {
    "ExecuteTime": {
     "end_time": "2021-03-05T07:44:31.859939Z",
     "start_time": "2021-03-05T07:44:31.842138Z"
    }
   },
   "outputs": [
    {
     "name": "stdout",
     "output_type": "stream",
     "text": [
      "4185\n",
      "1047\n"
     ]
    }
   ],
   "source": [
    "filenames = tf.io.gfile.glob(str(ROOT_PATH + '/chest_xray/train/*/*'))\n",
    "filenames.extend(tf.io.gfile.glob(str(ROOT_PATH + '/chest_xray/val/*/*')))\n",
    "\n",
    "# train, test(val) dataset으로 분할. test_size에 0.2는 20%롤 의미함.\n",
    "train_filenames, val_filenames = train_test_split(filenames, test_size=0.2)\n",
    "\n",
    "print(len(train_filenames))\n",
    "print(len(val_filenames))"
   ]
  },
  {
   "cell_type": "markdown",
   "id": "standing-pitch",
   "metadata": {},
   "source": [
    "## train 데이터 확인"
   ]
  },
  {
   "cell_type": "code",
   "execution_count": 5,
   "id": "cathedral-arrow",
   "metadata": {
    "ExecuteTime": {
     "end_time": "2021-03-05T07:44:31.864716Z",
     "start_time": "2021-03-05T07:44:31.861033Z"
    }
   },
   "outputs": [
    {
     "name": "stdout",
     "output_type": "stream",
     "text": [
      "Normal images count in training set: 1092\n",
      "Pneumonia images count in training set: 3093\n"
     ]
    }
   ],
   "source": [
    "COUNT_NORMAL = len([filename for filename in train_filenames if \"NORMAL\" in filename])\n",
    "print(\"Normal images count in training set: \" + str(COUNT_NORMAL))\n",
    "\n",
    "COUNT_PNEUMONIA = len([filename for filename in train_filenames if \"PNEUMONIA\" in filename])\n",
    "print(\"Pneumonia images count in training set: \" + str(COUNT_PNEUMONIA))"
   ]
  },
  {
   "cell_type": "markdown",
   "id": "direct-michael",
   "metadata": {},
   "source": [
    "## tf.data 인스턴스 생성"
   ]
  },
  {
   "cell_type": "code",
   "execution_count": 6,
   "id": "cloudy-needle",
   "metadata": {
    "ExecuteTime": {
     "end_time": "2021-03-05T07:44:32.054130Z",
     "start_time": "2021-03-05T07:44:31.866043Z"
    }
   },
   "outputs": [],
   "source": [
    "train_list_ds = tf.data.Dataset.from_tensor_slices(train_filenames)\n",
    "val_list_ds = tf.data.Dataset.from_tensor_slices(val_filenames)"
   ]
  },
  {
   "cell_type": "markdown",
   "id": "beautiful-circus",
   "metadata": {},
   "source": [
    "## train, validation 데이터셋 갯수 확인"
   ]
  },
  {
   "cell_type": "code",
   "execution_count": 7,
   "id": "executed-spring",
   "metadata": {
    "ExecuteTime": {
     "end_time": "2021-03-05T07:44:32.059120Z",
     "start_time": "2021-03-05T07:44:32.056172Z"
    }
   },
   "outputs": [
    {
     "name": "stdout",
     "output_type": "stream",
     "text": [
      "Training images count: 4185\n",
      "Validating images count: 1047\n"
     ]
    }
   ],
   "source": [
    "TRAIN_IMG_COUNT = tf.data.experimental.cardinality(train_list_ds).numpy()\n",
    "print(\"Training images count: \" + str(TRAIN_IMG_COUNT))\n",
    "\n",
    "VAL_IMG_COUNT = tf.data.experimental.cardinality(val_list_ds).numpy()\n",
    "print(\"Validating images count: \" + str(VAL_IMG_COUNT))"
   ]
  },
  {
   "cell_type": "markdown",
   "id": "behind-twist",
   "metadata": {},
   "source": [
    "## 라벨 확인"
   ]
  },
  {
   "cell_type": "code",
   "execution_count": 8,
   "id": "established-taste",
   "metadata": {
    "ExecuteTime": {
     "end_time": "2021-03-05T07:44:32.433626Z",
     "start_time": "2021-03-05T07:44:32.060825Z"
    }
   },
   "outputs": [
    {
     "name": "stdout",
     "output_type": "stream",
     "text": [
      "['PNEUMONIA' 'NORMAL']\n"
     ]
    }
   ],
   "source": [
    "CLASS_NAMES = np.array([str(tf.strings.split(item, os.path.sep)[-1].numpy())[2:-1]\n",
    "                        for item in tf.io.gfile.glob(str(ROOT_PATH + \"/chest_xray/train/*\"))])\n",
    "print(CLASS_NAMES)"
   ]
  },
  {
   "cell_type": "markdown",
   "id": "together-pierce",
   "metadata": {},
   "source": [
    "## 라벨 생성 함수 구현"
   ]
  },
  {
   "cell_type": "code",
   "execution_count": 9,
   "id": "accomplished-screen",
   "metadata": {
    "ExecuteTime": {
     "end_time": "2021-03-05T07:44:32.436775Z",
     "start_time": "2021-03-05T07:44:32.434693Z"
    }
   },
   "outputs": [],
   "source": [
    "def get_label(file_path):\n",
    "    parts = tf.strings.split(file_path, os.path.sep)\n",
    "    return parts[-2] == \"PNEUMONIA\"   \n",
    "    # 폐렴이면 양성(True), 노말이면 음성(False)를 리턴"
   ]
  },
  {
   "cell_type": "markdown",
   "id": "incredible-cement",
   "metadata": {},
   "source": [
    "## decode_img 함수 구현"
   ]
  },
  {
   "cell_type": "markdown",
   "id": "behind-retrieval",
   "metadata": {},
   "source": [
    "- 이미지의 사이즈를 통일\n",
    "- 효울적인 GPU 메모리 사용을 위한 이미지 축소"
   ]
  },
  {
   "cell_type": "code",
   "execution_count": 10,
   "id": "hindu-refrigerator",
   "metadata": {
    "ExecuteTime": {
     "end_time": "2021-03-05T07:44:32.440462Z",
     "start_time": "2021-03-05T07:44:32.438142Z"
    }
   },
   "outputs": [],
   "source": [
    "def decode_img(img):\n",
    "  # 이미지를 uint8 tensor로 변경\n",
    "  img = tf.image.decode_jpeg(img, channels=3)\n",
    "  # img를 범위 [0,1]의 float32 데이터 타입 변경\n",
    "  img = tf.image.convert_image_dtype(img, tf.float32)\n",
    "  # img의 이미지 사이즈를 IMAGE_SIZE에서 지정한 사이즈로 수정\n",
    "  return tf.image.resize(img, IMAGE_SIZE)"
   ]
  },
  {
   "cell_type": "markdown",
   "id": "impaired-recognition",
   "metadata": {},
   "source": [
    "## process_path 함수 구현"
   ]
  },
  {
   "cell_type": "markdown",
   "id": "returning-appliance",
   "metadata": {},
   "source": [
    "- decode_img 함수를 이용해서 이미지의 데이터 타입을 float으로 바꾸고 사이즈를 변경\n",
    "- get_label을 이용해서 라벨 값 호출"
   ]
  },
  {
   "cell_type": "code",
   "execution_count": 11,
   "id": "hungarian-convergence",
   "metadata": {
    "ExecuteTime": {
     "end_time": "2021-03-05T07:44:32.443622Z",
     "start_time": "2021-03-05T07:44:32.441497Z"
    }
   },
   "outputs": [],
   "source": [
    "def process_path(file_path):\n",
    "    label = get_label(file_path)\n",
    "    img = tf.io.read_file(file_path)\n",
    "    img = decode_img(img)\n",
    "    return img, label"
   ]
  },
  {
   "cell_type": "markdown",
   "id": "capable-trinidad",
   "metadata": {},
   "source": [
    "## train, validation 데이터 셋 생성"
   ]
  },
  {
   "cell_type": "code",
   "execution_count": 12,
   "id": "alone-spiritual",
   "metadata": {
    "ExecuteTime": {
     "end_time": "2021-03-05T07:44:32.665103Z",
     "start_time": "2021-03-05T07:44:32.444867Z"
    }
   },
   "outputs": [],
   "source": [
    "train_ds = train_list_ds.map(process_path, num_parallel_calls=AUTOTUNE)\n",
    "val_ds = val_list_ds.map(process_path, num_parallel_calls=AUTOTUNE)"
   ]
  },
  {
   "cell_type": "markdown",
   "id": "homeless-drink",
   "metadata": {},
   "source": [
    "## 이미지 리사이즈 및 라벨 입력 확인"
   ]
  },
  {
   "cell_type": "code",
   "execution_count": 13,
   "id": "coupled-kingdom",
   "metadata": {
    "ExecuteTime": {
     "end_time": "2021-03-05T07:44:32.738389Z",
     "start_time": "2021-03-05T07:44:32.666332Z"
    }
   },
   "outputs": [
    {
     "name": "stdout",
     "output_type": "stream",
     "text": [
      "Image shape:  (300, 300, 3)\n",
      "Label:  False\n"
     ]
    }
   ],
   "source": [
    "for image, label in train_ds.take(1):\n",
    "    print(\"Image shape: \", image.numpy().shape)\n",
    "    print(\"Label: \", label.numpy())"
   ]
  },
  {
   "cell_type": "markdown",
   "id": "congressional-handy",
   "metadata": {},
   "source": [
    "##  test 데이터 셋 생성"
   ]
  },
  {
   "cell_type": "code",
   "execution_count": 14,
   "id": "modular-decrease",
   "metadata": {
    "ExecuteTime": {
     "end_time": "2021-03-05T07:44:32.782880Z",
     "start_time": "2021-03-05T07:44:32.739626Z"
    }
   },
   "outputs": [
    {
     "name": "stdout",
     "output_type": "stream",
     "text": [
      "624\n"
     ]
    }
   ],
   "source": [
    "test_list_ds = tf.data.Dataset.list_files(str(ROOT_PATH + '/chest_xray/test/*/*'))\n",
    "TEST_IMAGE_COUNT = tf.data.experimental.cardinality(test_list_ds).numpy()\n",
    "test_ds = test_list_ds.map(process_path, num_parallel_calls=AUTOTUNE)\n",
    "test_ds = test_ds.batch(BATCH_SIZE)\n",
    "\n",
    "print(TEST_IMAGE_COUNT)"
   ]
  },
  {
   "cell_type": "markdown",
   "id": "important-execution",
   "metadata": {},
   "source": [
    "## augment 함수 구현"
   ]
  },
  {
   "cell_type": "code",
   "execution_count": 15,
   "id": "lined-kentucky",
   "metadata": {
    "ExecuteTime": {
     "end_time": "2021-03-05T07:44:32.786251Z",
     "start_time": "2021-03-05T07:44:32.784093Z"
    }
   },
   "outputs": [],
   "source": [
    "def augment(image,label):\n",
    "    # 랜덤하게 좌우를 반전\n",
    "    image = tf.image.random_flip_left_right(image)\n",
    "    return image,label"
   ]
  },
  {
   "cell_type": "markdown",
   "id": "balanced-premises",
   "metadata": {},
   "source": [
    "## prepare_for_training() 함수 구현"
   ]
  },
  {
   "cell_type": "markdown",
   "id": "broadband-stability",
   "metadata": {},
   "source": [
    "- 학습 데이터를 효율적으로 할 수 있도록 데이터를 변환"
   ]
  },
  {
   "cell_type": "code",
   "execution_count": 16,
   "id": "supposed-arcade",
   "metadata": {
    "ExecuteTime": {
     "end_time": "2021-03-05T07:44:32.791190Z",
     "start_time": "2021-03-05T07:44:32.787329Z"
    }
   },
   "outputs": [],
   "source": [
    "def prepare_for_training(ds, shuffle_buffer_size=1000):\n",
    "    # augment 적용 부분이 배치처리 함수에 추가\n",
    "#     ds = ds.map(\n",
    "#             augment,       # augment 함수 적용\n",
    "#             num_parallel_calls=2\n",
    "#         )\n",
    "    \n",
    "    # 고정 크기 버퍼를 유지하고 해당 버퍼에서 무작위로 균일하게 다음 요소를 선택\n",
    "    ds = ds.shuffle(buffer_size=shuffle_buffer_size)\n",
    "    # 여러번 데이터셋을 사용하게 해 줌\n",
    "    ds = ds.repeat()\n",
    "    # BATCH_SIZE에서 정한 만큼의 배치\n",
    "    ds = ds.batch(BATCH_SIZE)\n",
    "    # 학습데이터를 나눠서 읽어와서 GPU 리소스의 유휴 상태를 줄인\n",
    "    ds = ds.prefetch(buffer_size=AUTOTUNE)\n",
    "\n",
    "    return ds\n",
    "\n",
    "train_ds = prepare_for_training(train_ds)\n",
    "val_ds = prepare_for_training(val_ds)"
   ]
  },
  {
   "cell_type": "markdown",
   "id": "indie-central",
   "metadata": {},
   "source": [
    "---"
   ]
  },
  {
   "cell_type": "markdown",
   "id": "accurate-gates",
   "metadata": {},
   "source": [
    "# Step 3. 데이터 시각화"
   ]
  },
  {
   "cell_type": "markdown",
   "id": "southern-illustration",
   "metadata": {},
   "source": [
    "학습용 데이터를 시각화해서 확인해 봅니다.\n",
    "만약 augmentation을 시도했다면 이후 실습코드에 있는 show_batch() 함수를 통해 실제로 좌우반전 등이 제대로 처리되었는지 확인해 봅시다."
   ]
  },
  {
   "cell_type": "code",
   "execution_count": 17,
   "id": "regional-library",
   "metadata": {
    "ExecuteTime": {
     "end_time": "2021-03-05T07:44:37.774342Z",
     "start_time": "2021-03-05T07:44:32.792185Z"
    }
   },
   "outputs": [
    {
     "data": {
      "image/png": "[encoded data removed]",
      "text/plain": [
       "<Figure size 720x720 with 16 Axes>"
      ]
     },
     "metadata": {
      "needs_background": "light"
     },
     "output_type": "display_data"
    }
   ],
   "source": [
    "image_batch, label_batch = next(iter(train_ds))\n",
    "\n",
    "def show_batch(image_batch, label_batch):\n",
    "    plt.figure(figsize=(10,10))\n",
    "    for n in range(16):\n",
    "        ax = plt.subplot(5,5,n+1)\n",
    "        plt.imshow(image_batch[n])\n",
    "        if label_batch[n]:\n",
    "            plt.title(\"PNEUMONIA\")\n",
    "        else:\n",
    "            plt.title(\"NORMAL\")\n",
    "        plt.axis(\"off\")\n",
    "\n",
    "show_batch(image_batch.numpy(), label_batch.numpy())"
   ]
  },
  {
   "cell_type": "markdown",
   "id": "toxic-blues",
   "metadata": {},
   "source": [
    "---"
   ]
  },
  {
   "cell_type": "markdown",
   "id": "domestic-enough",
   "metadata": {},
   "source": [
    "# Step 4. CNN 모델링"
   ]
  },
  {
   "cell_type": "markdown",
   "id": "flush-momentum",
   "metadata": {},
   "source": [
    "의료영상 판독을 위해 실습에서 구현했던 model에서 다양한 것들을 바꾸어 가며 실험해볼 수 있습니다. Convolution filter, 채널 개수, activation, 모델구조 등을 다양하게 바꾸어볼 수 있습니다.\n",
    "\n",
    "그리고, 우리는 BatchNormalization과 Dropout을 한 모델 안에서 동시에 사용하는 특이한 구성을 실습했습니다.\n",
    "이것은 일반적으로 잘 사용되는 형태는 아닙니다. 하지만 이미지 사이즈가 크고 데이터가 부족한 의료영상에서는 실용적으로 간혹 좋은 성능을 보이기도 합니다. 만약 이 구성을 변경해 보면 어떤 효과가 발생하는지도 실험해 봅시다. BatchNormalization을 쓰거나 혹은 쓰지 않거나, Dropout을 쓰거나 혹은 쓰지 않거나 할 수 있습니다. 또, Dropout 비율을 변경해볼 수도 있습니다."
   ]
  },
  {
   "cell_type": "markdown",
   "id": "removed-yellow",
   "metadata": {},
   "source": [
    "## Convolution block 생성"
   ]
  },
  {
   "cell_type": "code",
   "execution_count": 18,
   "id": "mysterious-china",
   "metadata": {
    "ExecuteTime": {
     "end_time": "2021-03-05T07:44:37.778169Z",
     "start_time": "2021-03-05T07:44:37.775532Z"
    }
   },
   "outputs": [],
   "source": [
    "def conv_block(filters):\n",
    "    block = tf.keras.Sequential([\n",
    "        tf.keras.layers.SeparableConv2D(filters, 3, activation='relu', padding='same'),\n",
    "        tf.keras.layers.SeparableConv2D(filters, 3, activation='relu', padding='same'),\n",
    "        tf.keras.layers.BatchNormalization(),\n",
    "        tf.keras.layers.MaxPool2D()\n",
    "    ]\n",
    "    )\n",
    "    \n",
    "    return block"
   ]
  },
  {
   "cell_type": "markdown",
   "id": "green-rates",
   "metadata": {},
   "source": [
    "## Dense Block 생성"
   ]
  },
  {
   "cell_type": "code",
   "execution_count": 19,
   "id": "comparable-farmer",
   "metadata": {
    "ExecuteTime": {
     "end_time": "2021-03-05T07:44:37.781553Z",
     "start_time": "2021-03-05T07:44:37.779357Z"
    }
   },
   "outputs": [],
   "source": [
    "def dense_block(units, dropout_rate):\n",
    "    block = tf.keras.Sequential([\n",
    "        tf.keras.layers.Dense(units, activation='relu'),\n",
    "        tf.keras.layers.BatchNormalization(),\n",
    "        # tf.keras.layers.Dropout(dropout_rate)\n",
    "    ])\n",
    "    \n",
    "    return block"
   ]
  },
  {
   "cell_type": "markdown",
   "id": "european-rebound",
   "metadata": {},
   "source": [
    "## build_model 함수 구현"
   ]
  },
  {
   "cell_type": "code",
   "execution_count": 20,
   "id": "herbal-lighting",
   "metadata": {
    "ExecuteTime": {
     "end_time": "2021-03-05T07:44:37.786866Z",
     "start_time": "2021-03-05T07:44:37.782616Z"
    }
   },
   "outputs": [],
   "source": [
    "def build_model():\n",
    "    model = tf.keras.Sequential([\n",
    "        tf.keras.Input(shape=(IMAGE_SIZE[0], IMAGE_SIZE[1], 3)),\n",
    "        \n",
    "        tf.keras.layers.Conv2D(16, 3, activation='relu', padding='same'),\n",
    "        tf.keras.layers.Conv2D(16, 3, activation='relu', padding='same'),\n",
    "        tf.keras.layers.MaxPool2D(),\n",
    "        \n",
    "        conv_block(32),\n",
    "        conv_block(64),\n",
    "        \n",
    "        conv_block(128),\n",
    "        tf.keras.layers.Dropout(0.2),\n",
    "        \n",
    "        conv_block(256),\n",
    "        tf.keras.layers.Dropout(0.2),\n",
    "        \n",
    "        tf.keras.layers.Flatten(),\n",
    "        dense_block(512, 0.7),\n",
    "        dense_block(128, 0.5),\n",
    "        dense_block(64, 0.3),\n",
    "        \n",
    "        tf.keras.layers.Dense(1, activation='sigmoid')\n",
    "    ])\n",
    "    \n",
    "    return model"
   ]
  },
  {
   "cell_type": "markdown",
   "id": "favorite-olympus",
   "metadata": {},
   "source": [
    "---"
   ]
  },
  {
   "cell_type": "markdown",
   "id": "solved-mouse",
   "metadata": {},
   "source": [
    "# Step 5. 데이터 imbalance 처리"
   ]
  },
  {
   "cell_type": "markdown",
   "id": "varying-lotus",
   "metadata": {},
   "source": [
    "실습코드에서 데이터의 imbalance 문제에 대처하기 위해 데이터 비율로 나누어진 class_weight를 설정해 주었습니다. 만약 이러한 처리를 생략한다면 어떻게 될까요? 또 recall을 강조하기 위해 폐렴데이터를 잘 맞추는 것을 더 강화하는 효과를 만들어낼 수는 없을까요?"
   ]
  },
  {
   "cell_type": "markdown",
   "id": "monetary-frame",
   "metadata": {},
   "source": [
    "## Weight balancing"
   ]
  },
  {
   "cell_type": "code",
   "execution_count": 21,
   "id": "marine-boating",
   "metadata": {
    "ExecuteTime": {
     "end_time": "2021-03-05T07:44:37.791469Z",
     "start_time": "2021-03-05T07:44:37.788117Z"
    }
   },
   "outputs": [
    {
     "name": "stdout",
     "output_type": "stream",
     "text": [
      "Weight for class 0: 1.92\n",
      "Weight for class 1: 0.68\n"
     ]
    }
   ],
   "source": [
    "weight_for_0 = (1 / COUNT_NORMAL)*(TRAIN_IMG_COUNT)/2.0 \n",
    "weight_for_1 = (1 / COUNT_PNEUMONIA)*(TRAIN_IMG_COUNT)/2.0\n",
    "\n",
    "class_weight = {0: weight_for_0, 1: weight_for_1}\n",
    "\n",
    "print('Weight for class 0: {:.2f}'.format(weight_for_0))\n",
    "print('Weight for class 1: {:.2f}'.format(weight_for_1))"
   ]
  },
  {
   "cell_type": "markdown",
   "id": "wrong-angel",
   "metadata": {},
   "source": [
    "# Step 6. 모델 훈련"
   ]
  },
  {
   "cell_type": "markdown",
   "id": "neural-yugoslavia",
   "metadata": {},
   "source": [
    "loss 함수를 변경하기는 어렵겠지만, optimizer나 learning rate 등의 변화를 고려해볼 수 있을 것입니다."
   ]
  },
  {
   "cell_type": "markdown",
   "id": "sweet-focus",
   "metadata": {},
   "source": [
    "## loss 및 optimizer"
   ]
  },
  {
   "cell_type": "code",
   "execution_count": 22,
   "id": "seeing-while",
   "metadata": {
    "ExecuteTime": {
     "end_time": "2021-03-05T07:44:38.159956Z",
     "start_time": "2021-03-05T07:44:37.794993Z"
    }
   },
   "outputs": [],
   "source": [
    "with tf.device('/GPU:0'):\n",
    "    model = build_model()\n",
    "\n",
    "    METRICS = [\n",
    "        'accuracy',\n",
    "        tf.keras.metrics.Precision(name='precision'),\n",
    "        tf.keras.metrics.Recall(name='recall')\n",
    "    ]\n",
    "    \n",
    "    model.compile(\n",
    "        optimizer='adam',\n",
    "        loss='binary_crossentropy',\n",
    "        metrics=METRICS\n",
    "    )"
   ]
  },
  {
   "cell_type": "code",
   "execution_count": 23,
   "id": "brief-investigation",
   "metadata": {
    "ExecuteTime": {
     "end_time": "2021-03-05T07:44:38.171234Z",
     "start_time": "2021-03-05T07:44:38.162346Z"
    }
   },
   "outputs": [
    {
     "name": "stdout",
     "output_type": "stream",
     "text": [
      "Model: \"sequential_7\"\n",
      "_________________________________________________________________\n",
      "Layer (type)                 Output Shape              Param #   \n",
      "=================================================================\n",
      "conv2d (Conv2D)              (None, 300, 300, 16)      448       \n",
      "_________________________________________________________________\n",
      "conv2d_1 (Conv2D)            (None, 300, 300, 16)      2320      \n",
      "_________________________________________________________________\n",
      "max_pooling2d (MaxPooling2D) (None, 150, 150, 16)      0         \n",
      "_________________________________________________________________\n",
      "sequential (Sequential)      (None, 75, 75, 32)        2160      \n",
      "_________________________________________________________________\n",
      "sequential_1 (Sequential)    (None, 37, 37, 64)        7392      \n",
      "_________________________________________________________________\n",
      "sequential_2 (Sequential)    (None, 18, 18, 128)       27072     \n",
      "_________________________________________________________________\n",
      "dropout (Dropout)            (None, 18, 18, 128)       0         \n",
      "_________________________________________________________________\n",
      "sequential_3 (Sequential)    (None, 9, 9, 256)         103296    \n",
      "_________________________________________________________________\n",
      "dropout_1 (Dropout)          (None, 9, 9, 256)         0         \n",
      "_________________________________________________________________\n",
      "flatten (Flatten)            (None, 20736)             0         \n",
      "_________________________________________________________________\n",
      "sequential_4 (Sequential)    (None, 512)               10619392  \n",
      "_________________________________________________________________\n",
      "sequential_5 (Sequential)    (None, 128)               66176     \n",
      "_________________________________________________________________\n",
      "sequential_6 (Sequential)    (None, 64)                8512      \n",
      "_________________________________________________________________\n",
      "dense_3 (Dense)              (None, 1)                 65        \n",
      "=================================================================\n",
      "Total params: 10,836,833\n",
      "Trainable params: 10,834,465\n",
      "Non-trainable params: 2,368\n",
      "_________________________________________________________________\n"
     ]
    }
   ],
   "source": [
    "model.summary()"
   ]
  },
  {
   "cell_type": "markdown",
   "id": "helpful-denmark",
   "metadata": {},
   "source": [
    "## 모델 학습"
   ]
  },
  {
   "cell_type": "code",
   "execution_count": 24,
   "id": "seeing-harbor",
   "metadata": {
    "ExecuteTime": {
     "end_time": "2021-03-05T08:05:36.687778Z",
     "start_time": "2021-03-05T07:44:38.172453Z"
    }
   },
   "outputs": [
    {
     "name": "stdout",
     "output_type": "stream",
     "text": [
      "Epoch 1/25\n",
      "261/261 [==============================] - 50s 190ms/step - loss: 0.2391 - accuracy: 0.9085 - precision: 0.9734 - recall: 0.9008 - val_loss: 0.7373 - val_accuracy: 0.7538 - val_precision: 0.7538 - val_recall: 1.0000\n",
      "Epoch 2/25\n",
      "261/261 [==============================] - 43s 163ms/step - loss: 0.1637 - accuracy: 0.9346 - precision: 0.9782 - recall: 0.9323 - val_loss: 1.0559 - val_accuracy: 0.7567 - val_precision: 0.7567 - val_recall: 1.0000\n",
      "Epoch 3/25\n",
      "261/261 [==============================] - 51s 195ms/step - loss: 0.1412 - accuracy: 0.9473 - precision: 0.9838 - recall: 0.9443 - val_loss: 0.0869 - val_accuracy: 0.9760 - val_precision: 0.9872 - val_recall: 0.9809\n",
      "Epoch 4/25\n",
      "261/261 [==============================] - 41s 159ms/step - loss: 0.1079 - accuracy: 0.9605 - precision: 0.9890 - recall: 0.9572 - val_loss: 0.1967 - val_accuracy: 0.9067 - val_precision: 0.8919 - val_recall: 0.9975\n",
      "Epoch 5/25\n",
      "261/261 [==============================] - 50s 193ms/step - loss: 0.1080 - accuracy: 0.9559 - precision: 0.9849 - recall: 0.9549 - val_loss: 0.4476 - val_accuracy: 0.8750 - val_precision: 1.0000 - val_recall: 0.8342\n",
      "Epoch 6/25\n",
      "261/261 [==============================] - 47s 179ms/step - loss: 0.0764 - accuracy: 0.9751 - precision: 0.9937 - recall: 0.9725 - val_loss: 0.1494 - val_accuracy: 0.9510 - val_precision: 0.9960 - val_recall: 0.9389\n",
      "Epoch 7/25\n",
      "261/261 [==============================] - 47s 180ms/step - loss: 0.0762 - accuracy: 0.9725 - precision: 0.9914 - recall: 0.9711 - val_loss: 0.0960 - val_accuracy: 0.9683 - val_precision: 0.9712 - val_recall: 0.9873\n",
      "Epoch 8/25\n",
      "261/261 [==============================] - 44s 169ms/step - loss: 0.0696 - accuracy: 0.9744 - precision: 0.9927 - recall: 0.9724 - val_loss: 0.1241 - val_accuracy: 0.9615 - val_precision: 0.9819 - val_recall: 0.9669\n",
      "Epoch 9/25\n",
      "261/261 [==============================] - 50s 191ms/step - loss: 0.0799 - accuracy: 0.9701 - precision: 0.9917 - recall: 0.9676 - val_loss: 0.1355 - val_accuracy: 0.9615 - val_precision: 0.9882 - val_recall: 0.9605\n",
      "Epoch 10/25\n",
      "261/261 [==============================] - 47s 179ms/step - loss: 0.0654 - accuracy: 0.9770 - precision: 0.9937 - recall: 0.9751 - val_loss: 0.1037 - val_accuracy: 0.9625 - val_precision: 0.9593 - val_recall: 0.9923\n",
      "Epoch 11/25\n",
      "261/261 [==============================] - 48s 185ms/step - loss: 0.0599 - accuracy: 0.9761 - precision: 0.9931 - recall: 0.9744 - val_loss: 0.0622 - val_accuracy: 0.9808 - val_precision: 0.9910 - val_recall: 0.9834\n",
      "Epoch 12/25\n",
      "261/261 [==============================] - 50s 190ms/step - loss: 0.0428 - accuracy: 0.9861 - precision: 0.9957 - recall: 0.9854 - val_loss: 0.1865 - val_accuracy: 0.9471 - val_precision: 1.0000 - val_recall: 0.9301\n",
      "Epoch 13/25\n",
      "261/261 [==============================] - 44s 169ms/step - loss: 0.0387 - accuracy: 0.9868 - precision: 0.9967 - recall: 0.9854 - val_loss: 0.0717 - val_accuracy: 0.9798 - val_precision: 0.9835 - val_recall: 0.9898\n",
      "Epoch 14/25\n",
      "261/261 [==============================] - 49s 189ms/step - loss: 0.0411 - accuracy: 0.9852 - precision: 0.9951 - recall: 0.9848 - val_loss: 0.8820 - val_accuracy: 0.8442 - val_precision: 0.9952 - val_recall: 0.7972\n",
      "Epoch 15/25\n",
      "261/261 [==============================] - 46s 176ms/step - loss: 0.0527 - accuracy: 0.9787 - precision: 0.9941 - recall: 0.9771 - val_loss: 0.0865 - val_accuracy: 0.9740 - val_precision: 0.9948 - val_recall: 0.9707\n",
      "Epoch 16/25\n",
      "261/261 [==============================] - 54s 205ms/step - loss: 0.0360 - accuracy: 0.9859 - precision: 0.9961 - recall: 0.9848 - val_loss: 0.0885 - val_accuracy: 0.9750 - val_precision: 0.9961 - val_recall: 0.9707\n",
      "Epoch 17/25\n",
      "261/261 [==============================] - 50s 190ms/step - loss: 0.0367 - accuracy: 0.9866 - precision: 0.9964 - recall: 0.9854 - val_loss: 0.1000 - val_accuracy: 0.9683 - val_precision: 0.9677 - val_recall: 0.9911\n",
      "Epoch 18/25\n",
      "261/261 [==============================] - 50s 191ms/step - loss: 0.0462 - accuracy: 0.9825 - precision: 0.9954 - recall: 0.9809 - val_loss: 0.0651 - val_accuracy: 0.9798 - val_precision: 0.9872 - val_recall: 0.9860\n",
      "Epoch 19/25\n",
      "261/261 [==============================] - 48s 183ms/step - loss: 0.0420 - accuracy: 0.9842 - precision: 0.9957 - recall: 0.9828 - val_loss: 6.8870 - val_accuracy: 0.7769 - val_precision: 0.7740 - val_recall: 0.9949\n",
      "Epoch 20/25\n",
      "261/261 [==============================] - 49s 188ms/step - loss: 0.0384 - accuracy: 0.9861 - precision: 0.9958 - recall: 0.9854 - val_loss: 0.0748 - val_accuracy: 0.9798 - val_precision: 0.9922 - val_recall: 0.9808\n",
      "Epoch 21/25\n",
      "261/261 [==============================] - 47s 179ms/step - loss: 0.0316 - accuracy: 0.9890 - precision: 0.9971 - recall: 0.9880 - val_loss: 0.2521 - val_accuracy: 0.9288 - val_precision: 0.9863 - val_recall: 0.9184\n",
      "Epoch 22/25\n",
      "261/261 [==============================] - 47s 181ms/step - loss: 0.0356 - accuracy: 0.9883 - precision: 0.9971 - recall: 0.9871 - val_loss: 0.0723 - val_accuracy: 0.9721 - val_precision: 0.9785 - val_recall: 0.9847\n",
      "Epoch 23/25\n",
      "261/261 [==============================] - 48s 184ms/step - loss: 0.0276 - accuracy: 0.9904 - precision: 0.9967 - recall: 0.9903 - val_loss: 0.0708 - val_accuracy: 0.9827 - val_precision: 0.9885 - val_recall: 0.9885\n",
      "Epoch 24/25\n",
      "261/261 [==============================] - 46s 175ms/step - loss: 0.0175 - accuracy: 0.9928 - precision: 0.9984 - recall: 0.9919 - val_loss: 0.0748 - val_accuracy: 0.9798 - val_precision: 0.9897 - val_recall: 0.9834\n",
      "Epoch 25/25\n",
      "261/261 [==============================] - 47s 179ms/step - loss: 0.0090 - accuracy: 0.9966 - precision: 0.9987 - recall: 0.9968 - val_loss: 0.4536 - val_accuracy: 0.9288 - val_precision: 0.9395 - val_recall: 0.9682\n"
     ]
    }
   ],
   "source": [
    "with tf.device('/GPU:0'):\n",
    "    history = model.fit(\n",
    "        train_ds,\n",
    "        steps_per_epoch=TRAIN_IMG_COUNT // BATCH_SIZE,\n",
    "        epochs=EPOCHS,\n",
    "        validation_data=val_ds,\n",
    "        validation_steps=VAL_IMG_COUNT // BATCH_SIZE,\n",
    "        class_weight=class_weight,\n",
    "    )"
   ]
  },
  {
   "cell_type": "markdown",
   "id": "discrete-flush",
   "metadata": {},
   "source": [
    "---"
   ]
  },
  {
   "cell_type": "markdown",
   "id": "wanted-cartridge",
   "metadata": {},
   "source": [
    "# Step 7. 결과 확인과 시각화"
   ]
  },
  {
   "cell_type": "markdown",
   "id": "informed-thailand",
   "metadata": {},
   "source": [
    "테스트데이터로 훈련된 모델을 평가해 봅시다. 우선은 accuracy를 고려해야겠지만 의료영상 모델의 특성상 recall도 중요합니다. 훈련과정의 history 그래프를 시각화해 보고, 학습 진행양상을 면밀히 분석해 보는 것도 잊지 않도록 합시다."
   ]
  },
  {
   "cell_type": "markdown",
   "id": "bizarre-january",
   "metadata": {},
   "source": [
    "## precision, recall, accuracy, loss 시각화"
   ]
  },
  {
   "cell_type": "code",
   "execution_count": 25,
   "id": "fewer-anderson",
   "metadata": {
    "ExecuteTime": {
     "end_time": "2021-03-05T08:05:37.141573Z",
     "start_time": "2021-03-05T08:05:36.689654Z"
    }
   },
   "outputs": [
    {
     "data": {
      "image/png": "[encoded data removed]",
      "text/plain": [
       "<Figure size 1440x216 with 4 Axes>"
      ]
     },
     "metadata": {
      "needs_background": "light"
     },
     "output_type": "display_data"
    }
   ],
   "source": [
    "fig, ax = plt.subplots(1, 4, figsize=(20, 3))\n",
    "ax = ax.ravel()\n",
    "\n",
    "for i, met in enumerate(['precision', 'recall', 'accuracy', 'loss']):\n",
    "    ax[i].plot(history.history[met])\n",
    "    ax[i].plot(history.history['val_' + met])\n",
    "    ax[i].set_title('Model {}'.format(met))\n",
    "    ax[i].set_xlabel('epochs')\n",
    "    ax[i].set_ylabel(met)\n",
    "    ax[i].legend(['train', 'val'])"
   ]
  },
  {
   "cell_type": "markdown",
   "id": "dimensional-february",
   "metadata": {},
   "source": [
    "## 모델 평가"
   ]
  },
  {
   "cell_type": "code",
   "execution_count": 26,
   "id": "attractive-facing",
   "metadata": {
    "ExecuteTime": {
     "end_time": "2021-03-05T08:05:40.210276Z",
     "start_time": "2021-03-05T08:05:37.142963Z"
    },
    "scrolled": false
   },
   "outputs": [
    {
     "name": "stdout",
     "output_type": "stream",
     "text": [
      "39/39 [==============================] - 3s 72ms/step - loss: 3.6729 - accuracy: 0.7035 - precision: 0.6808 - recall: 0.9897\n"
     ]
    }
   ],
   "source": [
    "loss, acc, prec, rec = model.evaluate(test_ds)"
   ]
  },
  {
   "cell_type": "markdown",
   "id": "informed-milwaukee",
   "metadata": {},
   "source": [
    "---"
   ]
  },
  {
   "cell_type": "markdown",
   "id": "understanding-supplement",
   "metadata": {},
   "source": [
    "## 결과 모음"
   ]
  },
  {
   "cell_type": "markdown",
   "id": "comparative-saying",
   "metadata": {},
   "source": [
    "__기본__  \n",
    "BATCH_SIZE = 16, IMAGE_SIZE = [180, 180], EPOCHS = 25, Conv Block Dropout(0.2)  \n",
    "loss: 1.3397 - accuracy: 0.7532 - precision: 0.7185 - recall: 0.9949"
   ]
  },
  {
   "cell_type": "markdown",
   "id": "southern-processor",
   "metadata": {},
   "source": [
    "__1번째 시도__   \n",
    "IMAGE_SIZE = [500, 500], augment(랜덤 좌우 반전) 사용  \n",
    "loss: 1.3122 - accuracy: 0.7372 - precision: 0.7062 - recall: 0.9923"
   ]
  },
  {
   "cell_type": "markdown",
   "id": "british-thing",
   "metadata": {},
   "source": [
    "__2번째 시도__  \n",
    "IMAGE_SIZE = [300, 300], EPOCHS = 10, augment(랜덤 좌우 반전) 사용, Dense Block BatchNormalization 미사용  \n",
    "loss: 15.1210 - accuracy: 0.6250 - precision: 0.6250 - recall: 1.0000"
   ]
  },
  {
   "cell_type": "markdown",
   "id": "exterior-massachusetts",
   "metadata": {},
   "source": [
    "__3번째 시도__  \n",
    "IMAGE_SIZE = [300, 300], EPOCHS = 10, augment(랜덤 좌우 반전) 사용, Dense Block Dropout 미사용  \n",
    "loss: 0.6634 - accuracy: 0.8429 - precision: 0.8067 - recall: 0.9846"
   ]
  },
  {
   "cell_type": "markdown",
   "id": "insured-delta",
   "metadata": {},
   "source": [
    "__4번째 시도__  \n",
    "IMAGE_SIZE = [300, 300], EPOCHS = 10, augment(랜덤 좌우 반전) 사용, class_weight 미설정  \n",
    "loss: 0.9453 - accuracy: 0.7596 - precision: 0.7230 - recall: 0.9974"
   ]
  },
  {
   "cell_type": "markdown",
   "id": "behavioral-irish",
   "metadata": {},
   "source": [
    "__5번째 시도__  \n",
    "BATCH_SIZE = 32, IMAGE_SIZE = [300, 300], EPOCHS = 10, augment(랜덤 좌우 반전) 사용  \n",
    "loss: 1.0670 - accuracy: 0.7023 - precision: 0.6768 - recall: 1.0000"
   ]
  },
  {
   "cell_type": "markdown",
   "id": "sustainable-literacy",
   "metadata": {},
   "source": [
    "__6번째 시도__  \n",
    "BATCH_SIZE = 8, IMAGE_SIZE = [300, 300], EPOCHS = 10, augment(랜덤 좌우 반전) 사용  \n",
    "loss: 0.5885 - accuracy: 0.7740 - precision: 0.7475 - recall: 0.9641"
   ]
  },
  {
   "cell_type": "markdown",
   "id": "seeing-impact",
   "metadata": {},
   "source": [
    "__7번째 시도__  \n",
    "IMAGE_SIZE = [300, 300], EPOCHS = 10, Dense Block Dropout 미사용  \n",
    "loss: 1.0288 - accuracy: 0.8237 - precision: 0.7929 - recall: 0.9718"
   ]
  },
  {
   "cell_type": "markdown",
   "id": "unable-entrepreneur",
   "metadata": {},
   "source": [
    "__8번째 시도__  \n",
    "IMAGE_SIZE = [300, 300], EPOCHS = 10, Conv Block Dropout(0.5) 적용  \n",
    "loss: 0.5414 - accuracy: 0.8045 - precision: 0.8073 - recall: 0.9026"
   ]
  },
  {
   "cell_type": "markdown",
   "id": "virgin-engineering",
   "metadata": {},
   "source": [
    "__9번째 시도__  \n",
    "IMAGE_SIZE = [300, 300], EPOCHS = 10, Conv Block과 Dense Block Dropout 미사용  \n",
    "loss: 1.4580 - accuracy: 0.6987 - precision: 0.6753 - recall: 0.9974"
   ]
  },
  {
   "cell_type": "markdown",
   "id": "chronic-momentum",
   "metadata": {},
   "source": [
    "__10번째 시도__  \n",
    "IMAGE_SIZE = [500, 500], EPOCHS = 15, Dense Block Dropout 미사용  \n",
    "loss: 1.1688 - accuracy: 0.7660 - precision: 0.7285 - recall: 0.9974"
   ]
  },
  {
   "cell_type": "markdown",
   "id": "alert-allah",
   "metadata": {},
   "source": [
    "__11번째 시도__  \n",
    "IMAGE_SIZE = [500, 500], EPOCHS = 15, augment(랜덤 좌우 반전) 사용, Dense Block Dropout 미사용  \n",
    "loss: 3.4511 - accuracy: 0.6410 - precision: 0.6370 - recall: 0.9897"
   ]
  },
  {
   "cell_type": "markdown",
   "id": "turned-vanilla",
   "metadata": {},
   "source": [
    "__12번째 시도__  \n",
    "IMAGE_SIZE = [200, 200], EPOCHS = 10, augment(랜덤 좌우 반전) 사용, Dense Block Dropout 미사용  \n",
    "loss: 0.9370 - accuracy: 0.7099 - precision: 0.6830 - recall: 1.0000"
   ]
  },
  {
   "cell_type": "markdown",
   "id": "joint-visitor",
   "metadata": {},
   "source": [
    "__13번째 시도__  \n",
    "IMAGE_SIZE = [300, 300], EPOCHS = 10, augment(랜덤 좌우 반전) 사용, Conv Block Dropout(0.5) 적용  \n",
    "loss: 0.4233 - accuracy: 0.8429 - precision: 0.9424 - recall: 0.7974"
   ]
  },
  {
   "cell_type": "markdown",
   "id": "political-touch",
   "metadata": {},
   "source": [
    "__14번째 시도__  \n",
    "IMAGE_SIZE = [400, 400], EPOCHS = 10, augment(랜덤 좌우 반전) 사용, Conv Block Dropout(0.5) 적용  \n",
    "loss: 0.6381 - accuracy: 0.8317 - precision: 0.8013 - recall: 0.9718"
   ]
  },
  {
   "cell_type": "markdown",
   "id": "recent-endorsement",
   "metadata": {},
   "source": [
    "__15번째 시도__  \n",
    "IMAGE_SIZE = [300, 300], EPOCHS = 10, augment(랜덤 좌우 반전) 사용, Conv Block Dropout(0.5) 적용, Conv Block과 Dense Block BatchNormalization() 미사용  \n",
    "loss: 0.6924 - accuracy: 0.6250 - precision: 0.6250 - recall: 1.0000"
   ]
  },
  {
   "cell_type": "markdown",
   "id": "popular-munich",
   "metadata": {},
   "source": [
    "__16번째 시도__  \n",
    "IMAGE_SIZE = [350, 350], EPOCHS = 10, augment(랜덤 좌우 반전) 사용, Conv Block Dropout(0.5) 적용  \n",
    "loss: 0.5611 - accuracy: 0.8093 - precision: 0.8362 - recall: 0.8641"
   ]
  },
  {
   "cell_type": "markdown",
   "id": "boring-grounds",
   "metadata": {},
   "source": [
    "__17번째 시도__  \n",
    "IMAGE_SIZE = [300, 300], EPOCHS = 20, augment(랜덤 좌우 반전) 사용, Conv Block Dropout(0.5) 적용  \n",
    "loss: 0.9092 - accuracy: 0.7580 - precision: 0.7242 - recall: 0.9897"
   ]
  },
  {
   "cell_type": "markdown",
   "id": "southeast-sport",
   "metadata": {},
   "source": [
    "__18번째 시도__  \n",
    "IMAGE_SIZE = [300, 300], EPOCHS = 5, augment(랜덤 좌우 반전) 사용, Conv Block Dropout(0.5) 적용  \n",
    "loss: 1.2770 - accuracy: 0.7003 - precision: 0.6790 - recall: 0.9872"
   ]
  },
  {
   "cell_type": "markdown",
   "id": "average-return",
   "metadata": {},
   "source": [
    "__19번째 시도__  \n",
    "IMAGE_SIZE = [300, 300], EPOCHS = 10, augment(랜덤 좌우 반전) 사용  \n",
    "loss: 1.0138 - accuracy: 0.7420 - precision: 0.7101 - recall: 0.9923"
   ]
  },
  {
   "cell_type": "markdown",
   "id": "former-terry",
   "metadata": {},
   "source": [
    "__20번째 시도__  \n",
    "IMAGE_SIZE = [300, 300], EPOCHS = 10  \n",
    "loss: 0.7405 - accuracy: 0.7965 - precision: 0.7594 - recall: 0.9872"
   ]
  },
  {
   "cell_type": "markdown",
   "id": "brutal-ballet",
   "metadata": {},
   "source": [
    "__21번째 시도__  \n",
    "IMAGE_SIZE = [300, 300], EPOCHS = 10, augment(랜덤 좌우 반전) 사용, Conv Block Dropout 미사용  \n",
    "loss: 0.7571 - accuracy: 0.7740 - precision: 0.7380 - recall: 0.9897"
   ]
  },
  {
   "cell_type": "markdown",
   "id": "industrial-israeli",
   "metadata": {},
   "source": [
    "__22번째 시도__  \n",
    "IMAGE_SIZE = [300, 300], EPOCHS = 20, augment(랜덤 좌우 반전) 사용  \n",
    "loss: 0.9375 - accuracy: 0.7484 - precision: 0.7145 - recall: 0.9949"
   ]
  },
  {
   "cell_type": "markdown",
   "id": "precious-tutorial",
   "metadata": {},
   "source": [
    "__23번째 시도__  \n",
    "IMAGE_SIZE = [300, 300], EPOCHS = 10, augment(랜덤 좌우 반전) 사용, Conv Block Dropout(0.8) 적용  \n",
    "loss: 1.8581 - accuracy: 0.6346 - precision: 0.6311 - recall: 1.0000"
   ]
  },
  {
   "cell_type": "markdown",
   "id": "possible-paragraph",
   "metadata": {},
   "source": [
    "__24번째 시도__(3번째 시도 재반복)  \n",
    "IMAGE_SIZE = [300, 300], EPOCHS = 10, augment(랜덤 좌우 반전) 사용, Dense Block Dropout 미사용  \n",
    "loss: 0.8036 - accuracy: 0.7917 - precision: 0.7549 - recall: 0.9872"
   ]
  },
  {
   "cell_type": "markdown",
   "id": "adopted-miller",
   "metadata": {},
   "source": [
    "__25번째 시도__  \n",
    "IMAGE_SIZE = [180, 180], EPOCHS = 25, augment(랜덤 좌우 반전) 사용  \n",
    "loss: 1.4974 - accuracy: 0.7019 - precision: 0.6777 - recall: 0.9974"
   ]
  },
  {
   "cell_type": "markdown",
   "id": "experienced-details",
   "metadata": {},
   "source": [
    "__26번째 시도__  \n",
    "IMAGE_SIZE = [300, 300], EPOCHS = 25  \n",
    "loss: 0.8542 - accuracy: 0.8029 - precision: 0.7665 - recall: 0.9846"
   ]
  },
  {
   "cell_type": "markdown",
   "id": "fleet-italic",
   "metadata": {},
   "source": [
    "__27번째 시도__  \n",
    "IMAGE_SIZE = [300, 300], EPOCHS = 25, Dense Block Dropout 미사용  \n",
    "loss: 3.6729 - accuracy: 0.7035 - precision: 0.6808 - recall: 0.9897"
   ]
  },
  {
   "cell_type": "markdown",
   "id": "likely-coalition",
   "metadata": {},
   "source": [
    "---"
   ]
  },
  {
   "cell_type": "markdown",
   "id": "civilian-radar",
   "metadata": {},
   "source": [
    "# 루브릭"
   ]
  },
  {
   "cell_type": "markdown",
   "id": "julian-insured",
   "metadata": {},
   "source": [
    "__1. 의료영상을 처리하는 CNN 기반 딥러닝 모델이 잘 구현되었다.__  \n",
    "_(모델 학습이 안정적으로 수렴하는 것을 시각화를 통해 확인하였다.)_"
   ]
  },
  {
   "cell_type": "markdown",
   "id": "front-landscape",
   "metadata": {},
   "source": [
    "- 결과 확인을 위한 시각화를 통해 모델 학습이 안정적으로 수렴하는 것을 확인하였다."
   ]
  },
  {
   "cell_type": "markdown",
   "id": "verbal-apollo",
   "metadata": {},
   "source": [
    "__2. 데이터 준비, 모델구성 등의 과정의 다양한 실험이 체계적으로 수행되었다.__  \n",
    "_(regularization, augmentation 등의 기법의 사용 여부에 따른 모델 성능 측정이 ablation study 형태로 체계적으로 수행되었다.)_"
   ]
  },
  {
   "cell_type": "markdown",
   "id": "alpha-honolulu",
   "metadata": {},
   "source": [
    "- Batch size 변경, Epoch 변경, augmentation 적용 여부, BatchNormalization 사용 여부, Dropout 사용 여부, Dropout 비율 변경, class_weight 설정 여부 등 다양한 조건을 변경하며 학습을 시도했다."
   ]
  },
  {
   "cell_type": "markdown",
   "id": "numerical-referral",
   "metadata": {},
   "source": [
    "__3. 실습코드를 잘 개선하여 폐렴 검출 정확도가 추가로 향상되었다.__  \n",
    "_(Accuracy 기준 85%에 도달하였다.)_"
   ]
  },
  {
   "cell_type": "markdown",
   "id": "widespread-myanmar",
   "metadata": {},
   "source": [
    "- IMAGE_SIZE = [300, 300], EPOCHS = 10, augment(랜덤 좌우 반전) 사용, Dense Block Dropout 미사용하여 기존보다 개선된 0.8429까지 도달하였으나 85%까지 달성하지 못했다."
   ]
  },
  {
   "cell_type": "markdown",
   "id": "abandoned-execution",
   "metadata": {},
   "source": [
    "---"
   ]
  },
  {
   "cell_type": "markdown",
   "id": "surface-triple",
   "metadata": {},
   "source": [
    "# 회고"
   ]
  },
  {
   "cell_type": "markdown",
   "id": "intellectual-exhibit",
   "metadata": {},
   "source": [
    "1. 프로젝트 진행시 어려웠던 점\n",
    "2. 프로젝트를 진행하면서 알아낸 점 또는 아직 모호한 점\n",
    "3. 루브릭 평가 지표를 맞추기 위해 시도한 점\n",
    "4. 루브릭 평가 지표를 달성하지 못한 이유\n",
    "5. 프로젝트 진행 후 느낀 점 및 다짐"
   ]
  },
  {
   "cell_type": "markdown",
   "id": "small-haiti",
   "metadata": {},
   "source": [
    "- 3번째 학습 시도에서 정확도가 85%에 근접해 조금만 수정하면 될 줄 알았는데 오히려 멀어지면서 많은 시간이 걸렸다.\n",
    "- 평가 지표를 달성하기 위해 여러차례 다양한 조건들 변경하면서 시도했지만 상관관계를 파악하지 못해 정확도 85%를 달성하지 못했다.\n",
    "- 모델 구성 시 각 요소들이 어떻게 작용하는지 자세히 알아봐야 겠다."
   ]
  }
 ],
 "metadata": {
  "kernelspec": {
   "display_name": "aiffel",
   "language": "python",
   "name": "aiffel"
  },
  "language_info": {
   "codemirror_mode": {
    "name": "ipython",
    "version": 3
   },
   "file_extension": ".py",
   "mimetype": "text/x-python",
   "name": "python",
   "nbconvert_exporter": "python",
   "pygments_lexer": "ipython3",
   "version": "3.7.9"
  },
  "toc": {
   "base_numbering": 1,
   "nav_menu": {},
   "number_sections": true,
   "sideBar": true,
   "skip_h1_title": false,
   "title_cell": "Table of Contents",
   "title_sidebar": "Contents",
   "toc_cell": false,
   "toc_position": {},
   "toc_section_display": true,
   "toc_window_display": true
  },
  "varInspector": {
   "cols": {
    "lenName": 16,
    "lenType": 16,
    "lenVar": 40
   },
   "kernels_config": {
    "python": {
     "delete_cmd_postfix": "",
     "delete_cmd_prefix": "del ",
     "library": "var_list.py",
     "varRefreshCmd": "print(var_dic_list())"
    },
    "r": {
     "delete_cmd_postfix": ") ",
     "delete_cmd_prefix": "rm(",
     "library": "var_list.r",
     "varRefreshCmd": "cat(var_dic_list()) "
    }
   },
   "position": {
    "height": "775px",
    "left": "1483px",
    "right": "20px",
    "top": "120px",
    "width": "350px"
   },
   "types_to_exclude": [
    "module",
    "function",
    "builtin_function_or_method",
    "instance",
    "_Feature"
   ],
   "window_display": false
  }
 },
 "nbformat": 4,
 "nbformat_minor": 5
}
