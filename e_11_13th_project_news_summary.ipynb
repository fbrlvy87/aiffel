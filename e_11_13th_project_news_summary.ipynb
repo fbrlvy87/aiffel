{
 "cells": [
  {
   "cell_type": "markdown",
   "id": "meaning-funeral",
   "metadata": {},
   "source": [
    "# 11-13. 프로젝트: 뉴스기사 요약해보기"
   ]
  },
  {
   "cell_type": "markdown",
   "id": "substantial-campbell",
   "metadata": {},
   "source": [
    "---"
   ]
  },
  {
   "cell_type": "code",
   "execution_count": 5,
   "id": "improving-gregory",
   "metadata": {},
   "outputs": [
    {
     "name": "stderr",
     "output_type": "stream",
     "text": [
      "[nltk_data] Downloading package stopwords to /home/aiffel-\n",
      "[nltk_data]     dj24/nltk_data...\n",
      "[nltk_data]   Package stopwords is already up-to-date!\n"
     ]
    }
   ],
   "source": [
    "import nltk\n",
    "nltk.download('stopwords')\n",
    "\n",
    "import numpy as np\n",
    "import pandas as pd\n",
    "import os\n",
    "import re\n",
    "import matplotlib.pyplot as plt\n",
    "from nltk.corpus import stopwords\n",
    "from bs4 import BeautifulSoup \n",
    "from tensorflow.keras.preprocessing.text import Tokenizer \n",
    "from tensorflow.keras.preprocessing.sequence import pad_sequences\n",
    "import urllib.request"
   ]
  },
  {
   "cell_type": "markdown",
   "id": "viral-dover",
   "metadata": {},
   "source": [
    "## Step 1. 데이터 수집하기"
   ]
  },
  {
   "cell_type": "markdown",
   "id": "south-entry",
   "metadata": {},
   "source": [
    "### 데이터 다운로드"
   ]
  },
  {
   "cell_type": "code",
   "execution_count": 6,
   "id": "photographic-things",
   "metadata": {},
   "outputs": [
    {
     "name": "stdout",
     "output_type": "stream",
     "text": [
      "전체 샘플수 : 98401\n"
     ]
    }
   ],
   "source": [
    "import urllib.request\n",
    "urllib.request.urlretrieve(\"https://raw.githubusercontent.com/sunnysai12345/News_Summary/master/news_summary_more.csv\", filename=\"news_summary_more.csv\")\n",
    "data = pd.read_csv('news_summary_more.csv', encoding='iso-8859-1')\n",
    "print('전체 샘플수 :',(len(data)))"
   ]
  },
  {
   "cell_type": "markdown",
   "id": "blank-truck",
   "metadata": {},
   "source": [
    "### 데이터 샘플 확인"
   ]
  },
  {
   "cell_type": "code",
   "execution_count": 4,
   "id": "acknowledged-accommodation",
   "metadata": {},
   "outputs": [
    {
     "data": {
      "text/html": [
       "<div>\n",
       "<style scoped>\n",
       "    .dataframe tbody tr th:only-of-type {\n",
       "        vertical-align: middle;\n",
       "    }\n",
       "\n",
       "    .dataframe tbody tr th {\n",
       "        vertical-align: top;\n",
       "    }\n",
       "\n",
       "    .dataframe thead th {\n",
       "        text-align: right;\n",
       "    }\n",
       "</style>\n",
       "<table border=\"1\" class=\"dataframe\">\n",
       "  <thead>\n",
       "    <tr style=\"text-align: right;\">\n",
       "      <th></th>\n",
       "      <th>headlines</th>\n",
       "      <th>text</th>\n",
       "    </tr>\n",
       "  </thead>\n",
       "  <tbody>\n",
       "    <tr>\n",
       "      <th>31524</th>\n",
       "      <td>Collegium to again name judge for SC post Cent...</td>\n",
       "      <td>The Supreme Court Collegium has decided to aga...</td>\n",
       "    </tr>\n",
       "    <tr>\n",
       "      <th>49767</th>\n",
       "      <td>Mamata was first female minister to present Ra...</td>\n",
       "      <td>The current Chief Minister of West Bengal, Mam...</td>\n",
       "    </tr>\n",
       "    <tr>\n",
       "      <th>87613</th>\n",
       "      <td>NASA shows weather changes over Saturn's North...</td>\n",
       "      <td>NASA compared atmospheric changes above Saturn...</td>\n",
       "    </tr>\n",
       "    <tr>\n",
       "      <th>31098</th>\n",
       "      <td>Meghan Markle's father to not attend royal wed...</td>\n",
       "      <td>Meghan Markle's father Thomas Markle has refus...</td>\n",
       "    </tr>\n",
       "    <tr>\n",
       "      <th>65754</th>\n",
       "      <td>Third India-Australia T20I abandoned; series e...</td>\n",
       "      <td>The three-match T20I series between India and ...</td>\n",
       "    </tr>\n",
       "    <tr>\n",
       "      <th>50030</th>\n",
       "      <td>B'luru cops calls off crackdown on non-ISI mar...</td>\n",
       "      <td>The Bengaluru Police has withdrawn the proposa...</td>\n",
       "    </tr>\n",
       "    <tr>\n",
       "      <th>898</th>\n",
       "      <td>Sequoia India unveils startup incubator, accel...</td>\n",
       "      <td>Venture capital firm Sequoia Capital India has...</td>\n",
       "    </tr>\n",
       "    <tr>\n",
       "      <th>81454</th>\n",
       "      <td>Trump's kin met Russian lawyer before prez pol...</td>\n",
       "      <td>US President Donald Trump's son Donald Trump J...</td>\n",
       "    </tr>\n",
       "    <tr>\n",
       "      <th>36040</th>\n",
       "      <td>YSR Cong holds rail roko protest over Andhra s...</td>\n",
       "      <td>The YSR Congress Party on Wednesday staged a '...</td>\n",
       "    </tr>\n",
       "    <tr>\n",
       "      <th>34415</th>\n",
       "      <td>Hard to stay silent: Meesha on being sexually ...</td>\n",
       "      <td>Speaking about opening up on Ali Zafar sexuall...</td>\n",
       "    </tr>\n",
       "  </tbody>\n",
       "</table>\n",
       "</div>"
      ],
      "text/plain": [
       "                                               headlines  \\\n",
       "31524  Collegium to again name judge for SC post Cent...   \n",
       "49767  Mamata was first female minister to present Ra...   \n",
       "87613  NASA shows weather changes over Saturn's North...   \n",
       "31098  Meghan Markle's father to not attend royal wed...   \n",
       "65754  Third India-Australia T20I abandoned; series e...   \n",
       "50030  B'luru cops calls off crackdown on non-ISI mar...   \n",
       "898    Sequoia India unveils startup incubator, accel...   \n",
       "81454  Trump's kin met Russian lawyer before prez pol...   \n",
       "36040  YSR Cong holds rail roko protest over Andhra s...   \n",
       "34415  Hard to stay silent: Meesha on being sexually ...   \n",
       "\n",
       "                                                    text  \n",
       "31524  The Supreme Court Collegium has decided to aga...  \n",
       "49767  The current Chief Minister of West Bengal, Mam...  \n",
       "87613  NASA compared atmospheric changes above Saturn...  \n",
       "31098  Meghan Markle's father Thomas Markle has refus...  \n",
       "65754  The three-match T20I series between India and ...  \n",
       "50030  The Bengaluru Police has withdrawn the proposa...  \n",
       "898    Venture capital firm Sequoia Capital India has...  \n",
       "81454  US President Donald Trump's son Donald Trump J...  \n",
       "36040  The YSR Congress Party on Wednesday staged a '...  \n",
       "34415  Speaking about opening up on Ali Zafar sexuall...  "
      ]
     },
     "execution_count": 4,
     "metadata": {},
     "output_type": "execute_result"
    }
   ],
   "source": [
    "data.sample(10)"
   ]
  },
  {
   "cell_type": "markdown",
   "id": "individual-campus",
   "metadata": {},
   "source": [
    "---"
   ]
  },
  {
   "cell_type": "markdown",
   "id": "green-shoot",
   "metadata": {},
   "source": [
    "## Step 2. 데이터 전처리하기 (추상적 요약)"
   ]
  },
  {
   "cell_type": "markdown",
   "id": "photographic-amber",
   "metadata": {},
   "source": [
    "### 중복을 배제한 유일한 샘플의 수 확인"
   ]
  },
  {
   "cell_type": "code",
   "execution_count": 7,
   "id": "experienced-decimal",
   "metadata": {},
   "outputs": [
    {
     "name": "stdout",
     "output_type": "stream",
     "text": [
      "Text 열에서 중복을 배제한 유일한 샘플의 수 : 98360\n",
      "Headlines 열에서 중복을 배제한 유일한 샘플의 수 : 98280\n"
     ]
    }
   ],
   "source": [
    "print('Text 열에서 중복을 배제한 유일한 샘플의 수 :', data['text'].nunique())\n",
    "print('Headlines 열에서 중복을 배제한 유일한 샘플의 수 :', data['headlines'].nunique())"
   ]
  },
  {
   "cell_type": "markdown",
   "id": "transsexual-association",
   "metadata": {},
   "source": [
    "### Text의 중복 샘플 제거"
   ]
  },
  {
   "cell_type": "code",
   "execution_count": 8,
   "id": "governmental-function",
   "metadata": {},
   "outputs": [
    {
     "name": "stdout",
     "output_type": "stream",
     "text": [
      "전체 샘플수 : 98360\n"
     ]
    }
   ],
   "source": [
    "data.drop_duplicates(subset = ['text'], inplace = True)\n",
    "print('전체 샘플수 :',(len(data)))"
   ]
  },
  {
   "cell_type": "markdown",
   "id": "cooperative-ethics",
   "metadata": {},
   "source": [
    "### 데이터프레임 Null 값 확인"
   ]
  },
  {
   "cell_type": "code",
   "execution_count": 9,
   "id": "intimate-cabinet",
   "metadata": {},
   "outputs": [
    {
     "name": "stdout",
     "output_type": "stream",
     "text": [
      "headlines    0\n",
      "text         0\n",
      "dtype: int64\n"
     ]
    }
   ],
   "source": [
    "print(data.isnull().sum())"
   ]
  },
  {
   "cell_type": "markdown",
   "id": "higher-anatomy",
   "metadata": {},
   "source": [
    "### 정규화 사전 준비"
   ]
  },
  {
   "cell_type": "code",
   "execution_count": 10,
   "id": "instant-necklace",
   "metadata": {},
   "outputs": [
    {
     "name": "stdout",
     "output_type": "stream",
     "text": [
      "정규화 사전의 수:  120\n"
     ]
    }
   ],
   "source": [
    "contractions = {\"ain't\": \"is not\", \"aren't\": \"are not\",\"can't\": \"cannot\", \"'cause\": \"because\", \"could've\": \"could have\", \"couldn't\": \"could not\",\n",
    "                           \"didn't\": \"did not\",  \"doesn't\": \"does not\", \"don't\": \"do not\", \"hadn't\": \"had not\", \"hasn't\": \"has not\", \"haven't\": \"have not\",\n",
    "                           \"he'd\": \"he would\",\"he'll\": \"he will\", \"he's\": \"he is\", \"how'd\": \"how did\", \"how'd'y\": \"how do you\", \"how'll\": \"how will\", \"how's\": \"how is\",\n",
    "                           \"I'd\": \"I would\", \"I'd've\": \"I would have\", \"I'll\": \"I will\", \"I'll've\": \"I will have\",\"I'm\": \"I am\", \"I've\": \"I have\", \"i'd\": \"i would\",\n",
    "                           \"i'd've\": \"i would have\", \"i'll\": \"i will\",  \"i'll've\": \"i will have\",\"i'm\": \"i am\", \"i've\": \"i have\", \"isn't\": \"is not\", \"it'd\": \"it would\",\n",
    "                           \"it'd've\": \"it would have\", \"it'll\": \"it will\", \"it'll've\": \"it will have\",\"it's\": \"it is\", \"let's\": \"let us\", \"ma'am\": \"madam\",\n",
    "                           \"mayn't\": \"may not\", \"might've\": \"might have\",\"mightn't\": \"might not\",\"mightn't've\": \"might not have\", \"must've\": \"must have\",\n",
    "                           \"mustn't\": \"must not\", \"mustn't've\": \"must not have\", \"needn't\": \"need not\", \"needn't've\": \"need not have\",\"o'clock\": \"of the clock\",\n",
    "                           \"oughtn't\": \"ought not\", \"oughtn't've\": \"ought not have\", \"shan't\": \"shall not\", \"sha'n't\": \"shall not\", \"shan't've\": \"shall not have\",\n",
    "                           \"she'd\": \"she would\", \"she'd've\": \"she would have\", \"she'll\": \"she will\", \"she'll've\": \"she will have\", \"she's\": \"she is\",\n",
    "                           \"should've\": \"should have\", \"shouldn't\": \"should not\", \"shouldn't've\": \"should not have\", \"so've\": \"so have\",\"so's\": \"so as\",\n",
    "                           \"this's\": \"this is\",\"that'd\": \"that would\", \"that'd've\": \"that would have\", \"that's\": \"that is\", \"there'd\": \"there would\",\n",
    "                           \"there'd've\": \"there would have\", \"there's\": \"there is\", \"here's\": \"here is\",\"they'd\": \"they would\", \"they'd've\": \"they would have\",\n",
    "                           \"they'll\": \"they will\", \"they'll've\": \"they will have\", \"they're\": \"they are\", \"they've\": \"they have\", \"to've\": \"to have\",\n",
    "                           \"wasn't\": \"was not\", \"we'd\": \"we would\", \"we'd've\": \"we would have\", \"we'll\": \"we will\", \"we'll've\": \"we will have\", \"we're\": \"we are\",\n",
    "                           \"we've\": \"we have\", \"weren't\": \"were not\", \"what'll\": \"what will\", \"what'll've\": \"what will have\", \"what're\": \"what are\",\n",
    "                           \"what's\": \"what is\", \"what've\": \"what have\", \"when's\": \"when is\", \"when've\": \"when have\", \"where'd\": \"where did\", \"where's\": \"where is\",\n",
    "                           \"where've\": \"where have\", \"who'll\": \"who will\", \"who'll've\": \"who will have\", \"who's\": \"who is\", \"who've\": \"who have\",\n",
    "                           \"why's\": \"why is\", \"why've\": \"why have\", \"will've\": \"will have\", \"won't\": \"will not\", \"won't've\": \"will not have\",\n",
    "                           \"would've\": \"would have\", \"wouldn't\": \"would not\", \"wouldn't've\": \"would not have\", \"y'all\": \"you all\",\n",
    "                           \"y'all'd\": \"you all would\",\"y'all'd've\": \"you all would have\",\"y'all're\": \"you all are\",\"y'all've\": \"you all have\",\n",
    "                           \"you'd\": \"you would\", \"you'd've\": \"you would have\", \"you'll\": \"you will\", \"you'll've\": \"you will have\",\n",
    "                           \"you're\": \"you are\", \"you've\": \"you have\"}\n",
    "\n",
    "print(\"정규화 사전의 수: \",len(contractions))"
   ]
  },
  {
   "cell_type": "markdown",
   "id": "close-experience",
   "metadata": {},
   "source": [
    "### 제거할 불용어 리스트 준비"
   ]
  },
  {
   "cell_type": "code",
   "execution_count": 11,
   "id": "alert-cornell",
   "metadata": {},
   "outputs": [
    {
     "name": "stdout",
     "output_type": "stream",
     "text": [
      "불용어 개수 : 179\n",
      "['i', 'me', 'my', 'myself', 'we', 'our', 'ours', 'ourselves', 'you', \"you're\", \"you've\", \"you'll\", \"you'd\", 'your', 'yours', 'yourself', 'yourselves', 'he', 'him', 'his', 'himself', 'she', \"she's\", 'her', 'hers', 'herself', 'it', \"it's\", 'its', 'itself', 'they', 'them', 'their', 'theirs', 'themselves', 'what', 'which', 'who', 'whom', 'this', 'that', \"that'll\", 'these', 'those', 'am', 'is', 'are', 'was', 'were', 'be', 'been', 'being', 'have', 'has', 'had', 'having', 'do', 'does', 'did', 'doing', 'a', 'an', 'the', 'and', 'but', 'if', 'or', 'because', 'as', 'until', 'while', 'of', 'at', 'by', 'for', 'with', 'about', 'against', 'between', 'into', 'through', 'during', 'before', 'after', 'above', 'below', 'to', 'from', 'up', 'down', 'in', 'out', 'on', 'off', 'over', 'under', 'again', 'further', 'then', 'once', 'here', 'there', 'when', 'where', 'why', 'how', 'all', 'any', 'both', 'each', 'few', 'more', 'most', 'other', 'some', 'such', 'no', 'nor', 'not', 'only', 'own', 'same', 'so', 'than', 'too', 'very', 's', 't', 'can', 'will', 'just', 'don', \"don't\", 'should', \"should've\", 'now', 'd', 'll', 'm', 'o', 're', 've', 'y', 'ain', 'aren', \"aren't\", 'couldn', \"couldn't\", 'didn', \"didn't\", 'doesn', \"doesn't\", 'hadn', \"hadn't\", 'hasn', \"hasn't\", 'haven', \"haven't\", 'isn', \"isn't\", 'ma', 'mightn', \"mightn't\", 'mustn', \"mustn't\", 'needn', \"needn't\", 'shan', \"shan't\", 'shouldn', \"shouldn't\", 'wasn', \"wasn't\", 'weren', \"weren't\", 'won', \"won't\", 'wouldn', \"wouldn't\"]\n"
     ]
    }
   ],
   "source": [
    "print('불용어 개수 :', len(stopwords.words('english') ))\n",
    "print(stopwords.words('english'))"
   ]
  },
  {
   "cell_type": "markdown",
   "id": "recorded-drinking",
   "metadata": {},
   "source": [
    "### 데이터 전처리 함수"
   ]
  },
  {
   "cell_type": "code",
   "execution_count": 12,
   "id": "municipal-count",
   "metadata": {},
   "outputs": [],
   "source": [
    "def preprocess_sentence(sentence, remove_stopwords=True):\n",
    "    sentence = sentence.lower() # 텍스트 소문자화\n",
    "    sentence = BeautifulSoup(sentence, \"lxml\").text # <br />, <a href = ...> 등의 html 태그 제거\n",
    "    sentence = re.sub(r'\\([^)]*\\)', '', sentence) # 괄호로 닫힌 문자열 (...) 제거 Ex) my husband (and myself!) for => my husband for\n",
    "    sentence = re.sub('\"','', sentence) # 쌍따옴표 \" 제거\n",
    "    sentence = ' '.join([contractions[t] if t in contractions else t for t in sentence.split(\" \")]) # 약어 정규화\n",
    "    sentence = re.sub(r\"'s\\b\",\"\",sentence) # 소유격 제거. Ex) roland's -> roland\n",
    "    sentence = re.sub(\"[^a-zA-Z]\", \" \", sentence) # 영어 외 문자(숫자, 특수문자 등) 공백으로 변환\n",
    "    sentence = re.sub('[m]{2,}', 'mm', sentence) # m이 3개 이상이면 2개로 변경. Ex) ummmmmmm yeah -> umm yeah\n",
    "    \n",
    "    # 불용어 제거 (Text)\n",
    "    if remove_stopwords:\n",
    "        tokens = ' '.join(word for word in sentence.split() if not word in stopwords.words('english') if len(word) > 1)\n",
    "    # 불용어 미제거 (Summary)\n",
    "    else:\n",
    "        tokens = ' '.join(word for word in sentence.split() if len(word) > 1)\n",
    "    return tokens"
   ]
  },
  {
   "cell_type": "markdown",
   "id": "satisfactory-scoop",
   "metadata": {},
   "source": [
    "### 임의의 문장으로 함수 확인"
   ]
  },
  {
   "cell_type": "code",
   "execution_count": 13,
   "id": "bigger-drain",
   "metadata": {},
   "outputs": [
    {
     "name": "stdout",
     "output_type": "stream",
     "text": [
      "everything bought great infact ordered twice third ordered wasfor mother father\n",
      "great way to start the day\n"
     ]
    }
   ],
   "source": [
    "temp_text = 'Everything I bought was great, infact I ordered twice and the third ordered was<br />for my mother and father.'\n",
    "temp_summary = 'Great way to start (or finish) the day!!!'\n",
    "\n",
    "print(preprocess_sentence(temp_text))\n",
    "print(preprocess_sentence(temp_summary, False))  # 불용어를 제거하지 않습니다."
   ]
  },
  {
   "cell_type": "markdown",
   "id": "normal-aside",
   "metadata": {},
   "source": [
    "### 전체 Text 데이터에 대한 전처리"
   ]
  },
  {
   "cell_type": "code",
   "execution_count": 14,
   "id": "conditional-turkey",
   "metadata": {},
   "outputs": [
    {
     "data": {
      "text/plain": [
       "['saurav kant alumnus upgrad iiit pg program machine learning artificial intelligence sr systems engineer infosys almost years work experience program upgrad degree career support helped transition data scientist tech mahindra salary hike upgrad online power learning powered lakh careers',\n",
       " 'kunal shah credit card bill payment platform cred gave users chance win free food swiggy one year pranav kaushik delhi techie bagged reward spending cred coins users get one cred coin per rupee bill paid used avail rewards brands like ixigo bookmyshow ubereats cult fit',\n",
       " 'new zealand defeated india wickets fourth odi hamilton thursday win first match five match odi series india lost international match rohit sharma captaincy consecutive victories dating back march match witnessed india getting seventh lowest total odi cricket history',\n",
       " 'aegon life iterm insurance plan customers enjoy tax benefits premiums paid save taxes plan provides life cover age years also customers options insure critical illnesses disability accidental death benefit rider life cover age years',\n",
       " 'speaking sexual harassment allegations rajkumar hirani sonam kapoor said known hirani many years true metoo movement get derailed metoo movement always believe woman case need reserve judgment added hirani accused assistant worked sanju']"
      ]
     },
     "execution_count": 14,
     "metadata": {},
     "output_type": "execute_result"
    }
   ],
   "source": [
    "clean_text = []\n",
    "\n",
    "# 전체 Text 데이터에 대한 전처리\n",
    "for s in data['text']:\n",
    "    clean_text.append(preprocess_sentence(s))\n",
    "\n",
    "# 전처리 후 출력\n",
    "clean_text[:5]"
   ]
  },
  {
   "cell_type": "markdown",
   "id": "educated-referral",
   "metadata": {},
   "source": [
    "### 전체 Headlines 데이터에 대한 전처리"
   ]
  },
  {
   "cell_type": "code",
   "execution_count": 15,
   "id": "chronic-contrary",
   "metadata": {},
   "outputs": [
    {
     "data": {
      "text/plain": [
       "['upgrad learner switches to career in ml al with salary hike',\n",
       " 'delhi techie wins free food from swiggy for one year on cred',\n",
       " 'new zealand end rohit sharma led india match winning streak',\n",
       " 'aegon life iterm insurance plan helps customers save tax',\n",
       " 'have known hirani for yrs what if metoo claims are not true sonam']"
      ]
     },
     "execution_count": 15,
     "metadata": {},
     "output_type": "execute_result"
    }
   ],
   "source": [
    "clean_summary = []\n",
    "\n",
    "# 전체 Summary 데이터에 대한 전처리\n",
    "for s in data['headlines']:\n",
    "    clean_summary.append(preprocess_sentence(s, False))\n",
    "\n",
    "# 전처리 후 출력\n",
    "clean_summary[:5]"
   ]
  },
  {
   "cell_type": "markdown",
   "id": "worst-think",
   "metadata": {},
   "source": [
    "### 빈(empty) 샘플 확인 및 Null값으로 변환"
   ]
  },
  {
   "cell_type": "code",
   "execution_count": 16,
   "id": "according-start",
   "metadata": {},
   "outputs": [],
   "source": [
    "data['text'] = clean_text\n",
    "data['headlines'] = clean_summary\n",
    "\n",
    "# 빈 값을 Null 값으로 변환\n",
    "data.replace('', np.nan, inplace=True)"
   ]
  },
  {
   "cell_type": "markdown",
   "id": "scenic-sharing",
   "metadata": {},
   "source": [
    "### Null 확인"
   ]
  },
  {
   "cell_type": "code",
   "execution_count": 17,
   "id": "innocent-edition",
   "metadata": {},
   "outputs": [
    {
     "data": {
      "text/plain": [
       "headlines    0\n",
       "text         0\n",
       "dtype: int64"
      ]
     },
     "execution_count": 17,
     "metadata": {},
     "output_type": "execute_result"
    }
   ],
   "source": [
    "data.isnull().sum()"
   ]
  },
  {
   "cell_type": "markdown",
   "id": "crazy-brand",
   "metadata": {},
   "source": [
    "### 샘플의 최대 길이 정하기"
   ]
  },
  {
   "cell_type": "code",
   "execution_count": 19,
   "id": "friendly-collapse",
   "metadata": {},
   "outputs": [
    {
     "name": "stdout",
     "output_type": "stream",
     "text": [
      "텍스트의 최소 길이 : 1\n",
      "텍스트의 최대 길이 : 60\n",
      "텍스트의 평균 길이 : 35.09968483123221\n",
      "요약의 최소 길이 : 1\n",
      "요약의 최대 길이 : 16\n",
      "요약의 평균 길이 : 9.299532330215534\n"
     ]
    },
    {
     "data": {
      "image/png": "[encoded data removed]",
      "text/plain": [
       "<Figure size 432x288 with 2 Axes>"
      ]
     },
     "metadata": {
      "needs_background": "light"
     },
     "output_type": "display_data"
    },
    {
     "data": {
      "image/png": "[encoded data removed]",
      "text/plain": [
       "<Figure size 432x288 with 1 Axes>"
      ]
     },
     "metadata": {
      "needs_background": "light"
     },
     "output_type": "display_data"
    },
    {
     "data": {
      "image/png": "[encoded data removed]",
      "text/plain": [
       "<Figure size 432x288 with 1 Axes>"
      ]
     },
     "metadata": {
      "needs_background": "light"
     },
     "output_type": "display_data"
    }
   ],
   "source": [
    "# 길이 분포 출력\n",
    "import matplotlib.pyplot as plt\n",
    "\n",
    "text_len = [len(s.split()) for s in data['text']]\n",
    "headlines_len = [len(s.split()) for s in data['headlines']]\n",
    "\n",
    "print('텍스트의 최소 길이 : {}'.format(np.min(text_len)))\n",
    "print('텍스트의 최대 길이 : {}'.format(np.max(text_len)))\n",
    "print('텍스트의 평균 길이 : {}'.format(np.mean(text_len)))\n",
    "print('요약의 최소 길이 : {}'.format(np.min(headlines_len)))\n",
    "print('요약의 최대 길이 : {}'.format(np.max(headlines_len)))\n",
    "print('요약의 평균 길이 : {}'.format(np.mean(headlines_len)))\n",
    "\n",
    "plt.subplot(1,2,1)\n",
    "plt.boxplot(headlines_len)\n",
    "plt.title('Headlines')\n",
    "plt.subplot(1,2,2)\n",
    "plt.boxplot(text_len)\n",
    "plt.title('Text')\n",
    "plt.tight_layout()\n",
    "plt.show()\n",
    "\n",
    "plt.title('Headlines')\n",
    "plt.hist(headlines_len, bins = 40)\n",
    "plt.xlabel('length of samples')\n",
    "plt.ylabel('number of samples')\n",
    "plt.show()\n",
    "\n",
    "plt.title('Text')\n",
    "plt.hist(text_len, bins = 40)\n",
    "plt.xlabel('length of samples')\n",
    "plt.ylabel('number of samples')\n",
    "plt.show()"
   ]
  },
  {
   "cell_type": "markdown",
   "id": "exempt-broadcasting",
   "metadata": {},
   "source": [
    "### Text, Headlines의 최대 길이 임의 지정"
   ]
  },
  {
   "cell_type": "code",
   "execution_count": 30,
   "id": "polar-breath",
   "metadata": {},
   "outputs": [],
   "source": [
    "text_max_len = 40\n",
    "headlines_max_len = 11"
   ]
  },
  {
   "cell_type": "markdown",
   "id": "threatened-palestine",
   "metadata": {},
   "source": [
    "### 최대 길이에 따른 데이터 비율 계산 함수 생성"
   ]
  },
  {
   "cell_type": "code",
   "execution_count": 31,
   "id": "mathematical-country",
   "metadata": {},
   "outputs": [],
   "source": [
    "def below_threshold_len(max_len, nested_list):\n",
    "  cnt = 0\n",
    "  for s in nested_list:\n",
    "    if(len(s.split()) <= max_len):\n",
    "        cnt = cnt + 1\n",
    "  print('전체 샘플 중 길이가 %s 이하인 샘플의 비율: %s'%(max_len, (cnt / len(nested_list))))"
   ]
  },
  {
   "cell_type": "markdown",
   "id": "removed-arcade",
   "metadata": {},
   "source": [
    "### 데이터 비율 계산"
   ]
  },
  {
   "cell_type": "code",
   "execution_count": 32,
   "id": "whole-reader",
   "metadata": {},
   "outputs": [
    {
     "name": "stdout",
     "output_type": "stream",
     "text": [
      "전체 샘플 중 길이가 40 이하인 샘플의 비율: 0.9238714924766165\n",
      "전체 샘플 중 길이가 11 이하인 샘플의 비율: 0.9449877999186661\n"
     ]
    }
   ],
   "source": [
    "below_threshold_len(text_max_len, data['text'])\n",
    "below_threshold_len(headlines_max_len,  data['headlines'])"
   ]
  },
  {
   "cell_type": "markdown",
   "id": "informed-holder",
   "metadata": {},
   "source": [
    "### 정해진 길이보다 긴 데이터 제외"
   ]
  },
  {
   "cell_type": "code",
   "execution_count": 34,
   "id": "right-patient",
   "metadata": {},
   "outputs": [
    {
     "name": "stdout",
     "output_type": "stream",
     "text": [
      "전체 샘플수 : 85843\n"
     ]
    }
   ],
   "source": [
    "data = data[data['text'].apply(lambda x: len(x.split()) <= text_max_len)]\n",
    "data = data[data['headlines'].apply(lambda x: len(x.split()) <= headlines_max_len)]\n",
    "print('전체 샘플수 :',(len(data)))"
   ]
  },
  {
   "cell_type": "markdown",
   "id": "desirable-database",
   "metadata": {},
   "source": [
    "### Headlines 데이터 시작 및 종료 토큰 추가"
   ]
  },
  {
   "cell_type": "code",
   "execution_count": 35,
   "id": "different-calculator",
   "metadata": {},
   "outputs": [
    {
     "data": {
      "text/html": [
       "<div>\n",
       "<style scoped>\n",
       "    .dataframe tbody tr th:only-of-type {\n",
       "        vertical-align: middle;\n",
       "    }\n",
       "\n",
       "    .dataframe tbody tr th {\n",
       "        vertical-align: top;\n",
       "    }\n",
       "\n",
       "    .dataframe thead th {\n",
       "        text-align: right;\n",
       "    }\n",
       "</style>\n",
       "<table border=\"1\" class=\"dataframe\">\n",
       "  <thead>\n",
       "    <tr style=\"text-align: right;\">\n",
       "      <th></th>\n",
       "      <th>headlines</th>\n",
       "      <th>text</th>\n",
       "      <th>decoder_input</th>\n",
       "      <th>decoder_target</th>\n",
       "    </tr>\n",
       "  </thead>\n",
       "  <tbody>\n",
       "    <tr>\n",
       "      <th>0</th>\n",
       "      <td>upgrad learner switches to career in ml al wit...</td>\n",
       "      <td>saurav kant alumnus upgrad iiit pg program mac...</td>\n",
       "      <td>sostoken upgrad learner switches to career in ...</td>\n",
       "      <td>upgrad learner switches to career in ml al wit...</td>\n",
       "    </tr>\n",
       "    <tr>\n",
       "      <th>2</th>\n",
       "      <td>new zealand end rohit sharma led india match w...</td>\n",
       "      <td>new zealand defeated india wickets fourth odi ...</td>\n",
       "      <td>sostoken new zealand end rohit sharma led indi...</td>\n",
       "      <td>new zealand end rohit sharma led india match w...</td>\n",
       "    </tr>\n",
       "    <tr>\n",
       "      <th>3</th>\n",
       "      <td>aegon life iterm insurance plan helps customer...</td>\n",
       "      <td>aegon life iterm insurance plan customers enjo...</td>\n",
       "      <td>sostoken aegon life iterm insurance plan helps...</td>\n",
       "      <td>aegon life iterm insurance plan helps customer...</td>\n",
       "    </tr>\n",
       "    <tr>\n",
       "      <th>5</th>\n",
       "      <td>rahat fateh ali khan denies getting notice for...</td>\n",
       "      <td>pakistani singer rahat fateh ali khan denied r...</td>\n",
       "      <td>sostoken rahat fateh ali khan denies getting n...</td>\n",
       "      <td>rahat fateh ali khan denies getting notice for...</td>\n",
       "    </tr>\n",
       "    <tr>\n",
       "      <th>7</th>\n",
       "      <td>govt directs alok verma to join work day befor...</td>\n",
       "      <td>weeks ex cbi director alok verma told departme...</td>\n",
       "      <td>sostoken govt directs alok verma to join work ...</td>\n",
       "      <td>govt directs alok verma to join work day befor...</td>\n",
       "    </tr>\n",
       "  </tbody>\n",
       "</table>\n",
       "</div>"
      ],
      "text/plain": [
       "                                           headlines  \\\n",
       "0  upgrad learner switches to career in ml al wit...   \n",
       "2  new zealand end rohit sharma led india match w...   \n",
       "3  aegon life iterm insurance plan helps customer...   \n",
       "5  rahat fateh ali khan denies getting notice for...   \n",
       "7  govt directs alok verma to join work day befor...   \n",
       "\n",
       "                                                text  \\\n",
       "0  saurav kant alumnus upgrad iiit pg program mac...   \n",
       "2  new zealand defeated india wickets fourth odi ...   \n",
       "3  aegon life iterm insurance plan customers enjo...   \n",
       "5  pakistani singer rahat fateh ali khan denied r...   \n",
       "7  weeks ex cbi director alok verma told departme...   \n",
       "\n",
       "                                       decoder_input  \\\n",
       "0  sostoken upgrad learner switches to career in ...   \n",
       "2  sostoken new zealand end rohit sharma led indi...   \n",
       "3  sostoken aegon life iterm insurance plan helps...   \n",
       "5  sostoken rahat fateh ali khan denies getting n...   \n",
       "7  sostoken govt directs alok verma to join work ...   \n",
       "\n",
       "                                      decoder_target  \n",
       "0  upgrad learner switches to career in ml al wit...  \n",
       "2  new zealand end rohit sharma led india match w...  \n",
       "3  aegon life iterm insurance plan helps customer...  \n",
       "5  rahat fateh ali khan denies getting notice for...  \n",
       "7  govt directs alok verma to join work day befor...  "
      ]
     },
     "execution_count": 35,
     "metadata": {},
     "output_type": "execute_result"
    }
   ],
   "source": [
    "data['decoder_input'] = data['headlines'].apply(lambda x : 'sostoken '+ x)\n",
    "data['decoder_target'] = data['headlines'].apply(lambda x : x + ' eostoken')\n",
    "data.head()"
   ]
  },
  {
   "cell_type": "markdown",
   "id": "dress-pressing",
   "metadata": {},
   "source": [
    "### 인코더 입력, 디코더 입력 및 레이블 Numpy 타입 저장"
   ]
  },
  {
   "cell_type": "code",
   "execution_count": 36,
   "id": "received-symposium",
   "metadata": {},
   "outputs": [],
   "source": [
    "encoder_input = np.array(data['text']) # 인코더의 입력\n",
    "decoder_input = np.array(data['decoder_input']) # 디코더의 입력\n",
    "decoder_target = np.array(data['decoder_target']) # 디코더의 레이블"
   ]
  },
  {
   "cell_type": "markdown",
   "id": "authentic-drunk",
   "metadata": {},
   "source": [
    "### encoder_input과 크기와 형태가 같은 순서가 섞인 정수 시퀀스 생성"
   ]
  },
  {
   "cell_type": "code",
   "execution_count": 37,
   "id": "expressed-yugoslavia",
   "metadata": {},
   "outputs": [
    {
     "name": "stdout",
     "output_type": "stream",
     "text": [
      "[45508 10629 39716 ... 33834 84453 22603]\n"
     ]
    }
   ],
   "source": [
    "indices = np.arange(encoder_input.shape[0])\n",
    "np.random.shuffle(indices)\n",
    "print(indices)"
   ]
  },
  {
   "cell_type": "code",
   "execution_count": 38,
   "id": "packed-hypothesis",
   "metadata": {},
   "outputs": [],
   "source": [
    "encoder_input = encoder_input[indices]\n",
    "decoder_input = decoder_input[indices]\n",
    "decoder_target = decoder_target[indices]"
   ]
  },
  {
   "cell_type": "markdown",
   "id": "bibliographic-couple",
   "metadata": {},
   "source": [
    "### 8:2의 비율로 훈련 데이터와 테스트 데이터로 분리"
   ]
  },
  {
   "cell_type": "code",
   "execution_count": 39,
   "id": "smart-madness",
   "metadata": {},
   "outputs": [
    {
     "name": "stdout",
     "output_type": "stream",
     "text": [
      "테스트 데이터의 수 : 17168\n"
     ]
    }
   ],
   "source": [
    "n_of_val = int(len(encoder_input)*0.2)\n",
    "print('테스트 데이터의 수 :',n_of_val)"
   ]
  },
  {
   "cell_type": "markdown",
   "id": "coordinate-youth",
   "metadata": {},
   "source": [
    "### 훈련 데이터와 테스트 데이터 분리"
   ]
  },
  {
   "cell_type": "code",
   "execution_count": 40,
   "id": "worthy-setup",
   "metadata": {},
   "outputs": [
    {
     "name": "stdout",
     "output_type": "stream",
     "text": [
      "훈련 데이터의 개수 : 68675\n",
      "훈련 레이블의 개수 : 68675\n",
      "테스트 데이터의 개수 : 17168\n",
      "테스트 레이블의 개수 : 17168\n"
     ]
    }
   ],
   "source": [
    "encoder_input_train = encoder_input[:-n_of_val]\n",
    "decoder_input_train = decoder_input[:-n_of_val]\n",
    "decoder_target_train = decoder_target[:-n_of_val]\n",
    "\n",
    "encoder_input_test = encoder_input[-n_of_val:]\n",
    "decoder_input_test = decoder_input[-n_of_val:]\n",
    "decoder_target_test = decoder_target[-n_of_val:]\n",
    "\n",
    "print('훈련 데이터의 개수 :', len(encoder_input_train))\n",
    "print('훈련 레이블의 개수 :',len(decoder_input_train))\n",
    "print('테스트 데이터의 개수 :',len(encoder_input_test))\n",
    "print('테스트 레이블의 개수 :',len(decoder_input_test))"
   ]
  },
  {
   "cell_type": "markdown",
   "id": "wicked-context",
   "metadata": {},
   "source": [
    "### Text 데이터 단어 집합 생성(각 단어에 고유한 정수 맵핑)"
   ]
  },
  {
   "cell_type": "code",
   "execution_count": 41,
   "id": "bored-transformation",
   "metadata": {},
   "outputs": [],
   "source": [
    "src_tokenizer = Tokenizer() # 토크나이저 정의\n",
    "src_tokenizer.fit_on_texts(encoder_input_train) # 입력된 데이터로부터 단어 집합 생성"
   ]
  },
  {
   "cell_type": "markdown",
   "id": "distributed-valentine",
   "metadata": {},
   "source": [
    "### Text 데이터에서 등장 빈도수가 7회 미만인 단어들의 빈도수 확인"
   ]
  },
  {
   "cell_type": "code",
   "execution_count": 42,
   "id": "general-train",
   "metadata": {},
   "outputs": [
    {
     "name": "stdout",
     "output_type": "stream",
     "text": [
      "단어 집합(vocabulary)의 크기 : 64778\n",
      "등장 빈도가 6번 이하인 희귀 단어의 수: 44248\n",
      "단어 집합에서 희귀 단어를 제외시킬 경우의 단어 집합의 크기 20530\n",
      "단어 집합에서 희귀 단어의 비율: 68.30714131340886\n",
      "전체 등장 빈도에서 희귀 단어 등장 빈도 비율: 3.7902764039239796\n"
     ]
    }
   ],
   "source": [
    "threshold = 7\n",
    "total_cnt = len(src_tokenizer.word_index) # 단어의 수\n",
    "rare_cnt = 0 # 등장 빈도수가 threshold보다 작은 단어의 개수를 카운트\n",
    "total_freq = 0 # 훈련 데이터의 전체 단어 빈도수 총 합\n",
    "rare_freq = 0 # 등장 빈도수가 threshold보다 작은 단어의 등장 빈도수의 총 합\n",
    "\n",
    "# 단어와 빈도수의 쌍(pair)을 key와 value로 받는다.\n",
    "for key, value in src_tokenizer.word_counts.items():\n",
    "    total_freq = total_freq + value\n",
    "\n",
    "    # 단어의 등장 빈도수가 threshold보다 작으면\n",
    "    if(value < threshold):\n",
    "        rare_cnt = rare_cnt + 1\n",
    "        rare_freq = rare_freq + value\n",
    "\n",
    "print('단어 집합(vocabulary)의 크기 :',total_cnt)\n",
    "print('등장 빈도가 %s번 이하인 희귀 단어의 수: %s'%(threshold - 1, rare_cnt))\n",
    "print('단어 집합에서 희귀 단어를 제외시킬 경우의 단어 집합의 크기 %s'%(total_cnt - rare_cnt))\n",
    "print(\"단어 집합에서 희귀 단어의 비율:\", (rare_cnt / total_cnt)*100)\n",
    "print(\"전체 등장 빈도에서 희귀 단어 등장 빈도 비율:\", (rare_freq / total_freq)*100)"
   ]
  },
  {
   "cell_type": "markdown",
   "id": "arabic-forwarding",
   "metadata": {},
   "source": [
    "### Text 데이터 단어 집합의 크기 제한"
   ]
  },
  {
   "cell_type": "code",
   "execution_count": 43,
   "id": "flush-auditor",
   "metadata": {},
   "outputs": [],
   "source": [
    "src_vocab = 20000\n",
    "src_tokenizer = Tokenizer(num_words = src_vocab) # 단어 집합의 크기를 20,000으로 제한\n",
    "src_tokenizer.fit_on_texts(encoder_input_train) # 단어 집합 재생성."
   ]
  },
  {
   "cell_type": "markdown",
   "id": "expressed-sight",
   "metadata": {},
   "source": [
    "### Text 데이터 텍스트 시퀀스를 정수 시퀀스로 변환"
   ]
  },
  {
   "cell_type": "code",
   "execution_count": 44,
   "id": "intensive-rendering",
   "metadata": {},
   "outputs": [
    {
     "name": "stdout",
     "output_type": "stream",
     "text": [
      "[[5847, 2439, 928, 242, 3864, 1302, 1448, 1688, 103, 199, 852, 2271, 803, 3329, 2219, 1768, 784, 624, 18, 3495, 242, 487, 4743, 5525, 4596, 6783, 1794, 103, 10, 21, 94, 2271], [155, 667, 16, 1298, 6310, 413, 931, 16, 3542, 2283, 1, 35, 1186, 150, 204, 289, 9007, 1494, 424, 496, 6578, 14143, 425, 2846, 3222, 1186, 455, 898, 10303, 293, 2149, 349, 700, 256, 4], [1299, 3543, 3135, 260, 1281, 8329, 1554, 3668, 2717, 674, 1779, 526, 438, 15, 1, 260, 116, 6311, 8329, 1554, 3668, 5198, 854, 1875, 3195, 3094, 8329, 1554, 3668, 116, 2]]\n"
     ]
    }
   ],
   "source": [
    "encoder_input_train = src_tokenizer.texts_to_sequences(encoder_input_train) \n",
    "encoder_input_test = src_tokenizer.texts_to_sequences(encoder_input_test)\n",
    "\n",
    "# 샘플 출력\n",
    "print(encoder_input_train[:3])"
   ]
  },
  {
   "cell_type": "markdown",
   "id": "everyday-found",
   "metadata": {},
   "source": [
    "### Headlines 데이터 단어 집합 생성"
   ]
  },
  {
   "cell_type": "code",
   "execution_count": 45,
   "id": "returning-consumer",
   "metadata": {},
   "outputs": [],
   "source": [
    "tar_tokenizer = Tokenizer()\n",
    "tar_tokenizer.fit_on_texts(decoder_input_train)"
   ]
  },
  {
   "cell_type": "markdown",
   "id": "sunset-rolling",
   "metadata": {},
   "source": [
    "### Headlines 데이터에서 등장 빈도수가 7회 미만인 단어들의 빈도수 확인"
   ]
  },
  {
   "cell_type": "code",
   "execution_count": 50,
   "id": "elegant-likelihood",
   "metadata": {},
   "outputs": [
    {
     "name": "stdout",
     "output_type": "stream",
     "text": [
      "단어 집합(vocabulary)의 크기 : 28404\n",
      "등장 빈도가 6번 이하인 희귀 단어의 수: 19552\n",
      "단어 집합에서 희귀 단어를 제외시킬 경우의 단어 집합의 크기 8852\n",
      "단어 집합에서 희귀 단어의 비율: 68.83537529925363\n",
      "전체 등장 빈도에서 희귀 단어 등장 빈도 비율: 5.923551859296772\n"
     ]
    }
   ],
   "source": [
    "threshold = 7\n",
    "total_cnt = len(tar_tokenizer.word_index) # 단어의 수\n",
    "rare_cnt = 0 # 등장 빈도수가 threshold보다 작은 단어의 개수를 카운트\n",
    "total_freq = 0 # 훈련 데이터의 전체 단어 빈도수 총 합\n",
    "rare_freq = 0 # 등장 빈도수가 threshold보다 작은 단어의 등장 빈도수의 총 합\n",
    "\n",
    "# 단어와 빈도수의 쌍(pair)을 key와 value로 받는다.\n",
    "for key, value in tar_tokenizer.word_counts.items():\n",
    "    total_freq = total_freq + value\n",
    "\n",
    "    # 단어의 등장 빈도수가 threshold보다 작으면\n",
    "    if(value < threshold):\n",
    "        rare_cnt = rare_cnt + 1\n",
    "        rare_freq = rare_freq + value\n",
    "\n",
    "print('단어 집합(vocabulary)의 크기 :',total_cnt)\n",
    "print('등장 빈도가 %s번 이하인 희귀 단어의 수: %s'%(threshold - 1, rare_cnt))\n",
    "print('단어 집합에서 희귀 단어를 제외시킬 경우의 단어 집합의 크기 %s'%(total_cnt - rare_cnt))\n",
    "print(\"단어 집합에서 희귀 단어의 비율:\", (rare_cnt / total_cnt)*100)\n",
    "print(\"전체 등장 빈도에서 희귀 단어 등장 빈도 비율:\", (rare_freq / total_freq)*100)"
   ]
  },
  {
   "cell_type": "markdown",
   "id": "consecutive-honolulu",
   "metadata": {},
   "source": [
    "### Headlines 데이터 단어 집합의 크기 제한"
   ]
  },
  {
   "cell_type": "code",
   "execution_count": 51,
   "id": "chubby-arctic",
   "metadata": {},
   "outputs": [],
   "source": [
    "tar_vocab = 8000\n",
    "tar_tokenizer = Tokenizer(num_words = tar_vocab) \n",
    "tar_tokenizer.fit_on_texts(decoder_input_train)\n",
    "tar_tokenizer.fit_on_texts(decoder_target_train)"
   ]
  },
  {
   "cell_type": "markdown",
   "id": "recreational-strap",
   "metadata": {},
   "source": [
    "### Headlines 데이터 텍스트 시퀀스를 정수 시퀀스로 변환"
   ]
  },
  {
   "cell_type": "code",
   "execution_count": 52,
   "id": "professional-concrete",
   "metadata": {},
   "outputs": [
    {
     "name": "stdout",
     "output_type": "stream",
     "text": [
      "input\n",
      "input  [[1, 998, 665, 13, 60, 1581, 880], [1, 26, 272, 134, 105, 51, 228, 571, 624], [1, 1197, 3, 4427, 4577, 317, 13], [1, 328, 373, 1470, 427, 83, 48, 7118, 7, 4126, 7119], [1, 1085, 7593, 3130, 13, 229, 122, 1356, 36, 1610]]\n",
      "target\n",
      "decoder  [[998, 665, 13, 60, 1581, 880, 2], [26, 272, 134, 105, 51, 228, 571, 624, 2], [1197, 3, 4427, 4577, 317, 13, 2], [328, 373, 1470, 427, 83, 48, 7118, 7, 4126, 7119, 2], [1085, 7593, 3130, 13, 229, 122, 1356, 36, 1610, 2]]\n"
     ]
    }
   ],
   "source": [
    "decoder_input_train = tar_tokenizer.texts_to_sequences(decoder_input_train) \n",
    "decoder_target_train = tar_tokenizer.texts_to_sequences(decoder_target_train)\n",
    "decoder_input_test = tar_tokenizer.texts_to_sequences(decoder_input_test)\n",
    "decoder_target_test = tar_tokenizer.texts_to_sequences(decoder_target_test)\n",
    "\n",
    "# 샘플 확인\n",
    "print('input')\n",
    "print('input ',decoder_input_train[:5])\n",
    "print('target')\n",
    "print('decoder ',decoder_target_train[:5])"
   ]
  },
  {
   "cell_type": "markdown",
   "id": "current-volleyball",
   "metadata": {},
   "source": [
    "### Headlines 데이터 빈 샘플(empty) 삭제"
   ]
  },
  {
   "cell_type": "code",
   "execution_count": 53,
   "id": "mineral-subject",
   "metadata": {},
   "outputs": [
    {
     "name": "stdout",
     "output_type": "stream",
     "text": [
      "삭제할 훈련 데이터의 개수 : 1\n",
      "삭제할 테스트 데이터의 개수 : 0\n",
      "훈련 데이터의 개수 : 68674\n",
      "훈련 레이블의 개수 : 68674\n",
      "테스트 데이터의 개수 : 17168\n",
      "테스트 레이블의 개수 : 17168\n"
     ]
    },
    {
     "name": "stderr",
     "output_type": "stream",
     "text": [
      "/home/aiffel-dj24/anaconda3/envs/aiffel/lib/python3.7/site-packages/numpy/core/_asarray.py:83: VisibleDeprecationWarning: Creating an ndarray from ragged nested sequences (which is a list-or-tuple of lists-or-tuples-or ndarrays with different lengths or shapes) is deprecated. If you meant to do this, you must specify 'dtype=object' when creating the ndarray\n",
      "  return array(a, dtype, copy=False, order=order)\n"
     ]
    }
   ],
   "source": [
    "drop_train = [index for index, sentence in enumerate(decoder_input_train) if len(sentence) == 1]\n",
    "drop_test = [index for index, sentence in enumerate(decoder_input_test) if len(sentence) == 1]\n",
    "\n",
    "print('삭제할 훈련 데이터의 개수 :',len(drop_train))\n",
    "print('삭제할 테스트 데이터의 개수 :',len(drop_test))\n",
    "\n",
    "encoder_input_train = np.delete(encoder_input_train, drop_train, axis=0)\n",
    "decoder_input_train = np.delete(decoder_input_train, drop_train, axis=0)\n",
    "decoder_target_train = np.delete(decoder_target_train, drop_train, axis=0)\n",
    "\n",
    "encoder_input_test = np.delete(encoder_input_test, drop_test, axis=0)\n",
    "decoder_input_test = np.delete(decoder_input_test, drop_test, axis=0)\n",
    "decoder_target_test = np.delete(decoder_target_test, drop_test, axis=0)\n",
    "\n",
    "print('훈련 데이터의 개수 :', len(encoder_input_train))\n",
    "print('훈련 레이블의 개수 :',len(decoder_input_train))\n",
    "print('테스트 데이터의 개수 :',len(encoder_input_test))\n",
    "print('테스트 레이블의 개수 :',len(decoder_input_test))"
   ]
  },
  {
   "cell_type": "markdown",
   "id": "secondary-hometown",
   "metadata": {},
   "source": [
    "### 패딩(최대 길이보다 짧은 데이터들 뒤의 공간에 숫자 0 삽입)"
   ]
  },
  {
   "cell_type": "code",
   "execution_count": 55,
   "id": "pointed-tractor",
   "metadata": {},
   "outputs": [],
   "source": [
    "encoder_input_train = pad_sequences(encoder_input_train, maxlen = text_max_len, padding='post')\n",
    "encoder_input_test = pad_sequences(encoder_input_test, maxlen = text_max_len, padding='post')\n",
    "decoder_input_train = pad_sequences(decoder_input_train, maxlen = headlines_max_len, padding='post')\n",
    "decoder_target_train = pad_sequences(decoder_target_train, maxlen = headlines_max_len, padding='post')\n",
    "decoder_input_test = pad_sequences(decoder_input_test, maxlen = headlines_max_len, padding='post')\n",
    "decoder_target_test = pad_sequences(decoder_target_test, maxlen = headlines_max_len, padding='post')"
   ]
  },
  {
   "cell_type": "markdown",
   "id": "compatible-pleasure",
   "metadata": {},
   "source": [
    "---"
   ]
  },
  {
   "cell_type": "markdown",
   "id": "utility-measurement",
   "metadata": {},
   "source": [
    "## Step 3. 어텐션 메커니즘 사용하기 (추상적 요약)"
   ]
  },
  {
   "cell_type": "markdown",
   "id": "driven-frederick",
   "metadata": {},
   "source": [
    "### 인코더 모델 설계"
   ]
  },
  {
   "cell_type": "code",
   "execution_count": 56,
   "id": "formed-progressive",
   "metadata": {},
   "outputs": [
    {
     "name": "stdout",
     "output_type": "stream",
     "text": [
      "WARNING:tensorflow:Layer lstm will not use cuDNN kernel since it doesn't meet the cuDNN kernel criteria. It will use generic GPU kernel as fallback when running on GPU\n",
      "WARNING:tensorflow:Layer lstm_1 will not use cuDNN kernel since it doesn't meet the cuDNN kernel criteria. It will use generic GPU kernel as fallback when running on GPU\n",
      "WARNING:tensorflow:Layer lstm_2 will not use cuDNN kernel since it doesn't meet the cuDNN kernel criteria. It will use generic GPU kernel as fallback when running on GPU\n"
     ]
    }
   ],
   "source": [
    "from tensorflow.keras.layers import Input, LSTM, Embedding, Dense, Concatenate\n",
    "from tensorflow.keras.models import Model\n",
    "from tensorflow.keras.callbacks import EarlyStopping, ModelCheckpoint\n",
    "\n",
    "\n",
    "# 인코더 설계 시작\n",
    "embedding_dim = 128\n",
    "hidden_size = 256\n",
    "\n",
    "# 인코더\n",
    "encoder_inputs = Input(shape=(text_max_len,))\n",
    "\n",
    "# 인코더의 임베딩 층\n",
    "enc_emb = Embedding(src_vocab, embedding_dim)(encoder_inputs)\n",
    "\n",
    "# 인코더의 LSTM 1\n",
    "encoder_lstm1 = LSTM(hidden_size, return_sequences=True, return_state=True ,dropout = 0.4, recurrent_dropout = 0.4)\n",
    "encoder_output1, state_h1, state_c1 = encoder_lstm1(enc_emb)\n",
    "\n",
    "# 인코더의 LSTM 2\n",
    "encoder_lstm2 = LSTM(hidden_size, return_sequences=True, return_state=True, dropout=0.4, recurrent_dropout=0.4)\n",
    "encoder_output2, state_h2, state_c2 = encoder_lstm2(encoder_output1)\n",
    "\n",
    "# 인코더의 LSTM 3\n",
    "encoder_lstm3 = LSTM(hidden_size, return_state=True, return_sequences=True, dropout=0.4, recurrent_dropout=0.4)\n",
    "encoder_outputs, state_h, state_c= encoder_lstm3(encoder_output2)"
   ]
  },
  {
   "cell_type": "markdown",
   "id": "tough-linux",
   "metadata": {},
   "source": [
    "### 디코더의 입력층 모델 설계"
   ]
  },
  {
   "cell_type": "code",
   "execution_count": 57,
   "id": "portuguese-helping",
   "metadata": {},
   "outputs": [
    {
     "name": "stdout",
     "output_type": "stream",
     "text": [
      "WARNING:tensorflow:Layer lstm_3 will not use cuDNN kernel since it doesn't meet the cuDNN kernel criteria. It will use generic GPU kernel as fallback when running on GPU\n"
     ]
    }
   ],
   "source": [
    "# 디코더 설계\n",
    "decoder_inputs = Input(shape=(None,))\n",
    "\n",
    "# 디코더의 임베딩 층\n",
    "dec_emb_layer = Embedding(tar_vocab, embedding_dim)\n",
    "dec_emb = dec_emb_layer(decoder_inputs)\n",
    "\n",
    "# 디코더의 LSTM\n",
    "decoder_lstm = LSTM(hidden_size, return_sequences = True, return_state = True, dropout = 0.4, recurrent_dropout=0.2)\n",
    "decoder_outputs, _, _ = decoder_lstm(dec_emb, initial_state = [state_h, state_c])"
   ]
  },
  {
   "cell_type": "markdown",
   "id": "massive-stamp",
   "metadata": {},
   "source": [
    "### 디코더의 출력층 모델 설계"
   ]
  },
  {
   "cell_type": "code",
   "execution_count": 58,
   "id": "abstract-surface",
   "metadata": {},
   "outputs": [
    {
     "name": "stdout",
     "output_type": "stream",
     "text": [
      "Model: \"model\"\n",
      "__________________________________________________________________________________________________\n",
      "Layer (type)                    Output Shape         Param #     Connected to                     \n",
      "==================================================================================================\n",
      "input_1 (InputLayer)            [(None, 40)]         0                                            \n",
      "__________________________________________________________________________________________________\n",
      "embedding (Embedding)           (None, 40, 128)      2560000     input_1[0][0]                    \n",
      "__________________________________________________________________________________________________\n",
      "lstm (LSTM)                     [(None, 40, 256), (N 394240      embedding[0][0]                  \n",
      "__________________________________________________________________________________________________\n",
      "input_2 (InputLayer)            [(None, None)]       0                                            \n",
      "__________________________________________________________________________________________________\n",
      "lstm_1 (LSTM)                   [(None, 40, 256), (N 525312      lstm[0][0]                       \n",
      "__________________________________________________________________________________________________\n",
      "embedding_1 (Embedding)         (None, None, 128)    1024000     input_2[0][0]                    \n",
      "__________________________________________________________________________________________________\n",
      "lstm_2 (LSTM)                   [(None, 40, 256), (N 525312      lstm_1[0][0]                     \n",
      "__________________________________________________________________________________________________\n",
      "lstm_3 (LSTM)                   [(None, None, 256),  394240      embedding_1[0][0]                \n",
      "                                                                 lstm_2[0][1]                     \n",
      "                                                                 lstm_2[0][2]                     \n",
      "__________________________________________________________________________________________________\n",
      "dense (Dense)                   (None, None, 8000)   2056000     lstm_3[0][0]                     \n",
      "==================================================================================================\n",
      "Total params: 7,479,104\n",
      "Trainable params: 7,479,104\n",
      "Non-trainable params: 0\n",
      "__________________________________________________________________________________________________\n"
     ]
    }
   ],
   "source": [
    "# 디코더의 출력층\n",
    "decoder_softmax_layer = Dense(tar_vocab, activation = 'softmax')\n",
    "decoder_softmax_outputs = decoder_softmax_layer(decoder_outputs) \n",
    "\n",
    "# 모델 정의\n",
    "model = Model([encoder_inputs, decoder_inputs], decoder_softmax_outputs)\n",
    "model.summary()"
   ]
  },
  {
   "cell_type": "markdown",
   "id": "driving-player",
   "metadata": {},
   "source": [
    "### 어텐션 함수 다운로드"
   ]
  },
  {
   "cell_type": "code",
   "execution_count": 59,
   "id": "dressed-attribute",
   "metadata": {},
   "outputs": [],
   "source": [
    "urllib.request.urlretrieve(\"https://raw.githubusercontent.com/thushv89/attention_keras/master/src/layers/attention.py\", filename=\"attention.py\")\n",
    "from attention import AttentionLayer"
   ]
  },
  {
   "cell_type": "markdown",
   "id": "three-nutrition",
   "metadata": {},
   "source": [
    "### 디코더의 출력층 모델 설계 수정"
   ]
  },
  {
   "cell_type": "code",
   "execution_count": 60,
   "id": "available-manitoba",
   "metadata": {},
   "outputs": [
    {
     "name": "stdout",
     "output_type": "stream",
     "text": [
      "Model: \"model_1\"\n",
      "__________________________________________________________________________________________________\n",
      "Layer (type)                    Output Shape         Param #     Connected to                     \n",
      "==================================================================================================\n",
      "input_1 (InputLayer)            [(None, 40)]         0                                            \n",
      "__________________________________________________________________________________________________\n",
      "embedding (Embedding)           (None, 40, 128)      2560000     input_1[0][0]                    \n",
      "__________________________________________________________________________________________________\n",
      "lstm (LSTM)                     [(None, 40, 256), (N 394240      embedding[0][0]                  \n",
      "__________________________________________________________________________________________________\n",
      "input_2 (InputLayer)            [(None, None)]       0                                            \n",
      "__________________________________________________________________________________________________\n",
      "lstm_1 (LSTM)                   [(None, 40, 256), (N 525312      lstm[0][0]                       \n",
      "__________________________________________________________________________________________________\n",
      "embedding_1 (Embedding)         (None, None, 128)    1024000     input_2[0][0]                    \n",
      "__________________________________________________________________________________________________\n",
      "lstm_2 (LSTM)                   [(None, 40, 256), (N 525312      lstm_1[0][0]                     \n",
      "__________________________________________________________________________________________________\n",
      "lstm_3 (LSTM)                   [(None, None, 256),  394240      embedding_1[0][0]                \n",
      "                                                                 lstm_2[0][1]                     \n",
      "                                                                 lstm_2[0][2]                     \n",
      "__________________________________________________________________________________________________\n",
      "attention_layer (AttentionLayer ((None, None, 256),  131328      lstm_2[0][0]                     \n",
      "                                                                 lstm_3[0][0]                     \n",
      "__________________________________________________________________________________________________\n",
      "concat_layer (Concatenate)      (None, None, 512)    0           lstm_3[0][0]                     \n",
      "                                                                 attention_layer[0][0]            \n",
      "__________________________________________________________________________________________________\n",
      "dense_1 (Dense)                 (None, None, 8000)   4104000     concat_layer[0][0]               \n",
      "==================================================================================================\n",
      "Total params: 9,658,432\n",
      "Trainable params: 9,658,432\n",
      "Non-trainable params: 0\n",
      "__________________________________________________________________________________________________\n"
     ]
    }
   ],
   "source": [
    "# 어텐션 층(어텐션 함수)\n",
    "attn_layer = AttentionLayer(name='attention_layer')\n",
    "# 인코더와 디코더의 모든 time step의 hidden state를 어텐션 층에 전달하고 결과를 리턴\n",
    "attn_out, attn_states = attn_layer([encoder_outputs, decoder_outputs])\n",
    "\n",
    "# 어텐션의 결과와 디코더의 hidden state들을 연결\n",
    "decoder_concat_input = Concatenate(axis = -1, name='concat_layer')([decoder_outputs, attn_out])\n",
    "\n",
    "# 디코더의 출력층\n",
    "decoder_softmax_layer = Dense(tar_vocab, activation='softmax')\n",
    "decoder_softmax_outputs = decoder_softmax_layer(decoder_concat_input)\n",
    "\n",
    "# 모델 정의\n",
    "model = Model([encoder_inputs, decoder_inputs], decoder_softmax_outputs)\n",
    "model.summary()"
   ]
  },
  {
   "cell_type": "markdown",
   "id": "convenient-exhibit",
   "metadata": {},
   "source": [
    "### 모델 훈련"
   ]
  },
  {
   "cell_type": "code",
   "execution_count": 61,
   "id": "matched-thong",
   "metadata": {},
   "outputs": [
    {
     "name": "stdout",
     "output_type": "stream",
     "text": [
      "Epoch 1/50\n",
      "269/269 [==============================] - 84s 313ms/step - loss: 5.8389 - val_loss: 5.4334\n",
      "Epoch 2/50\n",
      "269/269 [==============================] - 84s 311ms/step - loss: 5.2865 - val_loss: 5.0431\n",
      "Epoch 3/50\n",
      "269/269 [==============================] - 84s 312ms/step - loss: 4.9220 - val_loss: 4.7698\n",
      "Epoch 4/50\n",
      "269/269 [==============================] - 84s 312ms/step - loss: 4.6453 - val_loss: 4.5703\n",
      "Epoch 5/50\n",
      "269/269 [==============================] - 84s 311ms/step - loss: 4.4291 - val_loss: 4.4396\n",
      "Epoch 6/50\n",
      "269/269 [==============================] - 83s 310ms/step - loss: 4.2453 - val_loss: 4.2982\n",
      "Epoch 7/50\n",
      "269/269 [==============================] - 84s 311ms/step - loss: 4.0870 - val_loss: 4.1969\n",
      "Epoch 8/50\n",
      "269/269 [==============================] - 83s 310ms/step - loss: 3.9476 - val_loss: 4.1270\n",
      "Epoch 9/50\n",
      "269/269 [==============================] - 83s 310ms/step - loss: 3.8250 - val_loss: 4.0600\n",
      "Epoch 10/50\n",
      "269/269 [==============================] - 84s 311ms/step - loss: 3.7146 - val_loss: 3.9965\n",
      "Epoch 11/50\n",
      "269/269 [==============================] - 84s 311ms/step - loss: 3.6171 - val_loss: 3.9494\n",
      "Epoch 12/50\n",
      "269/269 [==============================] - 84s 311ms/step - loss: 3.5271 - val_loss: 3.9098\n",
      "Epoch 13/50\n",
      "269/269 [==============================] - 83s 310ms/step - loss: 3.4478 - val_loss: 3.8825\n",
      "Epoch 14/50\n",
      "269/269 [==============================] - 84s 311ms/step - loss: 3.3737 - val_loss: 3.8543\n",
      "Epoch 15/50\n",
      "269/269 [==============================] - 84s 311ms/step - loss: 3.3021 - val_loss: 3.8391\n",
      "Epoch 16/50\n",
      "269/269 [==============================] - 83s 310ms/step - loss: 3.2385 - val_loss: 3.8111\n",
      "Epoch 17/50\n",
      "269/269 [==============================] - 84s 311ms/step - loss: 3.1795 - val_loss: 3.7976\n",
      "Epoch 18/50\n",
      "269/269 [==============================] - 84s 311ms/step - loss: 3.1250 - val_loss: 3.7822\n",
      "Epoch 19/50\n",
      "269/269 [==============================] - 83s 310ms/step - loss: 3.0722 - val_loss: 3.7770\n",
      "Epoch 20/50\n",
      "269/269 [==============================] - 84s 312ms/step - loss: 3.0201 - val_loss: 3.7631\n",
      "Epoch 21/50\n",
      "269/269 [==============================] - 83s 310ms/step - loss: 2.9751 - val_loss: 3.7533\n",
      "Epoch 22/50\n",
      "269/269 [==============================] - 83s 310ms/step - loss: 2.9320 - val_loss: 3.7554\n",
      "Epoch 23/50\n",
      "269/269 [==============================] - 83s 310ms/step - loss: 2.8904 - val_loss: 3.7425\n",
      "Epoch 24/50\n",
      "269/269 [==============================] - 84s 311ms/step - loss: 2.8511 - val_loss: 3.7455\n",
      "Epoch 25/50\n",
      "269/269 [==============================] - 83s 310ms/step - loss: 2.8109 - val_loss: 3.7325\n",
      "Epoch 26/50\n",
      "269/269 [==============================] - 84s 311ms/step - loss: 2.7740 - val_loss: 3.7395\n",
      "Epoch 27/50\n",
      "269/269 [==============================] - 83s 310ms/step - loss: 2.7429 - val_loss: 3.7328\n",
      "Epoch 00027: early stopping\n"
     ]
    }
   ],
   "source": [
    "model.compile(optimizer='rmsprop', loss='sparse_categorical_crossentropy')\n",
    "es = EarlyStopping(monitor='val_loss', mode='min', verbose=1, patience = 2)\n",
    "history = model.fit(x = [encoder_input_train, decoder_input_train], y = decoder_target_train, \\\n",
    "          validation_data = ([encoder_input_test, decoder_input_test], decoder_target_test),\n",
    "          batch_size = 256, callbacks=[es], epochs = 50)"
   ]
  },
  {
   "cell_type": "markdown",
   "id": "stuck-tulsa",
   "metadata": {},
   "source": [
    "### 데이터 손실 과정 시각화"
   ]
  },
  {
   "cell_type": "code",
   "execution_count": 62,
   "id": "specific-administration",
   "metadata": {},
   "outputs": [
    {
     "data": {
      "image/png": "[encoded data removed]",
      "text/plain": [
       "<Figure size 432x288 with 1 Axes>"
      ]
     },
     "metadata": {
      "needs_background": "light"
     },
     "output_type": "display_data"
    }
   ],
   "source": [
    "plt.plot(history.history['loss'], label='train')\n",
    "plt.plot(history.history['val_loss'], label='test')\n",
    "plt.legend()\n",
    "plt.show()"
   ]
  },
  {
   "cell_type": "markdown",
   "id": "organizational-humidity",
   "metadata": {},
   "source": [
    "### 인퍼런스 모델 구현 준비"
   ]
  },
  {
   "cell_type": "code",
   "execution_count": 71,
   "id": "serious-night",
   "metadata": {},
   "outputs": [],
   "source": [
    "src_index_to_word = src_tokenizer.index_word # 원문 단어 집합에서 정수 -> 단어를 얻음\n",
    "tar_word_to_index = tar_tokenizer.word_index # 요약 단어 집합에서 단어 -> 정수를 얻음\n",
    "tar_index_to_word = tar_tokenizer.index_word # 요약 단어 집합에서 정수 -> 단어를 얻음"
   ]
  },
  {
   "cell_type": "markdown",
   "id": "labeled-exclusion",
   "metadata": {},
   "source": [
    "### 인퍼런스 인코더 모델 설계"
   ]
  },
  {
   "cell_type": "code",
   "execution_count": 64,
   "id": "scheduled-asian",
   "metadata": {},
   "outputs": [],
   "source": [
    "# 인코더 설계\n",
    "encoder_model = Model(inputs=encoder_inputs, outputs=[encoder_outputs, state_h, state_c])\n",
    "\n",
    "# 이전 시점의 상태들을 저장하는 텐서\n",
    "decoder_state_input_h = Input(shape=(hidden_size,))\n",
    "decoder_state_input_c = Input(shape=(hidden_size,))\n",
    "\n",
    "dec_emb2 = dec_emb_layer(decoder_inputs)\n",
    "# 문장의 다음 단어를 예측하기 위해서 초기 상태(initial_state)를 이전 시점의 상태로 사용. 이는 뒤의 함수 decode_sequence()에 구현\n",
    "# 훈련 과정에서와 달리 LSTM의 리턴하는 은닉 상태와 셀 상태인 state_h와 state_c를 버리지 않음.\n",
    "decoder_outputs2, state_h2, state_c2 = decoder_lstm(dec_emb2, initial_state=[decoder_state_input_h, decoder_state_input_c])"
   ]
  },
  {
   "cell_type": "markdown",
   "id": "sudden-gazette",
   "metadata": {},
   "source": [
    "### 인퍼런스 디코더 모델 설계"
   ]
  },
  {
   "cell_type": "code",
   "execution_count": 65,
   "id": "right-simulation",
   "metadata": {},
   "outputs": [],
   "source": [
    "# 어텐션 함수\n",
    "decoder_hidden_state_input = Input(shape=(text_max_len, hidden_size))\n",
    "attn_out_inf, attn_states_inf = attn_layer([decoder_hidden_state_input, decoder_outputs2])\n",
    "decoder_inf_concat = Concatenate(axis=-1, name='concat')([decoder_outputs2, attn_out_inf])\n",
    "\n",
    "# 디코더의 출력층\n",
    "decoder_outputs2 = decoder_softmax_layer(decoder_inf_concat) \n",
    "\n",
    "# 최종 디코더 모델\n",
    "decoder_model = Model(\n",
    "    [decoder_inputs] + [decoder_hidden_state_input,decoder_state_input_h, decoder_state_input_c],\n",
    "    [decoder_outputs2] + [state_h2, state_c2])"
   ]
  },
  {
   "cell_type": "markdown",
   "id": "suspended-adelaide",
   "metadata": {},
   "source": [
    "### 단어 시퀀스를 완성하는 함수 생성"
   ]
  },
  {
   "cell_type": "code",
   "execution_count": 73,
   "id": "floppy-right",
   "metadata": {},
   "outputs": [],
   "source": [
    "def decode_sequence(input_seq):\n",
    "    # 입력으로부터 인코더의 상태를 얻음\n",
    "    e_out, e_h, e_c = encoder_model.predict(input_seq)\n",
    "\n",
    "     # <SOS>에 해당하는 토큰 생성\n",
    "    target_seq = np.zeros((1,1))\n",
    "    target_seq[0, 0] = tar_word_to_index['sostoken']\n",
    "\n",
    "    stop_condition = False\n",
    "    decoded_sentence = ''\n",
    "    while not stop_condition: # stop_condition이 True가 될 때까지 루프 반복\n",
    "\n",
    "        output_tokens, h, c = decoder_model.predict([target_seq] + [e_out, e_h, e_c])\n",
    "        sampled_token_index = np.argmax(output_tokens[0, -1, :])\n",
    "        sampled_token = tar_index_to_word[sampled_token_index]\n",
    "\n",
    "        if(sampled_token!='eostoken'):\n",
    "            decoded_sentence += ' '+sampled_token\n",
    "\n",
    "        #  <eos>에 도달하거나 최대 길이를 넘으면 중단.\n",
    "        if (sampled_token == 'eostoken'  or len(decoded_sentence.split()) >= (headlines_max_len-1)):\n",
    "            stop_condition = True\n",
    "\n",
    "        # 길이가 1인 타겟 시퀀스를 업데이트\n",
    "        target_seq = np.zeros((1,1))\n",
    "        target_seq[0, 0] = sampled_token_index\n",
    "\n",
    "        # 상태 업데이트\n",
    "        e_h, e_c = h, c\n",
    "\n",
    "    return decoded_sentence"
   ]
  },
  {
   "cell_type": "markdown",
   "id": "critical-gather",
   "metadata": {},
   "source": [
    "---"
   ]
  },
  {
   "cell_type": "markdown",
   "id": "acting-coating",
   "metadata": {},
   "source": [
    "## Step 4. 실제 결과와 요약문 비교하기 (추상적 요약)"
   ]
  },
  {
   "cell_type": "markdown",
   "id": "perfect-surface",
   "metadata": {},
   "source": [
    "### 모델 테스트를 위한 시퀀스 변환 함수 생성(정수 -> 텍스트)"
   ]
  },
  {
   "cell_type": "code",
   "execution_count": 74,
   "id": "seventh-alabama",
   "metadata": {},
   "outputs": [],
   "source": [
    "# 원문의 정수 시퀀스를 텍스트 시퀀스로 변환\n",
    "def seq2text(input_seq):\n",
    "    temp=''\n",
    "    for i in input_seq:\n",
    "        if(i!=0):\n",
    "            temp = temp + src_index_to_word[i]+' '\n",
    "    return temp\n",
    "\n",
    "# 요약문의 정수 시퀀스를 텍스트 시퀀스로 변환\n",
    "def seq2summary(input_seq):\n",
    "    temp=''\n",
    "    for i in input_seq:\n",
    "        if((i!=0 and i!=tar_word_to_index['sostoken']) and i!=tar_word_to_index['eostoken']):\n",
    "            temp = temp + tar_index_to_word[i] + ' '\n",
    "    return temp"
   ]
  },
  {
   "cell_type": "markdown",
   "id": "domestic-contributor",
   "metadata": {},
   "source": [
    "### 실제 요약과 예측된 요약을 비교"
   ]
  },
  {
   "cell_type": "code",
   "execution_count": 75,
   "id": "smooth-consumer",
   "metadata": {},
   "outputs": [
    {
     "name": "stdout",
     "output_type": "stream",
     "text": [
      "원문 : australian tennis player played cricketer women big bash league us open women doubles title along partner sunday year old turned professional tennis player took break tennis played cricket returned tennis \n",
      "실제 요약 : australian who returned to tennis from cricket wins us open \n",
      "예측 요약 :  player to play australian open in us open match\n",
      "\n",
      "\n",
      "원문 : kenya broke four world records win half marathon saturday running fifth half marathon completed kilometre distance one hour four minutes seconds seconds quicker previous world record also broke km km km world records race \n",
      "실제 요약 : kenyan woman breaks world records at half marathon \n",
      "예측 요약 :  time race misses four seconds to reach four seconds\n",
      "\n",
      "\n",
      "원문 : america tribune media company today scrapped billion buyout deal rival broadcast group instead sued company alleged breach contract tribune said failed live end deal receive regulatory approval merger cannot completed within acceptable tribune ceo said \n",
      "실제 요약 : media scraps bn buyout by rival sues it instead \n",
      "예측 요약 :  yahoo to raise billion from billion\n",
      "\n",
      "\n",
      "원문 : rss sunday bjp mla raja singh remarks ram temple asserting never backed actions intend incite violence statement intends use violence added notably raja singh recently asserted would behead traitors oppose construction ram temple ayodhya \n",
      "실제 요약 : rss itself from bjp mla remark on ram temple \n",
      "예측 요약 :  bjp mla calls ram temple was beef in bjp\n",
      "\n",
      "\n",
      "원문 : photo gallery shows rare pictures veteran actor vinod khanna passed away age thursday one pictures khanna seen actor rajinikanth another photograph shows kids khanna seen amitabh bachchan shatrughan sinha one photographs \n",
      "실제 요약 : rare and pictures of late actor vinod khanna \n",
      "예측 요약 :  pictures of late actor vinod khanna in his th birthday\n",
      "\n",
      "\n",
      "원문 : bengaluru based startup raised undisclosed amount funding clutch investors including chennai angels lead angels funding used build new products expand team strengthen marketing initiatives startup said founded kailash designs manufactures customers \n",
      "실제 요약 : startup raises funds \n",
      "예측 요약 :  bengaluru startup raises million\n",
      "\n",
      "\n",
      "원문 : bombay high court recently approved service notice litigation format whatsapp valid hearing case credit card defaulter nthe court observed defaulter received bank notice icon indicators clearly showed also opened read content \n",
      "실제 요약 : notice sent via whatsapp in format valid bombay hc \n",
      "예측 요약 :  bombay hc dismisses whatsapp plea on whatsapp data\n",
      "\n",
      "\n",
      "원문 : supreme court ruled government private universities cannot raise fees arbitrarily without approval committee fee every state required independent committee headed retired high court judge oversee educational institutes fee structure sc hearing petition fee hike tamil nadu university \n",
      "실제 요약 : govt private universities cannot hike fee on their own sc \n",
      "예측 요약 :  sc asks states to not need to stop\n",
      "\n",
      "\n",
      "원문 : india women captain harmanpreet kaur became first indian woman smash hundred cricket friday revealed suffered stomach ball run knock new zealand added started hitting big shots affected running wickets harmanpreet slammed eight sixes seven fours knock \n",
      "실제 요약 : stomach with big shots harmanpreet on record ton \n",
      "예측 요약 :  harmanpreet hit by ball in india by ball hit by\n",
      "\n",
      "\n",
      "원문 : chelsea spanish midfielder set career second guinness world record becoming quickest player reach assists english premier league reached landmark figure rd match also jointly holds record number volley passes seconds pair \n",
      "실제 요약 : chelsea spanish sets nd world record \n",
      "예측 요약 :  chelsea score goals in the world highest run\n",
      "\n",
      "\n",
      "원문 : former cricketer ravi shastri named new coach team india two year contract bcci cricket advisory committee interviewed five candidates monday shastri second stint team director shastri applied post bcci extended deadline applications following anil kumble exit \n",
      "실제 요약 : ravi shastri named coach of the indian cricket team reports \n",
      "예측 요약 :  ravi shastri to replace shastri in india\n",
      "\n",
      "\n",
      "원문 : forward luis su rez bit italian defender shoulder group stage match fifa world cup third time su rez career bit opponent first offence coming second su rez suspended football related activity four months following repeat offences \n",
      "실제 요약 : player once bit his rival during world cup match \n",
      "예측 요약 :  player throws his own match into cup\n",
      "\n",
      "\n",
      "원문 : according reports ryan reynolds starrer superhero film deadpool feature song hi shah rukh khan starrer song reportedly feature scene shows character indian driving cab deadpool scheduled release may \n",
      "실제 요약 : deadpool to feature song from srk reports \n",
      "예측 요약 :  deadpool to stop song from srk starrer race\n",
      "\n",
      "\n",
      "원문 : prince india first ever international cricketer played matches course career england debut match scored australia manchester july following went play matches notably india domestic first class cricket championship ranji trophy named \n",
      "실제 요약 : india first ever int cricketer played only for england \n",
      "예측 요약 :  india first ever to win only in india\n",
      "\n",
      "\n",
      "원문 : google reportedly facing record european union fine using android operating system manipulate smartphone manufacturers company accused giving android software free exchange agreements install apps fine expected surpass billion fine google paid last year manipulating internet shopping business \n",
      "실제 요약 : google may face record fine by eu over android monopoly case \n",
      "예측 요약 :  google removes apps from android apps over data store\n",
      "\n",
      "\n",
      "원문 : national award winning filmmaker ahluwalia directed arjun rampal starrer daddy said actors bollywood cannot act role asha gawli want random model portray role nobody bollywood fit bill added said sole thing made daddy bollywood film starred arjun \n",
      "실제 요약 : actors in bollywood cannot act daddy director \n",
      "예측 요약 :  arjun rampal is the only of my life farah\n",
      "\n",
      "\n",
      "원문 : kerala opened one five dam reservoir first time years heavy rain claimed lives hours state water level rose feet nearing maximum storage level feet reservoir almost litres water released per second reservoir \n",
      "실제 요약 : kerala dam gate opened after years following heavy rain \n",
      "예측 요약 :  kerala state declares high after years\n",
      "\n",
      "\n",
      "원문 : hollywood filmmaker bryan singer known directing men films denied allegations sexually harassed year old boy victim named sanchez guzman alleged singer forced sexual acts yacht party sanchez guzman seeking compensation damages well past future medical expenses legal costs \n",
      "실제 요약 : director singer denies sexually assaulting yr old \n",
      "예측 요약 :  director director accused of sexual harassment by men in delhi\n",
      "\n",
      "\n",
      "원문 : former rbi governor raghuram rajan tuesday said hard determine actual impact demonetisation especially informal sector due lack accurate numbers fallout demonetisation several disruptions including gst rajan added said careful investigation needed identify deposited black money \n",
      "실제 요약 : hard to figure out impact of demonetisation rajan \n",
      "예측 요약 :  demonetisation was not demonetisation\n",
      "\n",
      "\n",
      "원문 : around muslim families village jharkhand growing flowers hindu temples past four decades families also temples flowers free cost occasions like ram navami durga puja flower never failed deliver festivities local temple priest said \n",
      "실제 요약 : muslims for hindu temples in khand village \n",
      "예측 요약 :  muslim village body to be built in jharkhand\n",
      "\n",
      "\n",
      "원문 : actress meira omar appeared film tum ho accused celebrity management agency entertainment co founder das blah made girl apartment balcony told helped get girls come shell meira added also accused forcibly kissing \n",
      "실제 요약 : told me he made girl in his balcony actress \n",
      "예측 요약 :  was not to be with my husband\n",
      "\n",
      "\n",
      "원문 : wrestler bajrang punia first commonwealth games gold medal defeating wales kane technical men freestyle kg final gold coast friday india fifth medal wrestling edition rahul aware sushil kumar registering gold wins earlier bajrang silver medal commonwealth games \n",
      "실제 요약 : bajrang wins his st cwg gold india th at cwg \n",
      "예측 요약 :  wrestler wins gold at world wrestling ships\n",
      "\n",
      "\n",
      "원문 : facebook owned instagram launched standalone video app called allow users upload videos one hour length users able swipe videos visit browse tab recommended videos creators following also allow creators upload videos directly instagram app product manager said \n",
      "실제 요약 : instagram launches app for hour long videos \n"
     ]
    },
    {
     "name": "stdout",
     "output_type": "stream",
     "text": [
      "예측 요약 :  facebook launches feature to let users share photos of\n",
      "\n",
      "\n",
      "원문 : world richest man bill gates ventures invested us based trucking startup convoy along investors crore series funding round amazon ceo jeff bezos also invested startup earlier two year old startup makes software matches nearby available shipping job \n",
      "실제 요약 : billionaire bill gates invests in startup convoy \n",
      "예측 요약 :  man gates invests mn in funding funding at mn valuation\n",
      "\n",
      "\n",
      "원문 : personal details lakh students appeared several competitive examinations since leaked online available price leaked details include students phone numbers email ids addresses sale data violation law source database leakage clear \n",
      "실제 요약 : lakh students data leaked online available for \n",
      "예측 요약 :  iit students with students to get exam\n",
      "\n",
      "\n",
      "원문 : indian men tennis players use shorts asian games ones provided official sponsors pockets rohan bopanna sharan taped shorts hide personal sponsors names semi final match tennis players require pockets keep spare balls \n",
      "실제 요약 : given shorts indian players use their own at asiad \n",
      "예측 요약 :  indian women team wins gold at australian open\n",
      "\n",
      "\n",
      "원문 : guests stay inside retired double decker tourist bus parsons camp england bus five single beds top deck boasts kitchen well open air dining area parsons camp also extra beds located nearby gas shower bath compost \n",
      "실제 요약 : guests can stay inside bus with beds kitchen in uk camp \n",
      "예측 요약 :  homeless kids can be given at world stadium\n",
      "\n",
      "\n",
      "원문 : us based startup pizza runs robotic raised million series funding round funding support startup hiring market growth pizza said statement founded alex garden julia collins pizza uses robots perform tasks like spreading pizza sauce \n",
      "실제 요약 : startup that runs robotic raises million \n",
      "예측 요약 :  startup raises million from scooter startup\n",
      "\n",
      "\n",
      "원문 : shuttler pv sindhu appointed revenue divisional officer andhra pradesh ap state public service commission approved appointment last month state legislature passed bill amending act appoint sindhu officer government telangana also offered sindhu job accepted offer andhra pradesh \n",
      "실제 요약 : pv sindhu to be appointed andhra pradesh government officer \n",
      "예측 요약 :  sindhu appointed as chief general general general\n",
      "\n",
      "\n",
      "원문 : mumbai police official twitter account shared post urging people dial always helps citing india opener prithvi shaw hundred test debut always good start best dial tweet read shaw plays mumbai domestic cricket made international debut today \n",
      "실제 요약 : mumbai police cites shaw debut ton to urge people to \n",
      "예측 요약 :  mumbai police tweets user on kohli tweet on\n",
      "\n",
      "\n",
      "원문 : talking playing lead biopic shiv sena founder bal thackeray actor nawazuddin siddiqui said think actor would agreed play role nawazuddin added think balasaheb life shown three hours suggested late leader life shown web series many episodes \n",
      "실제 요약 : any actor would have to play bal thackeray nawazuddin \n",
      "예측 요약 :  nawazuddin has been told to rajinikanth thackeray\n",
      "\n",
      "\n",
      "원문 : rajya sabha mp subramanian swamy thursday said ram mandir constructed ayodhya parliamentary legislation spoke various muslim leaders issue arrive conclusion said reiterated ruling bjp majority upper house parliament \n",
      "실제 요약 : ram mandir will be built by through swamy \n",
      "예측 요약 :  ram temple should be built in ayodhya swamy\n",
      "\n",
      "\n",
      "원문 : paul chairman nestle sa friday said food safety nestle company takes pride providing safe food products said global food system come long way still delivering food security needs given top priority added \n",
      "실제 요약 : food safety is not nestle chairman paul \n",
      "예측 요약 :  food food food at food quality\n",
      "\n",
      "\n",
      "원문 : censor board chief pahlaj nihalani confirmed censor board go digital producers would submit films cbfc everything including films submitted certification online said nihalani added waiting green signal information broadcasting ministry \n",
      "실제 요약 : censor board to go digital confirms chief pahlaj nihalani \n",
      "예측 요약 :  censor board pahlaj pahlaj nihalani pahlaj nihalani\n",
      "\n",
      "\n",
      "원문 : ipl auction expensive indian player jaydev unadkat bought crore rajasthan royals picked wickets matches wicket costing crore year old fast bowler bowling average ipl worst economy rate eliminator rr lost \n",
      "실제 요약 : ipl auction costliest indian cost rr cr per wicket \n",
      "예측 요약 :  costliest buy ipl auction sold for crore in ipl auction\n",
      "\n",
      "\n",
      "원문 : least people arrested tuesday staging protest near samsung manufacturing plant uttar pradesh noida protestors banner centre indian trade unions kisan sabha demanding increased participation local youth unit children farmers whose land acquired also given jobs protestor said \n",
      "실제 요약 : people held for protesting near samsung plant in noida \n",
      "예측 요약 :  arrested for plant in tamil nadu farmers\n",
      "\n",
      "\n",
      "원문 : indian authorities stopped bus service poonch pakistan occupied kashmir tensions along loc escalated pakistan continued violate ceasefire per understanding indian pakistan governments aman bus service operates two areas exchange citizens takes place basis permit system every monday \n",
      "실제 요약 : bus service between pok stopped amid tension at loc \n",
      "예측 요약 :  bus to pak pak soldiers stuck in pok\n",
      "\n",
      "\n",
      "원문 : deciding right term insurance plan checking claims paid percentage insurance company right thing higher number better credibility company pay claims max life insurance clocked claims percentage delivering healthy claims paid percentage years row \n",
      "실제 요약 : max life insurance high claims paid for years \n",
      "예측 요약 :  no care of directors directors to be probed\n",
      "\n",
      "\n",
      "원문 : islamist militant group boko haram abducted children nigeria since unicef claimed children abducted spread fear show power agency claimed conflict boko haram entered tenth year claimed lives displaced lakh people \n",
      "실제 요약 : boko haram abducted children since unicef \n",
      "예측 요약 :  nigeria to death for boko haram\n",
      "\n",
      "\n",
      "원문 : per reports actor salman khan planning launch saif ali khan daughter sara ali khan opposite sister arpita husband aayush sharma upcoming bollywood film sara reportedly heard script film love story per source expected join film mark acting debut \n",
      "실제 요약 : sara ali khan to debut with salman brother in law report \n",
      "예측 요약 :  salman to play sara in upcoming film report\n",
      "\n",
      "\n",
      "원문 : delhi based woman petitioned nikah halala supreme court claimed threatened withdraw plea sc agreed consider listing petitions practice nikah halala muslim man remarry estranged wife marries someone else marriage gets divorced \n",
      "실제 요약 : woman who against receives threats \n",
      "예측 요약 :  woman moves sc against sc seeking review petition\n",
      "\n",
      "\n",
      "원문 : claiming ordinance construction ram mandir ayodhya option left yoga guru ramdev said supreme court delaying matter hope seen side law order get disrupted people build temple without ordinance supreme court order added \n",
      "실제 요약 : no hope from sc ramdev calls for ordinance on ram mandir \n",
      "예측 요약 :  cannot give sabarimala if we are not hindus swamy\n",
      "\n",
      "\n",
      "원문 : amazon granted patent new technology prevents store shoppers checking prices products online technology allows amazon intercept network requests like search terms happen store wi fi amazon also use requested information sell shoppers products looking online \n",
      "실제 요약 : amazon store tech from seeing price online \n",
      "예측 요약 :  amazon patents smart delivery startup store\n",
      "\n",
      "\n",
      "원문 : congress president rahul gandhi monday said congress provide lakh every homeless person build homes allowance unemployed voted power telangana added would also build bed hospital every mandal treatment costing lakh also extended patients \n",
      "실제 요약 : congress will give each to homeless in telangana rahul \n",
      "예측 요약 :  congress workers give lakh to give money to poor\n",
      "\n",
      "\n",
      "원문 : special investigation team probing actor akshay kumar role hosting meeting punjab former deputy chief minister sukhbir singh badal rape convict gurmeet ram rahim akshay allegedly facilitated meeting get film singh cleared meeting allegedly held dera chief pardoned blasphemy case \n",
      "실제 요약 : akshay being probed for hosting meeting with badal ram rahim \n",
      "예측 요약 :  police chief sanjay singh gets bail in case\n",
      "\n",
      "\n",
      "원문 : filmmaker vikram bhatt said think actors john abraham bipasha basu credit careers though think favour vikram added needed talented actors films saw potential turn needed platform favour casting \n",
      "실제 요약 : do not think john bipasha credit me for their career vikram \n"
     ]
    },
    {
     "name": "stdout",
     "output_type": "stream",
     "text": [
      "예측 요약 :  am not done about vidya balan\n",
      "\n",
      "\n",
      "원문 : flipkart co founder sachin bansal monday took twitter question source paytm founder ceo vijay shekhar sharma tweet sharma shared said india best software developers based delhi followed mumbai bengaluru however mention source data \n",
      "실제 요약 : flipkart sachin bansal asks source of paytm ceo tweet \n",
      "예측 요약 :  flipkart founders binny bansal bansal\n",
      "\n",
      "\n",
      "원문 : baba ramdev backed patanjali ayurved plans raise crore banks boost production launch new products patanjali spokesperson said company reach production capacity crore units end year notably patanjali replaced itc become india second largest fmcg maker revenue crore \n",
      "실제 요약 : patanjali plans to raise crore to launch new products \n",
      "예측 요약 :  patanjali may invest crore in may raise crore\n",
      "\n",
      "\n",
      "원문 : drug users united kingdom claiming new plastic notes leave cut cocaine phenomenon nicknamed getting notes feature portraits former pm winston churchill old paper notes lost legal tender status saturday new notes durable \n",
      "실제 요약 : uk cocaine users complain new notes hurt their \n",
      "예측 요약 :  drug banned in uk for st time in uk\n",
      "\n",
      "\n",
      "원문 : tihar jail welfare fund earmarked give compensation victims crimes committed convicted prisoners distributed since jail authorities claim either hard find victims kin refuse take money see blood money \n",
      "실제 요약 : only of tihar jail welfare fund to victims kin \n",
      "예측 요약 :  inmates get jail for not to pay for women\n",
      "\n",
      "\n"
     ]
    }
   ],
   "source": [
    "for i in range(50, 100):\n",
    "    print(\"원문 :\", seq2text(encoder_input_test[i]))\n",
    "    print(\"실제 요약 :\", seq2summary(decoder_input_test[i]))\n",
    "    print(\"예측 요약 :\", decode_sequence(encoder_input_test[i].reshape(1, text_max_len)))\n",
    "    print(\"\\n\")"
   ]
  },
  {
   "cell_type": "markdown",
   "id": "sitting-explosion",
   "metadata": {},
   "source": [
    "---"
   ]
  },
  {
   "cell_type": "markdown",
   "id": "vital-cooling",
   "metadata": {},
   "source": [
    "## Step 5. Summa을 이용해서 추출적 요약해보기"
   ]
  },
  {
   "cell_type": "code",
   "execution_count": 76,
   "id": "representative-courage",
   "metadata": {},
   "outputs": [],
   "source": [
    "import requests\n",
    "from summa.summarizer import summarize"
   ]
  },
  {
   "cell_type": "code",
   "execution_count": 99,
   "id": "african-anthony",
   "metadata": {},
   "outputs": [
    {
     "name": "stdout",
     "output_type": "stream",
     "text": [
      "전체 샘플수 : 98401\n"
     ]
    }
   ],
   "source": [
    "import urllib.request\n",
    "urllib.request.urlretrieve(\"https://raw.githubusercontent.com/sunnysai12345/News_Summary/master/news_summary_more.csv\", filename=\"news_summary_more.csv\")\n",
    "data = pd.read_csv('news_summary_more.csv', encoding='iso-8859-1')\n",
    "print('전체 샘플수 :',(len(data)))"
   ]
  },
  {
   "cell_type": "code",
   "execution_count": 111,
   "id": "signal-palestinian",
   "metadata": {},
   "outputs": [
    {
     "name": "stdout",
     "output_type": "stream",
     "text": [
      "원문: \n",
      "Former Finance Minister Yashwant Sinha on Tuesday demanded a probe into the alleged diversion of loans worth Ã¢ÂÂ¹31,000 crore by Dewan Housing Finance (DHFL). All agencies including regulators of the government have failed to track nefarious deals, he said. This comes after a media report on Tuesday accused DHFL's controlling shareholders of diverting funds to shell companies to buy assets.\n",
      "추출 요약:\n",
      "Former Finance Minister Yashwant Sinha on Tuesday demanded a probe into the alleged diversion of loans worth Ã¢ÂÂ¹31,000 crore by Dewan Housing Finance (DHFL).\n",
      "\n",
      "\n",
      "원문: \n",
      "US-based Boeing on Wednesday reported annual sales worth $101.12 billion in 2018, the first time the planemaker's sales crossed the $100-billion mark in its 102-year history. The company said it expects to deliver between 895 and 905 commercial aircraft in 2019. Boeing retained its position as the world's largest planemaker for the seventh straight year, delivering 806 aircraft in 2018. \n",
      "추출 요약:\n",
      "Boeing retained its position as the world's largest planemaker for the seventh straight year, delivering 806 aircraft in 2018.\n",
      "\n",
      "\n",
      "원문: \n",
      "text\n",
      "추출 요약:\n",
      "\n",
      "\n",
      "\n",
      "원문: \n",
      "OnePlus has emerged as India's best-selling premium smartphone brand of 2018, as per a report by Counterpoint. It captured 36% of the market share in the premium segment, in Q4 2018. Further, its OnePlus 6 emerged as the highest selling premium smartphone of 2018 followed by OnePlus 6T.\n",
      "추출 요약:\n",
      "Further, its OnePlus 6 emerged as the highest selling premium smartphone of 2018 followed by OnePlus 6T.\n",
      "\n",
      "\n",
      "원문: \n",
      "Filmmaker Pooja Bhatt, while talking about the presentation of women in her films, said, \"I can never look at a female body, even if it's naked, in a vulgar manner.\" \"Our audience can say...the women in my films are bold or sensual, but never ever vulgar,\" she added. Pooja further said her censor board is her \"own heart and mind\".\n",
      "추출 요약:\n",
      "\n",
      "\n",
      "\n",
      "원문: \n",
      "Actress Mishti, who has featured in 'Manikarnika: The Queen of Jhansi', has said the film's co-director Kangana Ranaut made false promises to the cast. \"Kangana had said, 'I want dates because all characters look jumbled up...I'm trying my best to give everybody a prominent space on screen.' After watching the movie, there is no scope for other characters,\" Mishti added. \n",
      "추출 요약:\n",
      "Actress Mishti, who has featured in 'Manikarnika: The Queen of Jhansi', has said the film's co-director Kangana Ranaut made false promises to the cast.\n",
      "\n",
      "\n",
      "원문: \n",
      "The high-powered committee led by PM Narendra Modi to select the next CBI Director will meet again on February 1, Congress leader Mallikarjun Kharge has said. The panel consisting of Kharge and Chief Justice of India Ranjan Gogoi met on January 24, but the meeting ended \"inconclusively\" after Kharge cited lack of details in the list of 80 IPS officers. \n",
      "추출 요약:\n",
      "The high-powered committee led by PM Narendra Modi to select the next CBI Director will meet again on February 1, Congress leader Mallikarjun Kharge has said.\n",
      "\n",
      "\n",
      "원문: \n",
      "Nevada State Athletic Commission has banned MMA fighters Conor McGregor and Khabib Nurmagomedov for six months and nine months respectively over their roles in the mass brawl that occurred after their fight at UFC 229 last October. McGregor and Khabib have been fined $50,000 (Ã¢ÂÂ¹35 lakh) and $500,000 (Ã¢ÂÂ¹3.5 crore) respectively. The brawl occurred after Nurmagomedov confronted McGregor's teammate.\n",
      "추출 요약:\n",
      "Nevada State Athletic Commission has banned MMA fighters Conor McGregor and Khabib Nurmagomedov for six months and nine months respectively over their roles in the mass brawl that occurred after their fight at UFC 229 last October.\n",
      "\n",
      "\n",
      "원문: \n",
      "Pakistan captain Sarfaraz Ahmed, who has been banned for four matches over racist remarks, took an apparent dig at his critics by sharing a video of a child reciting 'log hai na' poem on Twitter. \"Pyaar karna hai to khud se kar...dushmani karne ke liye log hai na,\" the poem read. \"This is how the world is,\" Sarfaraz wrote.\n",
      "추출 요약:\n",
      "Pakistan captain Sarfaraz Ahmed, who has been banned for four matches over racist remarks, took an apparent dig at his critics by sharing a video of a child reciting 'log hai na' poem on Twitter.\n",
      "\n",
      "\n",
      "원문: \n",
      "Banned cricketer Sreesanth has told Supreme Court he initially confessed to Delhi Police about his alleged involvement in 2013 IPL spot-fixing scandal to escape continuous police torture. Sreesanth further said the bookie tried dragging him into spot-fixing but he didn't fall for it. Citing Sreesanth not informing BCCI about fixing approach, the apex court said Sreesanth's conduct \"wasn't good\".\n",
      "추출 요약:\n",
      "Sreesanth further said the bookie tried dragging him into spot-fixing but he didn't fall for it.\n",
      "\n",
      "\n",
      "원문: \n",
      "The Finance Ministry on Wednesday said the government will present an Interim Budget on February 1. The clarification came amid speculations that a full Budget may be presented during the session. The government recently assigned Piyush Goyal temporary additional charge of the Finance and Corporate Affairs ministries in the absence of Arun Jaitley, who is in the US for treatment.\n",
      "추출 요약:\n",
      "The Finance Ministry on Wednesday said the government will present an Interim Budget on February 1.\n",
      "\n",
      "\n",
      "원문: \n",
      "US President Donald Trump on Wednesday called his country's top intelligence chiefs \"naive\" and \"wrong\" on Iran and added that they should perhaps \"go back to school\". Trump claimed Iran is testing rockets, calling the country \"a source of potential danger and conflict\". Top US intelligence officials on Tuesday said that Iran isn't currently taking steps towards building nuclear weapons.\n",
      "추출 요약:\n",
      "US President Donald Trump on Wednesday called his country's top intelligence chiefs \"naive\" and \"wrong\" on Iran and added that they should perhaps \"go back to school\".\n",
      "\n",
      "\n",
      "원문: \n",
      "A senior priest at the Vatican who handled cases of sexual abuse has quit after being accused of sexual abuse by a former nun. The accused priest claimed he is innocent and said he would consider taking legal action. The Vatican said in a statement that a Church investigation of the case was underway.\n",
      "추출 요약:\n",
      "A senior priest at the Vatican who handled cases of sexual abuse has quit after being accused of sexual abuse by a former nun.\n",
      "\n",
      "\n",
      "원문: \n",
      "A 22-year-old writer turned down a job offer, claiming she was bullied to the point of tears during her two-hour interview by a UK company's CEO. Olivia Bland added the \"brutal\" interview brought back painful memories of her abusive relationship. \"I am so sorry that anyone has been hurt, it is never my intent,\" Web Applications CEO Craig Dean replied. \n",
      "추출 요약:\n",
      "A 22-year-old writer turned down a job offer, claiming she was bullied to the point of tears during her two-hour interview by a UK company's CEO.\n",
      "\n",
      "\n",
      "원문: \n",
      "Noida Police has arrested Sector 20 station in-charge Manoj Pant and three journalists for allegedly extorting money from a call centre owner for removing his name from an FIR. The four were caught while taking bribe money of Ã¢ÂÂ¹8 lakh, police said. Pant was the lead investigator in the Paytm extortion case involving Founder Vijay Shekhar Sharma's secretary Sonia Dhawan.\n",
      "추출 요약:\n",
      "Noida Police has arrested Sector 20 station in-charge Manoj Pant and three journalists for allegedly extorting money from a call centre owner for removing his name from an FIR.\n",
      "\n",
      "\n",
      "원문: \n",
      "Airtel on Wednesday said that Qatar's sovereign wealth fund Qatar Investment Authority will invest $200 million through a primary equity issuance in Airtel Africa. India's second-largest telecom operator's Africa unit recently raised $1.25 billion from six investors. Airtel Africa, the holding company for Airtel's operations in 14 African countries, is preparing for an initial public offering.\n",
      "추출 요약:\n",
      "Airtel Africa, the holding company for Airtel's operations in 14 African countries, is preparing for an initial public offering.\n",
      "\n",
      "\n",
      "원문: \n",
      "Actor Shreyas Talpade said that 'Golmaal' filmmaker Rohit Shetty is still working on the script for the fifth instalment of the 'Golmaal' film franchise. \"He was telling us the other day that he...cracked some story. Once he's done with the...scripting, he'll take a call,Ã¢ÂÂ the actor added. The series features Shreyas along with Ajay Devgn, Arshad Warsi and Tusshar Kapoor.\n",
      "추출 요약:\n",
      "Actor Shreyas Talpade said that 'Golmaal' filmmaker Rohit Shetty is still working on the script for the fifth instalment of the 'Golmaal' film franchise.\n",
      "\n",
      "\n",
      "원문: \n",
      "A 72-year-old man named Terry Sanderson has sued 'Avengers' actress Gwyneth Paltrow for allegedly crashing into him while skiing, and is seeking $3.1 million (over Ã¢ÂÂ¹22 crore) in damages. The lawsuit states the actress got up and skied away after knocking the man down, leaving him with broken ribs. The incident reportedly took place in 2016 in Utah, US. \n",
      "추출 요약:\n",
      "A 72-year-old man named Terry Sanderson has sued 'Avengers' actress Gwyneth Paltrow for allegedly crashing into him while skiing, and is seeking $3.1 million (over Ã¢ÂÂ¹22 crore) in damages.\n",
      "\n",
      "\n",
      "원문: \n",
      "Yami Gautam was felicitated by Border Security Force (BSF) in Amritsar for her performance in 'Uri: The Surgical Strike'. \"BSF is the first line of defence of our country and it gives me...pride to have met them,\" Yami said. The film, which also stars Vicky Kaushal, is based on the Indian Army's surgical strike operation which took place in 2016.\n",
      "추출 요약:\n",
      "Yami Gautam was felicitated by Border Security Force (BSF) in Amritsar for her performance in 'Uri: The Surgical Strike'.\n",
      "\n",
      "\n",
      "원문: \n",
      "Social media giant Facebook has hired privacy critic Nate Cardozo, formerly the top legal counsel for US privacy watchdog EFF, as a privacy policy manager for WhatsApp. Cardozo had called Facebook a \"faceless corporation\" whose business model depends on user's confusion and indifference about privacy, in October 2015. Facebook has also hired attorney Robyn Greene as its privacy policy manager.\n",
      "추출 요약:\n",
      "\n",
      "\n",
      "\n",
      "원문: \n",
      "Apple CEO Tim Cook said the company plans to lower some iPhones' prices in markets with currencies that weakened against the US dollar in the past year. \"WeÃ¢ÂÂve decided to go back to (iPhone prices) more commensurate with...local prices...a year ago,\" Cook added. The price cuts, in hopes of increasing sales, are reportedly occurring for second time in 12 years.\n",
      "추출 요약:\n",
      "\"WeÃ¢ÂÂve decided to go back to (iPhone prices) more commensurate with...local prices...a year ago,\" Cook added.\n",
      "\n",
      "\n",
      "원문: \n",
      "Scientists in Australia's Flinders University are testing a wetsuit prototype that could protect its wearer after a shark attack. The suit, made of synthetic material similar to the material used in bulletproof vests, could help reduce blood loss after a shark attack. \"The majority of fatalities from shark bites is due to blood loss...shock from blood loss,\" a scientist said.\n",
      "추출 요약:\n",
      "\"The majority of fatalities from shark bites is due to blood loss...shock from blood loss,\" a scientist said.\n",
      "\n",
      "\n",
      "원문: \n",
      "BJP National Secretary Rahul Sinha on Wednesday asked the party workers in West Bengal to come armed with sticks to PM Narendra Modi's rally in the state on February 2. His statement came a day after clashes broke out following BJP chief Amit Shah's WB rally. Sinha added the TMC is indulged in violence as they're afraid of BJP's strength.\n",
      "추출 요약:\n",
      "BJP National Secretary Rahul Sinha on Wednesday asked the party workers in West Bengal to come armed with sticks to PM Narendra Modi's rally in the state on February 2.\n",
      "\n",
      "\n",
      "원문: \n",
      "BJP President Amit Shah on Wednesday took a dig at the Opposition parties saying that the 'mahagathbandhan' for the Opposition is 4B - \"Bua-Bhatija-Bhai-Behen\". He added that 4B for the BJP meant \"Badhta Bharat, Banta Bharat\". He said Opposition's government cannot take the country ahead and \"only Modiji can provide a 'mazboot' (strong) government\".\n",
      "추출 요약:\n",
      "BJP President Amit Shah on Wednesday took a dig at the Opposition parties saying that the 'mahagathbandhan' for the Opposition is 4B - \"Bua-Bhatija-Bhai-Behen\".\n",
      "\n",
      "\n",
      "원문: \n",
      "German automaker Volkswagen Group has retained the car industry's top spot in global sales, beating its Japanese rival Toyota. Volkswagen's sales, including its MAN and Scania heavy trucks and buses, rose 0.9% to 10.83 million in 2018, the company had said. Toyota came second with around 10.6 million deliveries, including its affiliated brands Daihatsu and Hino, in 2018.\n",
      "추출 요약:\n",
      "Volkswagen's sales, including its MAN and Scania heavy trucks and buses, rose 0.9% to 10.83 million in 2018, the company had said.\n",
      "\n",
      "\n",
      "원문: \n",
      "Ousted Nissan Chairman Carlos Ghosn has said his arrest over alleged financial misconduct was led by \"plot and treason\" by the Japanese carmaker's executives who opposed its deeper integration with Renault and Mitsubishi. Ghosn added he had discussed the integration plans with Nissan's CEO in September, a month before his arrest. He further said he wouldn't flee if granted bail.\n",
      "추출 요약:\n",
      "Ousted Nissan Chairman Carlos Ghosn has said his arrest over alleged financial misconduct was led by \"plot and treason\" by the Japanese carmaker's executives who opposed its deeper integration with Renault and Mitsubishi.\n",
      "\n",
      "\n",
      "원문: \n",
      "The government has cut down customs duty on import of parts and components for electric vehicles to 10-15%, down from the previous 15-30%. The Central Board of Indirect Taxes and Customs said disassembled parts will attract 10% duty, whereas 15% will be levied on pre-assembled packs. However, fully built electric vehicles will continue to attract 25% import duty.\n",
      "추출 요약:\n",
      "The government has cut down customs duty on import of parts and components for electric vehicles to 10-15%, down from the previous 15-30%.\n",
      "\n",
      "\n",
      "원문: \n",
      "Government officials on Wednesday said that a swine flu outbreak has killed 76 people this year in Rajasthan. Colder weather has worsened the seasonal outbreak of the H1N1 virus in the country, officials added. Rajasthan recorded more than a third of all swine flu deaths in India with Jodhpur being the worst affected area in the state, officials said.\n",
      "추출 요약:\n",
      "Government officials on Wednesday said that a swine flu outbreak has killed 76 people this year in Rajasthan.\n",
      "\n",
      "\n",
      "원문: \n",
      "North Korea is \"unlikely to completely give up its nuclear weapons and production capabilities\", Director of US' National Intelligence, Daniel Coats, said. \"North Korean leaders view nuclear arms as critical to regime survival,\" he added. His statements come despite North Korea's agreement with the US at the Singapore summit last year to denuclearise the Korean Peninsula. \n",
      "추출 요약:\n",
      "\"North Korean leaders view nuclear arms as critical to regime survival,\" he added.\n",
      "\n",
      "\n",
      "원문: \n",
      "Jet Airways on Wednesday denied it was directed by GE Capital Aviation Services to ground its aircraft due to non-payment of dues. The airline said it's in the process of delivering three aircraft to lessors due to the expiry of lease terms. Further, three aircraft have been temporarily grounded to carry out an engine normalisation exercise, it added.\n",
      "추출 요약:\n",
      "Further, three aircraft have been temporarily grounded to carry out an engine normalisation exercise, it added.\n",
      "\n",
      "\n",
      "원문: \n",
      "Retired Justice Srikrishna's enquiry panel has found that ex-CEO Chanda Kochhar violated ICICI Bank's code of conduct. The bank said it'll treat Kochhar's exit as termination and will take back all bonuses paid to her from April 2009 until March 2018. The CBI recently filed a case against Kochhar, her husband, and Videocon MD in the ICICI-Videocon loan case.\n",
      "추출 요약:\n",
      "Retired Justice Srikrishna's enquiry panel has found that ex-CEO Chanda Kochhar violated ICICI Bank's code of conduct.\n",
      "\n",
      "\n",
      "원문: \n",
      "Ex-India cricketer Jacob Martin has been shifted to general ward from the ICU after being on a ventilator for nearly a month following a road accident, wherein he severely injured his lungs. Martin's wife Khyati mentioned there are chances that Jacob will be in hospital for two more months. BCCI, CSK and various cricketers provided financial assistance for Martin's treatment.\n",
      "추출 요약:\n",
      "Ex-India cricketer Jacob Martin has been shifted to general ward from the ICU after being on a ventilator for nearly a month following a road accident, wherein he severely injured his lungs.\n",
      "\n",
      "\n",
      "원문: \n",
      "Sri Lanka all-rounder Thisara Perera has written to Sri Lanka Cricket CEO Ashley de Silva, asking the board to intervene after ODI captain Lasith Malinga's wife Tanya targeted him on Facebook. Tanya accused Perera of meeting country's Sports Minister to secure his place in the team. \"We've become laughing stock of whole country...because of one person's personal vendetta,\" Perera wrote.\n",
      "추출 요약:\n",
      "Tanya accused Perera of meeting country's Sports Minister to secure his place in the team.\n",
      "\n",
      "\n",
      "원문: \n",
      "Goa CM and ex-Defence Minister Manohar Parrikar has written a letter to Congress President Rahul Gandhi over his claim that Parrikar told him he has nothing to do with new Rafale deal. Parrikar wrote, \"Kindly do not use your visit to an ailing person to feed political opportunism.\" In their five-minute meeting, they didn't discuss anything about Rafale, he added.\n",
      "추출 요약:\n",
      "Goa CM and ex-Defence Minister Manohar Parrikar has written a letter to Congress President Rahul Gandhi over his claim that Parrikar told him he has nothing to do with new Rafale deal.\n",
      "\n",
      "\n",
      "원문: \n",
      "Prime Minister Narendra Modi stopped his speech at the inauguration of the new terminal building at Surat airport after observing that a cameraman had fainted. PM Modi then asked his officers to urgently arrange for an ambulance for the cameraman. \"It's good that PM was paying attention to his surroundings during his speech,\" the cameraman later said from a hospital. \n",
      "추출 요약:\n",
      "PM Modi then asked his officers to urgently arrange for an ambulance for the cameraman.\n",
      "\n",
      "\n",
      "원문: \n",
      "A couple got divorced minutes after their wedding ceremony got over in Gujarat's Gondal as a disagreement broke out and relatives from both sides started throwing dishes at each other during lunch. The advocates representing both sides arrived at the marriage hall and got the couple divorced within minutes. The couple even reportedly returned the gifts exchanged during the ceremony.\n",
      "추출 요약:\n",
      "A couple got divorced minutes after their wedding ceremony got over in Gujarat's Gondal as a disagreement broke out and relatives from both sides started throwing dishes at each other during lunch.\n",
      "\n",
      "\n",
      "원문: \n",
      "Gujarat Education Minister Bhupendrasinh Chudasma has written a congratulatory message to a yoga ashram run by rape-convict Asaram's organisation for observing February 14 as \"Matru-Pitru Pujan Divas\" (Mother-Father worship day). After the Congress termed the letter as \"unfortunate\", saying it \"shows the nexus between BJP and godman\", Chudasma clarified, \"All I have done is sent best wishes.\" \n",
      "추출 요약:\n",
      "Gujarat Education Minister Bhupendrasinh Chudasma has written a congratulatory message to a yoga ashram run by rape-convict Asaram's organisation for observing February 14 as \"Matru-Pitru Pujan Divas\" (Mother-Father worship day).\n",
      "\n",
      "\n",
      "원문: \n",
      "Venezuelan President NicolÃÂ¡s Maduro has claimed that his American counterpart Donald Trump ordered the Colombian government and the Colombian mafia to kill him. \"If something happens to me, Trump and Colombian President IvÃÂ¡n MÃÂ¡rquez will bear responsibility,\" he added. The US has blamed Maduro for the economic crisis in Venezuela and recognised opposition leader Juan GuaidÃÂ³ as interim President.\n",
      "추출 요약:\n",
      "Venezuelan President NicolÃÂ¡s Maduro has claimed that his American counterpart Donald Trump ordered the Colombian government and the Colombian mafia to kill him.\n",
      "\n",
      "\n",
      "원문: \n",
      "Eight Asian billionaires aged 90 or above on the Bloomberg Billionaires Index of world's 500 richest people have a combined net worth of $125 billion. The richest among them is Hong Kong's Li Ka Shing with a net worth of $30.5 billion. India's 90-year-old Pallonji Mistry, who controls 18.3% of Tata Sons through Shapoorji Pallonji Group, is worth $20.1 billion.\n",
      "추출 요약:\n",
      "The richest among them is Hong Kong's Li Ka Shing with a net worth of $30.5 billion.\n",
      "\n",
      "\n",
      "원문: \n",
      "Tamil Nadu food safety officials on Wednesday raided and seized 1,000 kgs of banned plastic items from Hotel Saravana Bhavan in Chennai's Vadapalani. Officials began a surprise check in the branch at 8 am. The state government had banned single-use plastics from January 1 and said the banned items should be handed over at the offices of the city corporation.\n",
      "추출 요약:\n",
      "Tamil Nadu food safety officials on Wednesday raided and seized 1,000 kgs of banned plastic items from Hotel Saravana Bhavan in Chennai's Vadapalani.\n",
      "\n",
      "\n",
      "원문: \n",
      "Actress Shamita Shetty was verbally abused and her driver was slapped in an incident of road rage in Mumbai on Tuesday, as per reports. The incident reportedly took place after a motorist who was accompanied by two friends, rammed his vehicle into Shamita's car. The men allegedly manhandled and threatened Shamita's driver when he stepped out to inspect the damage. \n",
      "추출 요약:\n",
      "Actress Shamita Shetty was verbally abused and her driver was slapped in an incident of road rage in Mumbai on Tuesday, as per reports.\n",
      "\n",
      "\n",
      "원문: \n",
      "Actress Vaani Kapoor said that trolling has become a norm on social media, adding, \"There's no one who hasn't got trolled on social media.\" \"Everybody is out there to pull the other person down but it'll only bother [you] if you let it bother you,\" Vaani added. She further said, social media offers a platform \"where people enjoy belittling everybody\". \n",
      "추출 요약:\n",
      "\n",
      "\n",
      "\n",
      "원문: \n",
      "Actress Sushmita Sen took to Instagram to share a joke on the subject of marriage. \"Whoever invented marriage was creepy as hell. Like I love you so much IÃ¢ÂÂm gonna get the government involved so you canÃ¢ÂÂt leave,\" Sushmita's post read. \"This is an insult to [the] beauty of marriage,\" an Instagram user commented on her post.\n",
      "추출 요약:\n",
      "\"This is an insult to [the] beauty of marriage,\" an Instagram user commented on her post.\n",
      "\n",
      "\n",
      "원문: \n",
      "Television actor Karanvir Bohra, who flew to Russia on Tuesday to attend a film festival, has been detained in Moscow due to passport damage. \"They [are] contemplating to deport me back to India,\" the actor wrote on Twitter. The Indian embassy in Russia's capital responded to his tweet and said that they were looking into the issue. \n",
      "추출 요약:\n",
      "Television actor Karanvir Bohra, who flew to Russia on Tuesday to attend a film festival, has been detained in Moscow due to passport damage.\n",
      "\n",
      "\n",
      "원문: \n",
      "While speaking about winning awards for his films, Shah Rukh Khan said, \"If I don't get an award, that award is at a loss.\" \"Sometimes, the prestige of an award increases when I receive it,\" the actor jokingly added. Shah Rukh further said that he was \"extremely ambitious\" but in a \"fair manner\". \n",
      "추출 요약:\n",
      "While speaking about winning awards for his films, Shah Rukh Khan said, \"If I don't get an award, that award is at a loss.\" \"Sometimes, the prestige of an award increases when I receive it,\" the actor jokingly added.\n",
      "\n",
      "\n",
      "원문: \n",
      "Actress Patralekhaa will make her debut in the Kannada film industry with the action-comedy film 'Where is my Kannadaka?' \"I can definitely say that itÃ¢ÂÂs a kind of role that I havenÃ¢ÂÂt portrayed on screen so far and that makes it special for me,\" the actress said in a statement. Shooting for the film will reportedly begin in April.\n",
      "추출 요약:\n",
      "\n",
      "\n",
      "\n",
      "원문: \n",
      "Gmail on Tuesday faced a global outage, which also affected India, wherein certain users complained they faced a '404 error' message while trying to sign-in to their accounts. The error message read: \"The requested URL was not found on this server. That's all we know.\" Google responded saying \"problem with Gmail should be resolved (now). We apologise for the inconvenience\".\n",
      "추출 요약:\n",
      "Gmail on Tuesday faced a global outage, which also affected India, wherein certain users complained they faced a '404 error' message while trying to sign-in to their accounts.\n",
      "\n",
      "\n",
      "원문: \n",
      "Shiv Sena chief Uddhav Thackeray has asked the BJP to decide about the alliance with the Sena within 15 days and said the BJP should make a concrete proposal on the alliance. Thackeray added that only if the BJP agrees to Sena's terms and conditions, the party will agree for an alliance. Sena is free to fight independently, he said. \n",
      "추출 요약:\n",
      "Shiv Sena chief Uddhav Thackeray has asked the BJP to decide about the alliance with the Sena within 15 days and said the BJP should make a concrete proposal on the alliance.\n",
      "\n",
      "\n",
      "원문: \n",
      "BJP President Amit Shah on Wednesday took a dig at the Opposition's proposed grand alliance saying if the \"mahagathbandhan comes to power, each opposition leader will be a Prime Minister every day of the week\". He added, \"[The] country will go on...holiday on Sunday\". He said the Opposition is thinking about leading the country but does not have a leader.\n",
      "추출 요약:\n",
      "He said the Opposition is thinking about leading the country but does not have a leader.\n",
      "\n",
      "\n",
      "원문: \n",
      "Prime Minister Narendra Modi on Wednesday said his government's demonetisation decision made houses affordable for the aspiring youth. He added decisions like demonetisation and RERA have put a check on black money that used to be \"parked in the real estate sector\". He said 'UDAN' (Ude Desh ka Aam Nagrik) scheme has boosted the development of the country's aviation sector.\n",
      "추출 요약:\n",
      "He added decisions like demonetisation and RERA have put a check on black money that used to be \"parked in the real estate sector\".\n",
      "\n",
      "\n"
     ]
    }
   ],
   "source": [
    "for i in range(50, 100):\n",
    "    print('원문: ')\n",
    "    print(data['text'][i])\n",
    "    print('추출 요약:')\n",
    "    print(summarize(data['text'][i], words=20))\n",
    "    print(\"\\n\")"
   ]
  },
  {
   "cell_type": "markdown",
   "id": "future-instruction",
   "metadata": {},
   "source": [
    "---"
   ]
  },
  {
   "cell_type": "markdown",
   "id": "grand-nightlife",
   "metadata": {},
   "source": [
    "## 루브릭 평가"
   ]
  },
  {
   "cell_type": "markdown",
   "id": "dedicated-universal",
   "metadata": {},
   "source": [
    "__1. Abstractive 모델 구성을 위한 텍스트 전처리 단계가 체계적으로 진행되었다.__  "
   ]
  },
  {
   "cell_type": "markdown",
   "id": "beautiful-august",
   "metadata": {},
   "source": [
    "- 분석단계, 정제단계, 정규화와 불용어 제거, 데이터셋 분리, 인코딩 과정이 빠짐없이 체계적으로 진행되었다."
   ]
  },
  {
   "cell_type": "markdown",
   "id": "fancy-queue",
   "metadata": {},
   "source": [
    "__2. 텍스트 요약모델이 성공적으로 학습되었음을 확인하였다.__  "
   ]
  },
  {
   "cell_type": "markdown",
   "id": "auburn-conditions",
   "metadata": {},
   "source": [
    "- 모델학습이 안정적으로 수렴되었음을 그래프를 통해 확인하였으며, 실제 요약문과 유사한 요약문장을 얻을 수 있었다."
   ]
  },
  {
   "cell_type": "markdown",
   "id": "unsigned-montana",
   "metadata": {},
   "source": [
    "__3. Extractive 요약을 시도해 보고 Abstractive 요약 결과과 함께 비교해 보았다.__  \n",
    "_(두 요약 결과를 문법완성도 측면과 핵심단어 포함 측면으로 나누어 비교분석 결과를 제시하였다.)_"
   ]
  },
  {
   "cell_type": "markdown",
   "id": "stable-upset",
   "metadata": {},
   "source": [
    "- 추출적 요약 보다는 추상적 요약이 뉴스 헤드라인에 쓰기에 더 적합했다.\n",
    "- 추상적의 요약의 경우 실제 Headlines와 비교했을 때 문법완성도 및 핵심단어 포함 정도가 생각보다 높았다.\n",
    "- 추출적 요약의 경우 Headline이기 보다는 요약문에 가까웠다."
   ]
  },
  {
   "cell_type": "markdown",
   "id": "cheap-leeds",
   "metadata": {},
   "source": [
    "---"
   ]
  },
  {
   "cell_type": "markdown",
   "id": "laughing-report",
   "metadata": {},
   "source": [
    "## 회고"
   ]
  },
  {
   "cell_type": "markdown",
   "id": "steady-raising",
   "metadata": {},
   "source": [
    "1. 프로젝트 진행시 어려웠던 점\n",
    "2. 프로젝트를 진행하면서 알아낸 점 또는 아직 모호한 점\n",
    "3. 루브릭 평가 지표를 맞추기 위해 시도한 점\n",
    "4. 루브릭 평가 지표를 달성하지 못한 이유\n",
    "5. 프로젝트 진행 후 느낀 점 및 다짐"
   ]
  },
  {
   "cell_type": "markdown",
   "id": "rapid-tunisia",
   "metadata": {},
   "source": [
    "- 추출적 요약시 데이터를 전처리하면 안된다는 점\n",
    "- 예측된 요약 또는 추출된 요약이 정상적으로 처리되었는지 확인할 수 있는 정량적인 지표를 만드는 법\n",
    "- 전체적인 흐름은 이해가 됐지만 아직도 세부 코드에 대해서는 이해가 어렵다. 많은 코드 작성 연습이 필요할 것 같다."
   ]
  }
 ],
 "metadata": {
  "kernelspec": {
   "display_name": "aiffel",
   "language": "python",
   "name": "aiffel"
  },
  "language_info": {
   "codemirror_mode": {
    "name": "ipython",
    "version": 3
   },
   "file_extension": ".py",
   "mimetype": "text/x-python",
   "name": "python",
   "nbconvert_exporter": "python",
   "pygments_lexer": "ipython3",
   "version": "3.7.9"
  }
 },
 "nbformat": 4,
 "nbformat_minor": 5
}
