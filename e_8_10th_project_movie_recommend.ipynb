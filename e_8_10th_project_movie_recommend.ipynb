{
 "cells": [
  {
   "cell_type": "markdown",
   "id": "economic-construction",
   "metadata": {},
   "source": [
    "# 8-9. 프로젝트 - Movielens 영화 추천 실습"
   ]
  },
  {
   "cell_type": "markdown",
   "id": "infrared-arizona",
   "metadata": {},
   "source": [
    "---"
   ]
  },
  {
   "cell_type": "markdown",
   "id": "powered-witch",
   "metadata": {},
   "source": [
    "## 0. 데이터 다운로드"
   ]
  },
  {
   "cell_type": "code",
   "execution_count": 1,
   "id": "beneficial-champion",
   "metadata": {},
   "outputs": [
    {
     "name": "stdout",
     "output_type": "stream",
     "text": [
      "--2021-02-15 18:24:28--  http://files.grouplens.org/datasets/movielens/ml-1m.zip\n",
      "Resolving files.grouplens.org (files.grouplens.org)... 128.101.65.152\n",
      "Connecting to files.grouplens.org (files.grouplens.org)|128.101.65.152|:80... connected.\n",
      "HTTP request sent, awaiting response... 200 OK\n",
      "Length: 5917549 (5.6M) [application/zip]\n",
      "Saving to: ‘ml-1m.zip’\n",
      "\n",
      "ml-1m.zip           100%[===================>]   5.64M   198KB/s    in 35s     \n",
      "\n",
      "2021-02-15 18:25:06 (163 KB/s) - ‘ml-1m.zip’ saved [5917549/5917549]\n",
      "\n"
     ]
    }
   ],
   "source": [
    "# wget으로 데이터 다운로드\n",
    "!wget http://files.grouplens.org/datasets/movielens/ml-1m.zip"
   ]
  },
  {
   "cell_type": "code",
   "execution_count": 2,
   "id": "lined-local",
   "metadata": {},
   "outputs": [
    {
     "name": "stdout",
     "output_type": "stream",
     "text": [
      "unzip:  cannot find or open ml-1m.zip, ml-1m.zip.zip or ml-1m.zip.ZIP.\r\n"
     ]
    }
   ],
   "source": [
    "# 다운받은 데이터를 작업디렉토리로 옮김\n",
    "!mv ml-1m.zip ~/aiffel/recommendata_iu/data\n",
    "\n",
    "# 작업디렉토리로 이동\n",
    "!cd ~/aiffel/recommendata_iu/data\n",
    "\n",
    "#압축 해제\n",
    "!unzip ml-1m.zip"
   ]
  },
  {
   "cell_type": "markdown",
   "id": "rising-breed",
   "metadata": {},
   "source": [
    "---"
   ]
  },
  {
   "cell_type": "markdown",
   "id": "ahead-federation",
   "metadata": {},
   "source": [
    "## 1. 데이터 준비와 전처리"
   ]
  },
  {
   "cell_type": "code",
   "execution_count": 3,
   "id": "romantic-biography",
   "metadata": {},
   "outputs": [
    {
     "data": {
      "text/html": [
       "<div>\n",
       "<style scoped>\n",
       "    .dataframe tbody tr th:only-of-type {\n",
       "        vertical-align: middle;\n",
       "    }\n",
       "\n",
       "    .dataframe tbody tr th {\n",
       "        vertical-align: top;\n",
       "    }\n",
       "\n",
       "    .dataframe thead th {\n",
       "        text-align: right;\n",
       "    }\n",
       "</style>\n",
       "<table border=\"1\" class=\"dataframe\">\n",
       "  <thead>\n",
       "    <tr style=\"text-align: right;\">\n",
       "      <th></th>\n",
       "      <th>user_id</th>\n",
       "      <th>movie_id</th>\n",
       "      <th>rating</th>\n",
       "      <th>timestamp</th>\n",
       "    </tr>\n",
       "  </thead>\n",
       "  <tbody>\n",
       "    <tr>\n",
       "      <th>0</th>\n",
       "      <td>1</td>\n",
       "      <td>1193</td>\n",
       "      <td>5</td>\n",
       "      <td>978300760</td>\n",
       "    </tr>\n",
       "    <tr>\n",
       "      <th>1</th>\n",
       "      <td>1</td>\n",
       "      <td>661</td>\n",
       "      <td>3</td>\n",
       "      <td>978302109</td>\n",
       "    </tr>\n",
       "    <tr>\n",
       "      <th>2</th>\n",
       "      <td>1</td>\n",
       "      <td>914</td>\n",
       "      <td>3</td>\n",
       "      <td>978301968</td>\n",
       "    </tr>\n",
       "    <tr>\n",
       "      <th>3</th>\n",
       "      <td>1</td>\n",
       "      <td>3408</td>\n",
       "      <td>4</td>\n",
       "      <td>978300275</td>\n",
       "    </tr>\n",
       "    <tr>\n",
       "      <th>4</th>\n",
       "      <td>1</td>\n",
       "      <td>2355</td>\n",
       "      <td>5</td>\n",
       "      <td>978824291</td>\n",
       "    </tr>\n",
       "  </tbody>\n",
       "</table>\n",
       "</div>"
      ],
      "text/plain": [
       "   user_id  movie_id  rating  timestamp\n",
       "0        1      1193       5  978300760\n",
       "1        1       661       3  978302109\n",
       "2        1       914       3  978301968\n",
       "3        1      3408       4  978300275\n",
       "4        1      2355       5  978824291"
      ]
     },
     "execution_count": 3,
     "metadata": {},
     "output_type": "execute_result"
    }
   ],
   "source": [
    "import os\n",
    "import pandas as pd\n",
    "\n",
    "rating_file_path=os.getenv('HOME') + '/aiffel/recommendata_iu/data/ml-1m/ratings.dat'\n",
    "ratings_cols = ['user_id', 'movie_id', 'rating', 'timestamp']\n",
    "ratings = pd.read_csv(rating_file_path, sep='::', names=ratings_cols, engine='python')\n",
    "orginal_data_size = len(ratings)\n",
    "ratings.head()"
   ]
  },
  {
   "cell_type": "code",
   "execution_count": 4,
   "id": "specified-desire",
   "metadata": {},
   "outputs": [
    {
     "name": "stdout",
     "output_type": "stream",
     "text": [
      "orginal_data_size: 1000209, filtered_data_size: 836478\n",
      "Ratio of Remaining Data is 83.63%\n"
     ]
    }
   ],
   "source": [
    "# 3점 이상만 남깁니다.\n",
    "ratings = ratings[ratings['rating']>=3]\n",
    "filtered_data_size = len(ratings)\n",
    "\n",
    "print(f'orginal_data_size: {orginal_data_size}, filtered_data_size: {filtered_data_size}')\n",
    "print(f'Ratio of Remaining Data is {filtered_data_size / orginal_data_size:.2%}')"
   ]
  },
  {
   "cell_type": "code",
   "execution_count": 5,
   "id": "educational-mason",
   "metadata": {},
   "outputs": [],
   "source": [
    "# rating 컬럼의 이름을 count로 바꿉니다.\n",
    "ratings.rename(columns={'rating':'count'}, inplace=True)"
   ]
  },
  {
   "cell_type": "code",
   "execution_count": 6,
   "id": "nonprofit-wilson",
   "metadata": {},
   "outputs": [
    {
     "data": {
      "text/html": [
       "<div>\n",
       "<style scoped>\n",
       "    .dataframe tbody tr th:only-of-type {\n",
       "        vertical-align: middle;\n",
       "    }\n",
       "\n",
       "    .dataframe tbody tr th {\n",
       "        vertical-align: top;\n",
       "    }\n",
       "\n",
       "    .dataframe thead th {\n",
       "        text-align: right;\n",
       "    }\n",
       "</style>\n",
       "<table border=\"1\" class=\"dataframe\">\n",
       "  <thead>\n",
       "    <tr style=\"text-align: right;\">\n",
       "      <th></th>\n",
       "      <th>user_id</th>\n",
       "      <th>movie_id</th>\n",
       "      <th>count</th>\n",
       "      <th>timestamp</th>\n",
       "    </tr>\n",
       "  </thead>\n",
       "  <tbody>\n",
       "    <tr>\n",
       "      <th>0</th>\n",
       "      <td>1</td>\n",
       "      <td>1193</td>\n",
       "      <td>5</td>\n",
       "      <td>978300760</td>\n",
       "    </tr>\n",
       "    <tr>\n",
       "      <th>1</th>\n",
       "      <td>1</td>\n",
       "      <td>661</td>\n",
       "      <td>3</td>\n",
       "      <td>978302109</td>\n",
       "    </tr>\n",
       "    <tr>\n",
       "      <th>2</th>\n",
       "      <td>1</td>\n",
       "      <td>914</td>\n",
       "      <td>3</td>\n",
       "      <td>978301968</td>\n",
       "    </tr>\n",
       "    <tr>\n",
       "      <th>3</th>\n",
       "      <td>1</td>\n",
       "      <td>3408</td>\n",
       "      <td>4</td>\n",
       "      <td>978300275</td>\n",
       "    </tr>\n",
       "    <tr>\n",
       "      <th>4</th>\n",
       "      <td>1</td>\n",
       "      <td>2355</td>\n",
       "      <td>5</td>\n",
       "      <td>978824291</td>\n",
       "    </tr>\n",
       "  </tbody>\n",
       "</table>\n",
       "</div>"
      ],
      "text/plain": [
       "   user_id  movie_id  count  timestamp\n",
       "0        1      1193      5  978300760\n",
       "1        1       661      3  978302109\n",
       "2        1       914      3  978301968\n",
       "3        1      3408      4  978300275\n",
       "4        1      2355      5  978824291"
      ]
     },
     "execution_count": 6,
     "metadata": {},
     "output_type": "execute_result"
    }
   ],
   "source": [
    "ratings['count']\n",
    "ratings.head()"
   ]
  },
  {
   "cell_type": "code",
   "execution_count": 7,
   "id": "vocal-dominant",
   "metadata": {},
   "outputs": [
    {
     "data": {
      "text/html": [
       "<div>\n",
       "<style scoped>\n",
       "    .dataframe tbody tr th:only-of-type {\n",
       "        vertical-align: middle;\n",
       "    }\n",
       "\n",
       "    .dataframe tbody tr th {\n",
       "        vertical-align: top;\n",
       "    }\n",
       "\n",
       "    .dataframe thead th {\n",
       "        text-align: right;\n",
       "    }\n",
       "</style>\n",
       "<table border=\"1\" class=\"dataframe\">\n",
       "  <thead>\n",
       "    <tr style=\"text-align: right;\">\n",
       "      <th></th>\n",
       "      <th>movie_id</th>\n",
       "      <th>title</th>\n",
       "      <th>genre</th>\n",
       "    </tr>\n",
       "  </thead>\n",
       "  <tbody>\n",
       "    <tr>\n",
       "      <th>0</th>\n",
       "      <td>1</td>\n",
       "      <td>Toy Story (1995)</td>\n",
       "      <td>Animation|Children's|Comedy</td>\n",
       "    </tr>\n",
       "    <tr>\n",
       "      <th>1</th>\n",
       "      <td>2</td>\n",
       "      <td>Jumanji (1995)</td>\n",
       "      <td>Adventure|Children's|Fantasy</td>\n",
       "    </tr>\n",
       "    <tr>\n",
       "      <th>2</th>\n",
       "      <td>3</td>\n",
       "      <td>Grumpier Old Men (1995)</td>\n",
       "      <td>Comedy|Romance</td>\n",
       "    </tr>\n",
       "    <tr>\n",
       "      <th>3</th>\n",
       "      <td>4</td>\n",
       "      <td>Waiting to Exhale (1995)</td>\n",
       "      <td>Comedy|Drama</td>\n",
       "    </tr>\n",
       "    <tr>\n",
       "      <th>4</th>\n",
       "      <td>5</td>\n",
       "      <td>Father of the Bride Part II (1995)</td>\n",
       "      <td>Comedy</td>\n",
       "    </tr>\n",
       "  </tbody>\n",
       "</table>\n",
       "</div>"
      ],
      "text/plain": [
       "   movie_id                               title                         genre\n",
       "0         1                    Toy Story (1995)   Animation|Children's|Comedy\n",
       "1         2                      Jumanji (1995)  Adventure|Children's|Fantasy\n",
       "2         3             Grumpier Old Men (1995)                Comedy|Romance\n",
       "3         4            Waiting to Exhale (1995)                  Comedy|Drama\n",
       "4         5  Father of the Bride Part II (1995)                        Comedy"
      ]
     },
     "execution_count": 7,
     "metadata": {},
     "output_type": "execute_result"
    }
   ],
   "source": [
    "# 영화 제목을 보기 위해 메타 데이터를 읽어옵니다.\n",
    "movie_file_path=os.getenv('HOME') + '/aiffel/recommendata_iu/data/ml-1m/movies.dat'\n",
    "cols = ['movie_id', 'title', 'genre'] \n",
    "movies = pd.read_csv(movie_file_path, sep='::', names=cols, engine='python', encoding='ISO-8859-1')\n",
    "movie_to_title = {k:v for k,v in zip(movies['movie_id'], movies['title'])}\n",
    "movies.head()"
   ]
  },
  {
   "cell_type": "markdown",
   "id": "toxic-modem",
   "metadata": {},
   "source": [
    "---"
   ]
  },
  {
   "cell_type": "markdown",
   "id": "deadly-night",
   "metadata": {},
   "source": [
    "## 2. 데이터 분석"
   ]
  },
  {
   "cell_type": "code",
   "execution_count": 8,
   "id": "federal-coating",
   "metadata": {
    "scrolled": true
   },
   "outputs": [
    {
     "data": {
      "text/html": [
       "<div>\n",
       "<style scoped>\n",
       "    .dataframe tbody tr th:only-of-type {\n",
       "        vertical-align: middle;\n",
       "    }\n",
       "\n",
       "    .dataframe tbody tr th {\n",
       "        vertical-align: top;\n",
       "    }\n",
       "\n",
       "    .dataframe thead th {\n",
       "        text-align: right;\n",
       "    }\n",
       "</style>\n",
       "<table border=\"1\" class=\"dataframe\">\n",
       "  <thead>\n",
       "    <tr style=\"text-align: right;\">\n",
       "      <th></th>\n",
       "      <th>movie_id</th>\n",
       "      <th>title</th>\n",
       "      <th>genre</th>\n",
       "    </tr>\n",
       "  </thead>\n",
       "  <tbody>\n",
       "    <tr>\n",
       "      <th>0</th>\n",
       "      <td>1</td>\n",
       "      <td>toy story (1995)</td>\n",
       "      <td>Animation|Children's|Comedy</td>\n",
       "    </tr>\n",
       "    <tr>\n",
       "      <th>1</th>\n",
       "      <td>2</td>\n",
       "      <td>jumanji (1995)</td>\n",
       "      <td>Adventure|Children's|Fantasy</td>\n",
       "    </tr>\n",
       "    <tr>\n",
       "      <th>2</th>\n",
       "      <td>3</td>\n",
       "      <td>grumpier old men (1995)</td>\n",
       "      <td>Comedy|Romance</td>\n",
       "    </tr>\n",
       "    <tr>\n",
       "      <th>3</th>\n",
       "      <td>4</td>\n",
       "      <td>waiting to exhale (1995)</td>\n",
       "      <td>Comedy|Drama</td>\n",
       "    </tr>\n",
       "    <tr>\n",
       "      <th>4</th>\n",
       "      <td>5</td>\n",
       "      <td>father of the bride part ii (1995)</td>\n",
       "      <td>Comedy</td>\n",
       "    </tr>\n",
       "  </tbody>\n",
       "</table>\n",
       "</div>"
      ],
      "text/plain": [
       "   movie_id                               title                         genre\n",
       "0         1                    toy story (1995)   Animation|Children's|Comedy\n",
       "1         2                      jumanji (1995)  Adventure|Children's|Fantasy\n",
       "2         3             grumpier old men (1995)                Comedy|Romance\n",
       "3         4            waiting to exhale (1995)                  Comedy|Drama\n",
       "4         5  father of the bride part ii (1995)                        Comedy"
      ]
     },
     "execution_count": 8,
     "metadata": {},
     "output_type": "execute_result"
    }
   ],
   "source": [
    "# 검색을 쉽게하기 위해 영화 제목 문자열을 소문자로 변경\n",
    "movies.head()\n",
    "movies['title'] = movies['title'].str.lower()\n",
    "movies.head()"
   ]
  },
  {
   "cell_type": "markdown",
   "id": "lucky-treasury",
   "metadata": {},
   "source": [
    "### ratings에 있는 유니크한 영화 개수"
   ]
  },
  {
   "cell_type": "code",
   "execution_count": 9,
   "id": "chubby-brooks",
   "metadata": {},
   "outputs": [
    {
     "data": {
      "text/plain": [
       "3628"
      ]
     },
     "execution_count": 9,
     "metadata": {},
     "output_type": "execute_result"
    }
   ],
   "source": [
    "ratings['movie_id'].nunique()"
   ]
  },
  {
   "cell_type": "markdown",
   "id": "balanced-armenia",
   "metadata": {},
   "source": [
    "### rating에 있는 유니크한 사용자 수"
   ]
  },
  {
   "cell_type": "code",
   "execution_count": 10,
   "id": "linear-grade",
   "metadata": {},
   "outputs": [
    {
     "data": {
      "text/plain": [
       "6039"
      ]
     },
     "execution_count": 10,
     "metadata": {},
     "output_type": "execute_result"
    }
   ],
   "source": [
    "ratings['user_id'].nunique()"
   ]
  },
  {
   "cell_type": "markdown",
   "id": "automotive-league",
   "metadata": {},
   "source": [
    "### 가장 인기 있는 영화 30개(인기순)"
   ]
  },
  {
   "cell_type": "code",
   "execution_count": 11,
   "id": "sound-painting",
   "metadata": {},
   "outputs": [
    {
     "name": "stdout",
     "output_type": "stream",
     "text": [
      "2858 American Beauty (1999) 3211\n",
      "260 Star Wars: Episode IV - A New Hope (1977) 2910\n",
      "1196 Star Wars: Episode V - The Empire Strikes Back (1980) 2885\n",
      "1210 Star Wars: Episode VI - Return of the Jedi (1983) 2716\n",
      "2028 Saving Private Ryan (1998) 2561\n",
      "589 Terminator 2: Judgment Day (1991) 2509\n",
      "593 Silence of the Lambs, The (1991) 2498\n",
      "1198 Raiders of the Lost Ark (1981) 2473\n",
      "1270 Back to the Future (1985) 2460\n",
      "2571 Matrix, The (1999) 2434\n",
      "480 Jurassic Park (1993) 2413\n",
      "2762 Sixth Sense, The (1999) 2385\n",
      "608 Fargo (1996) 2371\n",
      "110 Braveheart (1995) 2314\n",
      "1580 Men in Black (1997) 2297\n",
      "527 Schindler's List (1993) 2257\n",
      "1197 Princess Bride, The (1987) 2252\n",
      "2396 Shakespeare in Love (1998) 2213\n",
      "1617 L.A. Confidential (1997) 2210\n",
      "318 Shawshank Redemption, The (1994) 2194\n",
      "858 Godfather, The (1972) 2167\n",
      "1265 Groundhog Day (1993) 2121\n",
      "1097 E.T. the Extra-Terrestrial (1982) 2102\n",
      "2997 Being John Malkovich (1999) 2066\n",
      "2716 Ghostbusters (1984) 2051\n",
      "296 Pulp Fiction (1994) 2030\n",
      "356 Forrest Gump (1994) 2022\n",
      "1240 Terminator, The (1984) 2019\n",
      "1 Toy Story (1995) 2000\n",
      "457 Fugitive, The (1993) 1941\n"
     ]
    }
   ],
   "source": [
    "movie_count = ratings.groupby('movie_id')['user_id'].count()\n",
    "popular = movie_count.sort_values(ascending=False).head(30)\n",
    "for i,c in zip(popular.index, popular):\n",
    "    print(i, movie_to_title[i], c)"
   ]
  },
  {
   "cell_type": "markdown",
   "id": "charged-stephen",
   "metadata": {},
   "source": [
    "---"
   ]
  },
  {
   "cell_type": "markdown",
   "id": "noted-pixel",
   "metadata": {},
   "source": [
    "## 3. 내가 선호하는 영화를 5가지 골라서 rating에 추가해 줍시다."
   ]
  },
  {
   "cell_type": "code",
   "execution_count": 12,
   "id": "intensive-florence",
   "metadata": {},
   "outputs": [
    {
     "data": {
      "text/html": [
       "<div>\n",
       "<style scoped>\n",
       "    .dataframe tbody tr th:only-of-type {\n",
       "        vertical-align: middle;\n",
       "    }\n",
       "\n",
       "    .dataframe tbody tr th {\n",
       "        vertical-align: top;\n",
       "    }\n",
       "\n",
       "    .dataframe thead th {\n",
       "        text-align: right;\n",
       "    }\n",
       "</style>\n",
       "<table border=\"1\" class=\"dataframe\">\n",
       "  <thead>\n",
       "    <tr style=\"text-align: right;\">\n",
       "      <th></th>\n",
       "      <th>user_id</th>\n",
       "      <th>movie_id</th>\n",
       "      <th>count</th>\n",
       "      <th>timestamp</th>\n",
       "    </tr>\n",
       "  </thead>\n",
       "  <tbody>\n",
       "    <tr>\n",
       "      <th>1000203</th>\n",
       "      <td>6040</td>\n",
       "      <td>1090</td>\n",
       "      <td>3</td>\n",
       "      <td>956715518.0</td>\n",
       "    </tr>\n",
       "    <tr>\n",
       "      <th>1000205</th>\n",
       "      <td>6040</td>\n",
       "      <td>1094</td>\n",
       "      <td>5</td>\n",
       "      <td>956704887.0</td>\n",
       "    </tr>\n",
       "    <tr>\n",
       "      <th>1000206</th>\n",
       "      <td>6040</td>\n",
       "      <td>562</td>\n",
       "      <td>5</td>\n",
       "      <td>956704746.0</td>\n",
       "    </tr>\n",
       "    <tr>\n",
       "      <th>1000207</th>\n",
       "      <td>6040</td>\n",
       "      <td>1096</td>\n",
       "      <td>4</td>\n",
       "      <td>956715648.0</td>\n",
       "    </tr>\n",
       "    <tr>\n",
       "      <th>1000208</th>\n",
       "      <td>6040</td>\n",
       "      <td>1097</td>\n",
       "      <td>4</td>\n",
       "      <td>956715569.0</td>\n",
       "    </tr>\n",
       "    <tr>\n",
       "      <th>0</th>\n",
       "      <td>ryu</td>\n",
       "      <td>367</td>\n",
       "      <td>5</td>\n",
       "      <td>NaN</td>\n",
       "    </tr>\n",
       "    <tr>\n",
       "      <th>1</th>\n",
       "      <td>ryu</td>\n",
       "      <td>3156</td>\n",
       "      <td>5</td>\n",
       "      <td>NaN</td>\n",
       "    </tr>\n",
       "    <tr>\n",
       "      <th>2</th>\n",
       "      <td>ryu</td>\n",
       "      <td>2431</td>\n",
       "      <td>5</td>\n",
       "      <td>NaN</td>\n",
       "    </tr>\n",
       "    <tr>\n",
       "      <th>3</th>\n",
       "      <td>ryu</td>\n",
       "      <td>318</td>\n",
       "      <td>5</td>\n",
       "      <td>NaN</td>\n",
       "    </tr>\n",
       "    <tr>\n",
       "      <th>4</th>\n",
       "      <td>ryu</td>\n",
       "      <td>1</td>\n",
       "      <td>5</td>\n",
       "      <td>NaN</td>\n",
       "    </tr>\n",
       "  </tbody>\n",
       "</table>\n",
       "</div>"
      ],
      "text/plain": [
       "        user_id  movie_id  count    timestamp\n",
       "1000203    6040      1090      3  956715518.0\n",
       "1000205    6040      1094      5  956704887.0\n",
       "1000206    6040       562      5  956704746.0\n",
       "1000207    6040      1096      4  956715648.0\n",
       "1000208    6040      1097      4  956715569.0\n",
       "0           ryu       367      5          NaN\n",
       "1           ryu      3156      5          NaN\n",
       "2           ryu      2431      5          NaN\n",
       "3           ryu       318      5          NaN\n",
       "4           ryu         1      5          NaN"
      ]
     },
     "execution_count": 12,
     "metadata": {},
     "output_type": "execute_result"
    }
   ],
   "source": [
    "# 내가 좋아하시는 영화 5가지 추가(단, 이름은 꼭 데이터셋에 있는 것과 동일)\n",
    "# Mask, Bicentennial Man, Patch Adams, Sawshank Redemption, Toy Story\n",
    "my_favorite = [367, 3156, 2431, 318, 1]\n",
    "\n",
    "# 'ryu'라는 user_id가 위 영화 별점을 5점씩 주었다고 가정\n",
    "my_movielist = pd.DataFrame({'user_id': ['ryu']*5, 'movie_id': my_favorite, 'count':[5]*5})\n",
    "\n",
    "if not ratings.isin({'user_id':['ryu']})['user_id'].any():  # user_id에 'zimin'이라는 데이터가 없다면\n",
    "    ratings = ratings.append(my_movielist)                           # 위에 임의로 만든 my_favorite 데이터를 추가해 줍니다. \n",
    "\n",
    "ratings.tail(10) "
   ]
  },
  {
   "cell_type": "code",
   "execution_count": 13,
   "id": "judicial-senior",
   "metadata": {},
   "outputs": [],
   "source": [
    "# 고유한 유저, 아티스트를 찾아내는 코드\n",
    "user_unique = ratings['user_id'].unique()\n",
    "movie_unique = ratings['movie_id'].unique()\n",
    "\n",
    "# 유저, 아티스트 indexing 하는 코드(idx는 index의 약자)\n",
    "user_to_idx = {v:k for k,v in enumerate(user_unique)}\n",
    "movie_to_idx = {v:k for k,v in enumerate(movie_unique)}"
   ]
  },
  {
   "cell_type": "code",
   "execution_count": 14,
   "id": "covered-division",
   "metadata": {},
   "outputs": [
    {
     "name": "stdout",
     "output_type": "stream",
     "text": [
      "6039\n",
      "458\n"
     ]
    }
   ],
   "source": [
    "# 인덱싱이 잘 되었는지 확인\n",
    "print(user_to_idx['ryu']) \n",
    "print(movie_to_idx[367])"
   ]
  },
  {
   "cell_type": "code",
   "execution_count": 15,
   "id": "crude-queens",
   "metadata": {},
   "outputs": [
    {
     "name": "stdout",
     "output_type": "stream",
     "text": [
      "user_id column indexing OK!!\n",
      "movie column indexing OK!!\n"
     ]
    },
    {
     "data": {
      "text/html": [
       "<div>\n",
       "<style scoped>\n",
       "    .dataframe tbody tr th:only-of-type {\n",
       "        vertical-align: middle;\n",
       "    }\n",
       "\n",
       "    .dataframe tbody tr th {\n",
       "        vertical-align: top;\n",
       "    }\n",
       "\n",
       "    .dataframe thead th {\n",
       "        text-align: right;\n",
       "    }\n",
       "</style>\n",
       "<table border=\"1\" class=\"dataframe\">\n",
       "  <thead>\n",
       "    <tr style=\"text-align: right;\">\n",
       "      <th></th>\n",
       "      <th>user_id</th>\n",
       "      <th>movie_id</th>\n",
       "      <th>count</th>\n",
       "      <th>timestamp</th>\n",
       "    </tr>\n",
       "  </thead>\n",
       "  <tbody>\n",
       "    <tr>\n",
       "      <th>0</th>\n",
       "      <td>0</td>\n",
       "      <td>0</td>\n",
       "      <td>5</td>\n",
       "      <td>978300760.0</td>\n",
       "    </tr>\n",
       "    <tr>\n",
       "      <th>1</th>\n",
       "      <td>0</td>\n",
       "      <td>1</td>\n",
       "      <td>3</td>\n",
       "      <td>978302109.0</td>\n",
       "    </tr>\n",
       "    <tr>\n",
       "      <th>2</th>\n",
       "      <td>0</td>\n",
       "      <td>2</td>\n",
       "      <td>3</td>\n",
       "      <td>978301968.0</td>\n",
       "    </tr>\n",
       "    <tr>\n",
       "      <th>3</th>\n",
       "      <td>0</td>\n",
       "      <td>3</td>\n",
       "      <td>4</td>\n",
       "      <td>978300275.0</td>\n",
       "    </tr>\n",
       "    <tr>\n",
       "      <th>4</th>\n",
       "      <td>0</td>\n",
       "      <td>4</td>\n",
       "      <td>5</td>\n",
       "      <td>978824291.0</td>\n",
       "    </tr>\n",
       "    <tr>\n",
       "      <th>...</th>\n",
       "      <td>...</td>\n",
       "      <td>...</td>\n",
       "      <td>...</td>\n",
       "      <td>...</td>\n",
       "    </tr>\n",
       "    <tr>\n",
       "      <th>0</th>\n",
       "      <td>6039</td>\n",
       "      <td>458</td>\n",
       "      <td>5</td>\n",
       "      <td>NaN</td>\n",
       "    </tr>\n",
       "    <tr>\n",
       "      <th>1</th>\n",
       "      <td>6039</td>\n",
       "      <td>897</td>\n",
       "      <td>5</td>\n",
       "      <td>NaN</td>\n",
       "    </tr>\n",
       "    <tr>\n",
       "      <th>2</th>\n",
       "      <td>6039</td>\n",
       "      <td>640</td>\n",
       "      <td>5</td>\n",
       "      <td>NaN</td>\n",
       "    </tr>\n",
       "    <tr>\n",
       "      <th>3</th>\n",
       "      <td>6039</td>\n",
       "      <td>157</td>\n",
       "      <td>5</td>\n",
       "      <td>NaN</td>\n",
       "    </tr>\n",
       "    <tr>\n",
       "      <th>4</th>\n",
       "      <td>6039</td>\n",
       "      <td>40</td>\n",
       "      <td>5</td>\n",
       "      <td>NaN</td>\n",
       "    </tr>\n",
       "  </tbody>\n",
       "</table>\n",
       "<p>836483 rows × 4 columns</p>\n",
       "</div>"
      ],
      "text/plain": [
       "    user_id  movie_id  count    timestamp\n",
       "0         0         0      5  978300760.0\n",
       "1         0         1      3  978302109.0\n",
       "2         0         2      3  978301968.0\n",
       "3         0         3      4  978300275.0\n",
       "4         0         4      5  978824291.0\n",
       "..      ...       ...    ...          ...\n",
       "0      6039       458      5          NaN\n",
       "1      6039       897      5          NaN\n",
       "2      6039       640      5          NaN\n",
       "3      6039       157      5          NaN\n",
       "4      6039        40      5          NaN\n",
       "\n",
       "[836483 rows x 4 columns]"
      ]
     },
     "execution_count": 15,
     "metadata": {},
     "output_type": "execute_result"
    }
   ],
   "source": [
    "# indexing을 통해 데이터 컬럼 내 값을 바꾸는 코드\n",
    "# user_to_idx.get을 통해 user_id 컬럼의 모든 값을 인덱싱한 Series를 생성\n",
    "# 혹시 정상적으로 인덱싱되지 않은 row가 있다면 인덱스가 NaN이 될 테니 dropna()로 제거 \n",
    "temp_user_data = ratings['user_id'].map(user_to_idx.get).dropna()\n",
    "if len(temp_user_data) == len(ratings):   # 모든 row가 정상적으로 인덱싱되었다면\n",
    "    print('user_id column indexing OK!!')\n",
    "    ratings['user_id'] = temp_user_data   # data['user_id']을 인덱싱된 Series로 교체해 줍니다. \n",
    "else:\n",
    "    print('user_id column indexing Fail!!')\n",
    "\n",
    "# artist_to_idx을 통해 artist 컬럼도 동일한 방식으로 인덱싱해 줍니다. \n",
    "temp_movie_data = ratings['movie_id'].map(movie_to_idx.get).dropna()\n",
    "if len(temp_movie_data) == len(ratings):\n",
    "    print('movie column indexing OK!!')\n",
    "    ratings['movie_id'] = temp_movie_data\n",
    "else:\n",
    "    print('artist column indexing Fail!!')\n",
    "\n",
    "ratings"
   ]
  },
  {
   "cell_type": "markdown",
   "id": "handled-advocate",
   "metadata": {},
   "source": [
    "---"
   ]
  },
  {
   "cell_type": "markdown",
   "id": "raising-citizenship",
   "metadata": {},
   "source": [
    "## 4. CSR matrix를 직접 만들어 봅시다."
   ]
  },
  {
   "cell_type": "code",
   "execution_count": 16,
   "id": "checked-acrylic",
   "metadata": {},
   "outputs": [
    {
     "data": {
      "text/plain": [
       "<6040x3628 sparse matrix of type '<class 'numpy.int64'>'\n",
       "\twith 836483 stored elements in Compressed Sparse Row format>"
      ]
     },
     "execution_count": 16,
     "metadata": {},
     "output_type": "execute_result"
    }
   ],
   "source": [
    "from scipy.sparse import csr_matrix\n",
    "\n",
    "num_user = ratings['user_id'].nunique()\n",
    "num_movie = ratings['movie_id'].nunique()\n",
    "\n",
    "csr_data = csr_matrix((ratings['count'], (ratings.user_id, ratings.movie_id)), shape= (num_user, num_movie))\n",
    "csr_data"
   ]
  },
  {
   "cell_type": "markdown",
   "id": "multiple-specification",
   "metadata": {},
   "source": [
    "---"
   ]
  },
  {
   "cell_type": "markdown",
   "id": "gross-browse",
   "metadata": {},
   "source": [
    "## 5. als_model = AlternatingLeastSquares 모델을 직접 구성하여 훈련시켜 봅시다."
   ]
  },
  {
   "cell_type": "code",
   "execution_count": 17,
   "id": "conventional-detail",
   "metadata": {},
   "outputs": [],
   "source": [
    "from implicit.als import AlternatingLeastSquares\n",
    "import os\n",
    "import numpy as np\n",
    "\n",
    "os.environ['OPENBLAS_NUM_THREADS']='1'\n",
    "os.environ['KMP_DUPLICATE_LIB_OK']='True'\n",
    "os.environ['MKL_NUM_THREADS']='1'"
   ]
  },
  {
   "cell_type": "code",
   "execution_count": 18,
   "id": "antique-shark",
   "metadata": {},
   "outputs": [],
   "source": [
    "# Implicit AlternatingLeastSquares 모델의 선언\n",
    "als_model = AlternatingLeastSquares(factors=100, regularization=0.01, use_gpu=False, iterations=15, dtype=np.float32)"
   ]
  },
  {
   "cell_type": "code",
   "execution_count": 19,
   "id": "backed-duncan",
   "metadata": {},
   "outputs": [
    {
     "data": {
      "text/plain": [
       "<3628x6040 sparse matrix of type '<class 'numpy.int64'>'\n",
       "\twith 836483 stored elements in Compressed Sparse Column format>"
      ]
     },
     "execution_count": 19,
     "metadata": {},
     "output_type": "execute_result"
    }
   ],
   "source": [
    "# als 모델은 input으로 (item X user 꼴의 matrix를 받기 때문에 Transpose해줍니다.)\n",
    "csr_data_transpose = csr_data.T\n",
    "csr_data_transpose"
   ]
  },
  {
   "cell_type": "code",
   "execution_count": 20,
   "id": "smaller-falls",
   "metadata": {},
   "outputs": [
    {
     "data": {
      "application/vnd.jupyter.widget-view+json": {
       "model_id": "596070015dee42c9816b1c9aa21d9730",
       "version_major": 2,
       "version_minor": 0
      },
      "text/plain": [
       "  0%|          | 0/15 [00:00<?, ?it/s]"
      ]
     },
     "metadata": {},
     "output_type": "display_data"
    }
   ],
   "source": [
    "# 모델 훈련\n",
    "als_model.fit(csr_data_transpose)"
   ]
  },
  {
   "cell_type": "markdown",
   "id": "streaming-newman",
   "metadata": {},
   "source": [
    "---"
   ]
  },
  {
   "cell_type": "markdown",
   "id": "endless-zambia",
   "metadata": {},
   "source": [
    "## 6. 내가 선호하는 5가지 영화 중 하나와 그 외의 영화 하나를 골라 훈련된 모델이 예측한 나의 선호도를 파악해 보세요."
   ]
  },
  {
   "cell_type": "code",
   "execution_count": 21,
   "id": "outer-silicon",
   "metadata": {},
   "outputs": [
    {
     "name": "stdout",
     "output_type": "stream",
     "text": [
      "슝=3\n"
     ]
    }
   ],
   "source": [
    "ryu, mask = user_to_idx['ryu'], movie_to_idx[367]\n",
    "ryu_vector, mask_vector = als_model.user_factors[ryu], als_model.item_factors[mask]\n",
    "\n",
    "print('슝=3')"
   ]
  },
  {
   "cell_type": "code",
   "execution_count": 22,
   "id": "enclosed-newton",
   "metadata": {},
   "outputs": [
    {
     "data": {
      "text/plain": [
       "array([-0.03250168, -0.33239338,  0.02734895,  0.5673748 ,  0.09915368,\n",
       "        0.07313435, -0.44740173, -0.4184996 ,  0.41634357, -0.2986773 ,\n",
       "        0.71028453, -0.8038868 , -0.10125992,  1.0061115 ,  0.1427423 ,\n",
       "       -0.58152586,  0.8018944 ,  0.20970438, -0.30614984, -1.1540978 ,\n",
       "       -0.1551555 , -0.5141593 , -0.6650801 ,  0.21219364, -0.5840908 ,\n",
       "        0.11783487,  0.13690001, -0.8074244 ,  0.3745887 ,  0.00151416,\n",
       "       -0.12426305,  0.4286694 , -0.33827177, -0.69006026,  0.17819351,\n",
       "       -0.00434472, -0.19202563,  0.34331474,  0.04626601,  0.35347822,\n",
       "        0.00213561, -0.06484187,  0.11712459,  0.1660869 , -0.20767196,\n",
       "        0.3744184 , -0.49034697, -1.0507869 ,  0.9171917 ,  0.45001763,\n",
       "       -0.38839564,  0.5529213 ,  0.7153131 ,  0.26832056,  0.07955246,\n",
       "        0.7428877 ,  0.02190119,  0.06719157,  0.5519001 ,  0.07449573,\n",
       "        0.07222997, -0.44733295, -0.2273484 ,  0.581011  , -0.42483258,\n",
       "        0.03169282, -0.12765335, -0.5152176 ,  0.19356458,  0.56800556,\n",
       "       -0.15012774, -0.77368826,  0.47383344, -0.34846336,  1.2511497 ,\n",
       "        0.3800417 ,  0.12053667,  0.96516794, -0.20308574, -0.30571178,\n",
       "       -0.61030114, -0.05538667, -0.38191423,  0.444358  ,  0.5666704 ,\n",
       "       -0.22134398,  0.20881829, -0.9100721 ,  0.4436571 ,  0.20545465,\n",
       "        0.2688136 ,  0.6185033 ,  0.28289723,  0.4743731 ,  0.07525588,\n",
       "       -0.58564585, -0.45618662, -1.0715753 ,  0.5406523 ,  0.01697251],\n",
       "      dtype=float32)"
      ]
     },
     "execution_count": 22,
     "metadata": {},
     "output_type": "execute_result"
    }
   ],
   "source": [
    "ryu_vector"
   ]
  },
  {
   "cell_type": "code",
   "execution_count": 23,
   "id": "frequent-caution",
   "metadata": {},
   "outputs": [
    {
     "data": {
      "text/plain": [
       "array([-0.00776891,  0.0071392 , -0.02927606,  0.01287201,  0.00541914,\n",
       "        0.00526082, -0.00844156, -0.0043164 ,  0.03768081, -0.00314535,\n",
       "        0.01331532, -0.02173158,  0.01210265,  0.05259334, -0.01246516,\n",
       "       -0.00582804,  0.03608559,  0.01199155, -0.00994703,  0.01101512,\n",
       "       -0.01335099, -0.02342043, -0.0205692 ,  0.03340985, -0.02006583,\n",
       "        0.00450475,  0.03007813, -0.01133481,  0.03066962,  0.00562671,\n",
       "       -0.00085337,  0.01512153,  0.01171361,  0.00664077,  0.01281094,\n",
       "        0.00195786,  0.00219103,  0.00125375, -0.00619223,  0.01739558,\n",
       "        0.01738763, -0.00831392,  0.01898469,  0.01399371, -0.00512908,\n",
       "        0.01184272,  0.01250628,  0.00056305,  0.04787404,  0.04238459,\n",
       "       -0.0280182 , -0.00587696,  0.0259796 , -0.00863094,  0.01042614,\n",
       "        0.02957048,  0.02615052, -0.00402154, -0.00325803,  0.01392642,\n",
       "       -0.00055996,  0.01701979,  0.0011035 ,  0.00058445, -0.01757204,\n",
       "       -0.00882494, -0.0045285 , -0.01638867, -0.00280655, -0.01167524,\n",
       "        0.00102808, -0.00618766,  0.02099466,  0.00794108,  0.00291209,\n",
       "        0.04104102,  0.00746617,  0.02115788,  0.03364835, -0.00824769,\n",
       "       -0.00627694,  0.01078342, -0.00517151, -0.00361223,  0.02876777,\n",
       "       -0.00456248,  0.01247969,  0.00176833, -0.00898223,  0.01506662,\n",
       "        0.0065717 ,  0.00736785,  0.00327131,  0.00808271,  0.0125446 ,\n",
       "        0.01322631, -0.01514305,  0.00311846,  0.01455829,  0.00354503],\n",
       "      dtype=float32)"
      ]
     },
     "execution_count": 23,
     "metadata": {},
     "output_type": "execute_result"
    }
   ],
   "source": [
    "mask_vector"
   ]
  },
  {
   "cell_type": "code",
   "execution_count": 24,
   "id": "illegal-kazakhstan",
   "metadata": {},
   "outputs": [
    {
     "data": {
      "text/plain": [
       "0.40706974"
      ]
     },
     "execution_count": 24,
     "metadata": {},
     "output_type": "execute_result"
    }
   ],
   "source": [
    "# 내가 선호하는 5가지 영화 중 하나\n",
    "# ryu과 mask를 내적하는 코드\n",
    "np.dot(ryu_vector, mask_vector)"
   ]
  },
  {
   "cell_type": "code",
   "execution_count": 25,
   "id": "spare-despite",
   "metadata": {},
   "outputs": [
    {
     "data": {
      "text/plain": [
       "0.026015326"
      ]
     },
     "execution_count": 25,
     "metadata": {},
     "output_type": "execute_result"
    }
   ],
   "source": [
    "# 내가 선호하지 않았던 영화 중 하나\n",
    "# ryu과 screamers를 내적하는 코드\n",
    "screamers = movie_to_idx[76]\n",
    "screamers_vector = als_model.item_factors[screamers]\n",
    "np.dot(ryu_vector, screamers_vector)"
   ]
  },
  {
   "cell_type": "markdown",
   "id": "burning-unemployment",
   "metadata": {},
   "source": [
    "---"
   ]
  },
  {
   "cell_type": "markdown",
   "id": "formal-finance",
   "metadata": {},
   "source": [
    "## 7. 내가 좋아하는 영화와 비슷한 영화를 추천받아 봅시다."
   ]
  },
  {
   "cell_type": "code",
   "execution_count": 26,
   "id": "frozen-reputation",
   "metadata": {},
   "outputs": [
    {
     "data": {
      "text/plain": [
       "[(40, 1.0),\n",
       " (50, 0.8266804),\n",
       " (4, 0.614899),\n",
       " (322, 0.57426465),\n",
       " (33, 0.56623703),\n",
       " (110, 0.53076977),\n",
       " (330, 0.4560852),\n",
       " (20, 0.45240897),\n",
       " (10, 0.43398336),\n",
       " (255, 0.42288846),\n",
       " (126, 0.39166278),\n",
       " (32, 0.37269238),\n",
       " (34, 0.3553485),\n",
       " (160, 0.34717628),\n",
       " (16, 0.34438887)]"
      ]
     },
     "execution_count": 26,
     "metadata": {},
     "output_type": "execute_result"
    }
   ],
   "source": [
    "movie_id = movie_to_idx[1]\n",
    "similar_movie = als_model.similar_items(movie_id, N=15)\n",
    "similar_movie"
   ]
  },
  {
   "cell_type": "code",
   "execution_count": 28,
   "id": "automotive-receptor",
   "metadata": {},
   "outputs": [
    {
     "data": {
      "text/plain": [
       "[['Toy Story (1995)', 40],\n",
       " ['Toy Story 2 (1999)', 50],\n",
       " [\"Bug's Life, A (1998)\", 4],\n",
       " ['Babe (1995)', 322],\n",
       " ['Aladdin (1992)', 33],\n",
       " ['Groundhog Day (1993)', 110],\n",
       " ['Lion King, The (1994)', 330],\n",
       " ['Pleasantville (1998)', 20],\n",
       " ['Beauty and the Beast (1991)', 10],\n",
       " [\"There's Something About Mary (1998)\", 255],\n",
       " ['Shakespeare in Love (1998)', 126],\n",
       " ['Hercules (1997)', 32],\n",
       " ['Mulan (1998)', 34],\n",
       " ['Forrest Gump (1994)', 160],\n",
       " ['Tarzan (1999)', 16]]"
      ]
     },
     "execution_count": 28,
     "metadata": {},
     "output_type": "execute_result"
    }
   ],
   "source": [
    "idx_to_movie = {v:k for k,v in movie_to_idx.items()}\n",
    "[[movie_to_title[idx_to_movie[i[0]]], i[0]] for i in similar_movie]"
   ]
  },
  {
   "cell_type": "code",
   "execution_count": 29,
   "id": "vocal-edward",
   "metadata": {},
   "outputs": [
    {
     "name": "stdout",
     "output_type": "stream",
     "text": [
      "슝=3\n"
     ]
    }
   ],
   "source": [
    "# 반복 확인을 위한 함수 생성\n",
    "def get_similar_movie(movie_name: int):\n",
    "    movie_id = movie_to_idx[movie_name]\n",
    "    similar_movie = als_model.similar_items(movie_id)\n",
    "    similar_movie = [idx_to_movie[i[0]] for i in similar_movie]\n",
    "    similar_movie = [movie_to_title[i] for i in similar_movie]\n",
    "    return similar_movie\n",
    "\n",
    "print(\"슝=3\")"
   ]
  },
  {
   "cell_type": "code",
   "execution_count": 30,
   "id": "exclusive-veteran",
   "metadata": {},
   "outputs": [
    {
     "data": {
      "text/plain": [
       "['Shawshank Redemption, The (1994)',\n",
       " 'Silence of the Lambs, The (1991)',\n",
       " \"Schindler's List (1993)\",\n",
       " 'Good Will Hunting (1997)',\n",
       " 'Pulp Fiction (1994)',\n",
       " 'Fargo (1996)',\n",
       " 'GoodFellas (1990)',\n",
       " 'Dead Man Walking (1995)',\n",
       " 'Saving Private Ryan (1998)',\n",
       " 'Usual Suspects, The (1995)']"
      ]
     },
     "execution_count": 30,
     "metadata": {},
     "output_type": "execute_result"
    }
   ],
   "source": [
    "# 내가 좋아하는 다른 영화 \"쇼생크 탈출\"로 확인\n",
    "get_similar_movie(318)"
   ]
  },
  {
   "cell_type": "code",
   "execution_count": 31,
   "id": "breeding-balloon",
   "metadata": {},
   "outputs": [
    {
     "data": {
      "text/plain": [
       "['Bride of the Monster (1956)',\n",
       " 'It Came from Beneath the Sea (1955)',\n",
       " 'Mole People, The (1956)',\n",
       " 'It Came from Outer Space (1953)',\n",
       " 'Tarantula (1955)',\n",
       " 'House of Dracula (1945)',\n",
       " 'Quatermass II (1957)',\n",
       " 'Son of Frankenstein (1939)',\n",
       " 'Hideous Sun Demon, The (1959)',\n",
       " 'Thing From Another World, The (1951)']"
      ]
     },
     "execution_count": 31,
     "metadata": {},
     "output_type": "execute_result"
    }
   ],
   "source": [
    "# 특정 장르(호러)로 확인\n",
    "get_similar_movie(3340)"
   ]
  },
  {
   "cell_type": "markdown",
   "id": "involved-orchestra",
   "metadata": {},
   "source": [
    "---"
   ]
  },
  {
   "cell_type": "markdown",
   "id": "lesbian-commons",
   "metadata": {},
   "source": [
    "## 8. 내가 가장 좋아할 만한 영화들을 추천받아 봅시다."
   ]
  },
  {
   "cell_type": "code",
   "execution_count": 32,
   "id": "established-moses",
   "metadata": {},
   "outputs": [
    {
     "data": {
      "text/plain": [
       "[(50, 0.51690996),\n",
       " (4, 0.39958698),\n",
       " (23, 0.29751894),\n",
       " (248, 0.29224402),\n",
       " (48, 0.29125494),\n",
       " (81, 0.26859266),\n",
       " (121, 0.26078665),\n",
       " (545, 0.24611808),\n",
       " (322, 0.24385221),\n",
       " (812, 0.24205112),\n",
       " (51, 0.22752583),\n",
       " (222, 0.2243658),\n",
       " (110, 0.21319458),\n",
       " (450, 0.20317262),\n",
       " (85, 0.18476728),\n",
       " (139, 0.18277906),\n",
       " (269, 0.18200357),\n",
       " (513, 0.18059345),\n",
       " (626, 0.18026799),\n",
       " (33, 0.17907253)]"
      ]
     },
     "execution_count": 32,
     "metadata": {},
     "output_type": "execute_result"
    }
   ],
   "source": [
    "user = user_to_idx['ryu']\n",
    "# recommend에서는 user*item CSR Matrix를 받습니다.\n",
    "movie_recommended = als_model.recommend(user, csr_data, N=20, filter_already_liked_items=True)\n",
    "movie_recommended"
   ]
  },
  {
   "cell_type": "code",
   "execution_count": 33,
   "id": "split-foundation",
   "metadata": {},
   "outputs": [
    {
     "data": {
      "text/plain": [
       "[['Toy Story 2 (1999)', 50],\n",
       " [\"Bug's Life, A (1998)\", 4],\n",
       " [\"Schindler's List (1993)\", 23],\n",
       " ['Good Will Hunting (1997)', 248],\n",
       " ['Saving Private Ryan (1998)', 48],\n",
       " ['Green Mile, The (1999)', 81],\n",
       " ['Silence of the Lambs, The (1991)', 121],\n",
       " ['Santa Clause, The (1994)', 545],\n",
       " ['Babe (1995)', 322],\n",
       " ['Nutty Professor, The (1996)', 812],\n",
       " ['Fargo (1996)', 51],\n",
       " ['Pulp Fiction (1994)', 222],\n",
       " ['Groundhog Day (1993)', 110],\n",
       " ['Life Is Beautiful (La Vita è bella) (1997)', 450],\n",
       " ['League of Their Own, A (1992)', 85],\n",
       " ['October Sky (1999)', 139],\n",
       " ['GoodFellas (1990)', 269],\n",
       " ['Jumanji (1995)', 513],\n",
       " [\"You've Got Mail (1998)\", 626],\n",
       " ['Aladdin (1992)', 33]]"
      ]
     },
     "execution_count": 33,
     "metadata": {},
     "output_type": "execute_result"
    }
   ],
   "source": [
    "[[movie_to_title[idx_to_movie[i[0]]],i[0]] for i in movie_recommended]"
   ]
  },
  {
   "cell_type": "code",
   "execution_count": 34,
   "id": "engaged-links",
   "metadata": {},
   "outputs": [],
   "source": [
    "glass_bottom_boat = movie_to_idx[3144]\n",
    "explain = als_model.explain(user, csr_data, itemid=glass_bottom_boat)"
   ]
  },
  {
   "cell_type": "code",
   "execution_count": 36,
   "id": "brutal-laundry",
   "metadata": {},
   "outputs": [
    {
     "data": {
      "text/plain": [
       "[(2431, 0.01554583337160987),\n",
       " (1, -0.0004748165193719286),\n",
       " (318, -0.0021620350034421906),\n",
       " (3156, -0.0039290056052668325),\n",
       " (367, -0.006776902196134611)]"
      ]
     },
     "execution_count": 36,
     "metadata": {},
     "output_type": "execute_result"
    }
   ],
   "source": [
    "[(idx_to_movie[i[0]], i[1]) for i in explain[1]]\n",
    "# [[movie_to_title[idx_to_movie[i[0]]], i[0]] for i in explain[1]]"
   ]
  },
  {
   "cell_type": "markdown",
   "id": "spiritual-daughter",
   "metadata": {},
   "source": [
    "---"
   ]
  },
  {
   "cell_type": "markdown",
   "id": "adjacent-enclosure",
   "metadata": {},
   "source": [
    "### 루브릭 평가"
   ]
  },
  {
   "cell_type": "markdown",
   "id": "cordless-paper",
   "metadata": {},
   "source": [
    "__1. CSR matrix가 정상적으로 만들어졌다.__  \n",
    "_(사용자와 아이템 개수를 바탕으로 정확한 사이즈로 만들었다.)_"
   ]
  },
  {
   "cell_type": "markdown",
   "id": "sorted-chest",
   "metadata": {},
   "source": [
    "- 6040x3628로 정상적으로 만들어졌다."
   ]
  },
  {
   "cell_type": "markdown",
   "id": "informal-snapshot",
   "metadata": {},
   "source": [
    "__2. MF 모델이 정상적으로 훈련되어 그럴듯한 추천이 이루어졌다.__  \n",
    "_(사용자와 아이템 벡터 내적수치가 의미있게 형성되었다.)_"
   ]
  },
  {
   "cell_type": "markdown",
   "id": "complex-third",
   "metadata": {},
   "source": [
    "- 내가 좋아하는 영화(mask)의 내적수치 : 0.40706974\n",
    "- 내가 좋아하지 않는 영화(scream)의 내적수치 : 0.026015326\n",
    "- 좋아하는 영화가 1이 나오지는 않았지만 좋아하지 않는 영화보다 월등히 높게 나왔다."
   ]
  },
  {
   "cell_type": "markdown",
   "id": "complimentary-donna",
   "metadata": {},
   "source": [
    "__3. 비슷한 영화찾기와 유저에게 추천하기의 과정이 정상적으로 진행되었다.__  \n",
    "_(MF모델이 예측한 유저 선호도 및 아이템간 유사도, 기여도가 의미있게 측정되었다.)_"
   ]
  },
  {
   "cell_type": "markdown",
   "id": "bright-nurse",
   "metadata": {},
   "source": [
    "- 내적 수치 또는 추천된 영화를 보았을 때 유사도가 높아 보이나, 기여도 측면에서 매우 낮게 측정되거나 마이너스 값을 보여 측정에 정확도에 대하여 의구심이 든다."
   ]
  },
  {
   "cell_type": "markdown",
   "id": "rising-trademark",
   "metadata": {},
   "source": [
    "---"
   ]
  },
  {
   "cell_type": "markdown",
   "id": "cooperative-bernard",
   "metadata": {},
   "source": [
    "## 회고"
   ]
  },
  {
   "cell_type": "markdown",
   "id": "authorized-myanmar",
   "metadata": {},
   "source": [
    "__1. 프로젝트 진행시 어려웠던 점__"
   ]
  },
  {
   "cell_type": "markdown",
   "id": "imported-quarter",
   "metadata": {},
   "source": [
    "- 영화 아이디와 영화 이름를 연결하는 데이터 전처리"
   ]
  },
  {
   "cell_type": "markdown",
   "id": "smaller-truth",
   "metadata": {},
   "source": [
    "__2. 프로젝트를 진행하면서 알아낸 점 또는 아직 모호한 점__"
   ]
  },
  {
   "cell_type": "markdown",
   "id": "adjusted-kazakhstan",
   "metadata": {},
   "source": [
    "- 기여도가 정삭적으로 측정된 것인가?\n",
    "- 만약 맞다면 왜 저렇게 나왔는가?"
   ]
  },
  {
   "cell_type": "markdown",
   "id": "ranging-harvey",
   "metadata": {},
   "source": [
    "__3. 루브릭 평가 지표를 맞추기 위해 시도한 점__"
   ]
  },
  {
   "cell_type": "markdown",
   "id": "collective-disabled",
   "metadata": {},
   "source": [
    "- 기여도를 높이기 위해 비슷한 장르의 영화를 선택했지만 해결하지 못했다."
   ]
  },
  {
   "cell_type": "markdown",
   "id": "respected-adobe",
   "metadata": {},
   "source": [
    "__4. 루브릭 평가 지표를 달성하지 못한 이유__"
   ]
  },
  {
   "cell_type": "markdown",
   "id": "funny-scheduling",
   "metadata": {},
   "source": [
    "- 기여도가 어떻게 작용되는지 이해하지 못한 것 같다."
   ]
  },
  {
   "cell_type": "markdown",
   "id": "demographic-scout",
   "metadata": {},
   "source": [
    "__5. 프로젝트 진행 후 느낀 점 및 다짐__"
   ]
  },
  {
   "cell_type": "markdown",
   "id": "valuable-michigan",
   "metadata": {},
   "source": [
    "- 데이더 전처리 과정의 중요성을 다시 느꼈다.\n",
    "- 넘파이나 판다스 등 기본적인 부분을 다시 공부해야 겠다."
   ]
  }
 ],
 "metadata": {
  "kernelspec": {
   "display_name": "aiffel",
   "language": "python",
   "name": "aiffel"
  },
  "language_info": {
   "codemirror_mode": {
    "name": "ipython",
    "version": 3
   },
   "file_extension": ".py",
   "mimetype": "text/x-python",
   "name": "python",
   "nbconvert_exporter": "python",
   "pygments_lexer": "ipython3",
   "version": "3.7.9"
  }
 },
 "nbformat": 4,
 "nbformat_minor": 5
}
